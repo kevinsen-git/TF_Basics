{
  "nbformat": 4,
  "nbformat_minor": 0,
  "metadata": {
    "colab": {
      "name": "03_Modelling_Medical_Cost_data.ipynb",
      "provenance": [],
      "authorship_tag": "ABX9TyMQyZhI3XLxwUkulCXivYVQ",
      "include_colab_link": true
    },
    "kernelspec": {
      "name": "python3",
      "display_name": "Python 3"
    },
    "language_info": {
      "name": "python"
    }
  },
  "cells": [
    {
      "cell_type": "markdown",
      "metadata": {
        "id": "view-in-github",
        "colab_type": "text"
      },
      "source": [
        "<a href=\"https://colab.research.google.com/github/kevinsen-git/TF_Basics/blob/main/03_Modelling_Medical_Cost_data.ipynb\" target=\"_parent\"><img src=\"https://colab.research.google.com/assets/colab-badge.svg\" alt=\"Open In Colab\"/></a>"
      ]
    },
    {
      "cell_type": "markdown",
      "metadata": {
        "id": "Dvozjgj_FWPE"
      },
      "source": [
        "##Modelling Medical Cost data\n",
        "Lets do a regression anlaysis - from a Kaggle Dataset \n",
        "\n",
        "Dataset Description and Download \n",
        "https://www.kaggle.com/mirichoi0218/insurance/activity\n",
        "\n",
        "A good Analysis based on R \n",
        "https://www.kaggle.com/goksunazlican/analysis-of-medical-cost-personal-datasets\n",
        "\n",
        "A cracker based on Python - must read \n",
        "https://www.kaggle.com/asifpervezpolok/insurance-cost-prediction-88-1-r2-score\n",
        "\n",
        "Lots of cool Graphics \n",
        "Lots of cool stats analysis \n",
        "Standard models \n",
        "Uses SikitLearn \n",
        "\n"
      ]
    },
    {
      "cell_type": "code",
      "metadata": {
        "id": "2eDrkzX4GEJG"
      },
      "source": [
        ""
      ],
      "execution_count": null,
      "outputs": []
    }
  ]
}