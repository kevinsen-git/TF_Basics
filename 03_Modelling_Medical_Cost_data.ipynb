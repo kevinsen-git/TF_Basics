{
  "nbformat": 4,
  "nbformat_minor": 0,
  "metadata": {
    "colab": {
      "name": "03_Modelling_Medical_Cost_data.ipynb",
      "provenance": [],
      "toc_visible": true,
      "authorship_tag": "ABX9TyPTI9u3dzG5R4e9Bql3Ly0Z",
      "include_colab_link": true
    },
    "kernelspec": {
      "name": "python3",
      "display_name": "Python 3"
    },
    "language_info": {
      "name": "python"
    }
  },
  "cells": [
    {
      "cell_type": "markdown",
      "metadata": {
        "id": "view-in-github",
        "colab_type": "text"
      },
      "source": [
        "<a href=\"https://colab.research.google.com/github/kevinsen-git/TF_Basics/blob/main/03_Modelling_Medical_Cost_data.ipynb\" target=\"_parent\"><img src=\"https://colab.research.google.com/assets/colab-badge.svg\" alt=\"Open In Colab\"/></a>"
      ]
    },
    {
      "cell_type": "markdown",
      "metadata": {
        "id": "Dvozjgj_FWPE"
      },
      "source": [
        "##Modelling Medical Cost data\n",
        "Lets do a regression anlaysis - from a Kaggle Dataset \n",
        "\n",
        "Dataset Description and Download \n",
        "https://www.kaggle.com/mirichoi0218/insurance/activity\n",
        "\n",
        "Gitub url for direct download\n",
        "https://raw.githubusercontent.com/stedy/Machine-Learning-with-R-datasets/master/insurance.csv\n",
        "\n",
        "A good Analysis based on R \n",
        "https://www.kaggle.com/goksunazlican/analysis-of-medical-cost-personal-datasets\n",
        "\n",
        "A cracker based on Python - must read \n",
        "https://www.kaggle.com/asifpervezpolok/insurance-cost-prediction-88-1-r2-score\n",
        "\n",
        "Lots of cool Graphics \n",
        "Lots of cool stats analysis \n",
        "Standard models \n",
        "Uses SikitLearn \n",
        "\n"
      ]
    },
    {
      "cell_type": "code",
      "metadata": {
        "id": "2eDrkzX4GEJG"
      },
      "source": [
        "# Standadrd Imports\n",
        "import tensorflow as tf\n",
        "import numpy as np\n",
        "import pandas as pd\n",
        "import matplotlib.pyplot as plt \n",
        "\n",
        "from sklearn.model_selection import train_test_split \n"
      ],
      "execution_count": 19,
      "outputs": []
    },
    {
      "cell_type": "code",
      "metadata": {
        "id": "ImnzObhi7_l6"
      },
      "source": [
        "#https://raw.githubusercontent.com/stedy/Machine-Learning-with-R-datasets/master/insurance.csv\n",
        "insurance = pd.read_csv(\"https://raw.githubusercontent.com/stedy/Machine-Learning-with-R-datasets/master/insurance.csv\")\n",
        "insurance\n"
      ],
      "execution_count": null,
      "outputs": []
    },
    {
      "cell_type": "code",
      "metadata": {
        "colab": {
          "base_uri": "https://localhost:8080/"
        },
        "id": "Cc6FoGEe8dPo",
        "outputId": "a478be2f-b107-4cc4-e2f3-596f3ac54cbe"
      },
      "source": [
        "insurance[\"age\"], insurance[\"sex\"]\n",
        "# Note the type object "
      ],
      "execution_count": 9,
      "outputs": [
        {
          "output_type": "execute_result",
          "data": {
            "text/plain": [
              "(0       19\n",
              " 1       18\n",
              " 2       28\n",
              " 3       33\n",
              " 4       32\n",
              "         ..\n",
              " 1333    50\n",
              " 1334    18\n",
              " 1335    18\n",
              " 1336    21\n",
              " 1337    61\n",
              " Name: age, Length: 1338, dtype: int64, 0       female\n",
              " 1         male\n",
              " 2         male\n",
              " 3         male\n",
              " 4         male\n",
              "          ...  \n",
              " 1333      male\n",
              " 1334    female\n",
              " 1335    female\n",
              " 1336    female\n",
              " 1337    female\n",
              " Name: sex, Length: 1338, dtype: object)"
            ]
          },
          "metadata": {},
          "execution_count": 9
        }
      ]
    },
    {
      "cell_type": "markdown",
      "metadata": {
        "id": "-OQlFcJ3_lAw"
      },
      "source": [
        "## One Hot Encoding \n",
        "### Categorical / Ordinal Variables \n",
        "This affects correlation calculations\n",
        "For numeric to numeric use Speraman's Correlation \n",
        "For Categorical to Numeric use polyserial correlations\n",
        "For Categorical to Categorical use polychoric correlations "
      ]
    },
    {
      "cell_type": "code",
      "metadata": {
        "colab": {
          "base_uri": "https://localhost:8080/",
          "height": 408
        },
        "id": "RAA3sVig_ViY",
        "outputId": "bcd9eec7-9370-4ba5-c29b-2627ceb21490"
      },
      "source": [
        "# Need to turn all the categorical variables into numerics\n",
        "# One way is to use one hot encodeing \n",
        "# Can use from sklearn.preprocessing import OneHotEncoder\n",
        "# OR pandas get_dummies\n",
        "insurance_onehot=pd.get_dummies(insurance)\n",
        "insurance_onehot\n",
        "\n",
        "# A few things to note\n",
        "# It does ALL the categorical columns automatically \n",
        "# It add the one hot encoded columns at the end \n",
        "# It automatically removes the original variable \n",
        "# Had 7 columns - sex = 2 region = 4 smoker = 2 = 8 new - take away 3 original - 5 new - now 12 columns\n",
        "#\n",
        "# Also note the index column - may have to remove that before passing to neural network ?\n",
        "# Check the impact of above ? \n",
        "\n"
      ],
      "execution_count": 15,
      "outputs": [
        {
          "output_type": "execute_result",
          "data": {
            "text/html": [
              "<div>\n",
              "<style scoped>\n",
              "    .dataframe tbody tr th:only-of-type {\n",
              "        vertical-align: middle;\n",
              "    }\n",
              "\n",
              "    .dataframe tbody tr th {\n",
              "        vertical-align: top;\n",
              "    }\n",
              "\n",
              "    .dataframe thead th {\n",
              "        text-align: right;\n",
              "    }\n",
              "</style>\n",
              "<table border=\"1\" class=\"dataframe\">\n",
              "  <thead>\n",
              "    <tr style=\"text-align: right;\">\n",
              "      <th></th>\n",
              "      <th>age</th>\n",
              "      <th>bmi</th>\n",
              "      <th>children</th>\n",
              "      <th>charges</th>\n",
              "      <th>sex_female</th>\n",
              "      <th>sex_male</th>\n",
              "      <th>smoker_no</th>\n",
              "      <th>smoker_yes</th>\n",
              "      <th>region_northeast</th>\n",
              "      <th>region_northwest</th>\n",
              "      <th>region_southeast</th>\n",
              "      <th>region_southwest</th>\n",
              "    </tr>\n",
              "  </thead>\n",
              "  <tbody>\n",
              "    <tr>\n",
              "      <th>0</th>\n",
              "      <td>19</td>\n",
              "      <td>27.900</td>\n",
              "      <td>0</td>\n",
              "      <td>16884.92400</td>\n",
              "      <td>1</td>\n",
              "      <td>0</td>\n",
              "      <td>0</td>\n",
              "      <td>1</td>\n",
              "      <td>0</td>\n",
              "      <td>0</td>\n",
              "      <td>0</td>\n",
              "      <td>1</td>\n",
              "    </tr>\n",
              "    <tr>\n",
              "      <th>1</th>\n",
              "      <td>18</td>\n",
              "      <td>33.770</td>\n",
              "      <td>1</td>\n",
              "      <td>1725.55230</td>\n",
              "      <td>0</td>\n",
              "      <td>1</td>\n",
              "      <td>1</td>\n",
              "      <td>0</td>\n",
              "      <td>0</td>\n",
              "      <td>0</td>\n",
              "      <td>1</td>\n",
              "      <td>0</td>\n",
              "    </tr>\n",
              "    <tr>\n",
              "      <th>2</th>\n",
              "      <td>28</td>\n",
              "      <td>33.000</td>\n",
              "      <td>3</td>\n",
              "      <td>4449.46200</td>\n",
              "      <td>0</td>\n",
              "      <td>1</td>\n",
              "      <td>1</td>\n",
              "      <td>0</td>\n",
              "      <td>0</td>\n",
              "      <td>0</td>\n",
              "      <td>1</td>\n",
              "      <td>0</td>\n",
              "    </tr>\n",
              "    <tr>\n",
              "      <th>3</th>\n",
              "      <td>33</td>\n",
              "      <td>22.705</td>\n",
              "      <td>0</td>\n",
              "      <td>21984.47061</td>\n",
              "      <td>0</td>\n",
              "      <td>1</td>\n",
              "      <td>1</td>\n",
              "      <td>0</td>\n",
              "      <td>0</td>\n",
              "      <td>1</td>\n",
              "      <td>0</td>\n",
              "      <td>0</td>\n",
              "    </tr>\n",
              "    <tr>\n",
              "      <th>4</th>\n",
              "      <td>32</td>\n",
              "      <td>28.880</td>\n",
              "      <td>0</td>\n",
              "      <td>3866.85520</td>\n",
              "      <td>0</td>\n",
              "      <td>1</td>\n",
              "      <td>1</td>\n",
              "      <td>0</td>\n",
              "      <td>0</td>\n",
              "      <td>1</td>\n",
              "      <td>0</td>\n",
              "      <td>0</td>\n",
              "    </tr>\n",
              "    <tr>\n",
              "      <th>...</th>\n",
              "      <td>...</td>\n",
              "      <td>...</td>\n",
              "      <td>...</td>\n",
              "      <td>...</td>\n",
              "      <td>...</td>\n",
              "      <td>...</td>\n",
              "      <td>...</td>\n",
              "      <td>...</td>\n",
              "      <td>...</td>\n",
              "      <td>...</td>\n",
              "      <td>...</td>\n",
              "      <td>...</td>\n",
              "    </tr>\n",
              "    <tr>\n",
              "      <th>1333</th>\n",
              "      <td>50</td>\n",
              "      <td>30.970</td>\n",
              "      <td>3</td>\n",
              "      <td>10600.54830</td>\n",
              "      <td>0</td>\n",
              "      <td>1</td>\n",
              "      <td>1</td>\n",
              "      <td>0</td>\n",
              "      <td>0</td>\n",
              "      <td>1</td>\n",
              "      <td>0</td>\n",
              "      <td>0</td>\n",
              "    </tr>\n",
              "    <tr>\n",
              "      <th>1334</th>\n",
              "      <td>18</td>\n",
              "      <td>31.920</td>\n",
              "      <td>0</td>\n",
              "      <td>2205.98080</td>\n",
              "      <td>1</td>\n",
              "      <td>0</td>\n",
              "      <td>1</td>\n",
              "      <td>0</td>\n",
              "      <td>1</td>\n",
              "      <td>0</td>\n",
              "      <td>0</td>\n",
              "      <td>0</td>\n",
              "    </tr>\n",
              "    <tr>\n",
              "      <th>1335</th>\n",
              "      <td>18</td>\n",
              "      <td>36.850</td>\n",
              "      <td>0</td>\n",
              "      <td>1629.83350</td>\n",
              "      <td>1</td>\n",
              "      <td>0</td>\n",
              "      <td>1</td>\n",
              "      <td>0</td>\n",
              "      <td>0</td>\n",
              "      <td>0</td>\n",
              "      <td>1</td>\n",
              "      <td>0</td>\n",
              "    </tr>\n",
              "    <tr>\n",
              "      <th>1336</th>\n",
              "      <td>21</td>\n",
              "      <td>25.800</td>\n",
              "      <td>0</td>\n",
              "      <td>2007.94500</td>\n",
              "      <td>1</td>\n",
              "      <td>0</td>\n",
              "      <td>1</td>\n",
              "      <td>0</td>\n",
              "      <td>0</td>\n",
              "      <td>0</td>\n",
              "      <td>0</td>\n",
              "      <td>1</td>\n",
              "    </tr>\n",
              "    <tr>\n",
              "      <th>1337</th>\n",
              "      <td>61</td>\n",
              "      <td>29.070</td>\n",
              "      <td>0</td>\n",
              "      <td>29141.36030</td>\n",
              "      <td>1</td>\n",
              "      <td>0</td>\n",
              "      <td>0</td>\n",
              "      <td>1</td>\n",
              "      <td>0</td>\n",
              "      <td>1</td>\n",
              "      <td>0</td>\n",
              "      <td>0</td>\n",
              "    </tr>\n",
              "  </tbody>\n",
              "</table>\n",
              "<p>1338 rows × 12 columns</p>\n",
              "</div>"
            ],
            "text/plain": [
              "      age     bmi  ...  region_southeast  region_southwest\n",
              "0      19  27.900  ...                 0                 1\n",
              "1      18  33.770  ...                 1                 0\n",
              "2      28  33.000  ...                 1                 0\n",
              "3      33  22.705  ...                 0                 0\n",
              "4      32  28.880  ...                 0                 0\n",
              "...   ...     ...  ...               ...               ...\n",
              "1333   50  30.970  ...                 0                 0\n",
              "1334   18  31.920  ...                 0                 0\n",
              "1335   18  36.850  ...                 1                 0\n",
              "1336   21  25.800  ...                 0                 1\n",
              "1337   61  29.070  ...                 0                 0\n",
              "\n",
              "[1338 rows x 12 columns]"
            ]
          },
          "metadata": {},
          "execution_count": 15
        }
      ]
    },
    {
      "cell_type": "markdown",
      "metadata": {
        "id": "05TzPdRZBSUw"
      },
      "source": [
        "## Prepare training and test data\n",
        "### Drop charges from main data frame to make X \n",
        "### Just take charges from main data set to make y \n"
      ]
    },
    {
      "cell_type": "code",
      "metadata": {
        "colab": {
          "base_uri": "https://localhost:8080/"
        },
        "id": "lfVQIX3eQKay",
        "outputId": "f11eab5b-807b-4e23-b733-2821ae821668"
      },
      "source": [
        "X = insurance_onehot.drop(\"charges\", axis=1)\n",
        "y = insurance_onehot[\"charges\"]\n",
        "# Note the [] to reference an element  and () to reference a funMBction \n",
        "X.head(), y.head()\n",
        "# X = feature matrix, y = label vector "
      ],
      "execution_count": 18,
      "outputs": [
        {
          "output_type": "execute_result",
          "data": {
            "text/plain": [
              "(   age     bmi  children  ...  region_northwest  region_southeast  region_southwest\n",
              " 0   19  27.900         0  ...                 0                 0                 1\n",
              " 1   18  33.770         1  ...                 0                 1                 0\n",
              " 2   28  33.000         3  ...                 0                 1                 0\n",
              " 3   33  22.705         0  ...                 1                 0                 0\n",
              " 4   32  28.880         0  ...                 1                 0                 0\n",
              " \n",
              " [5 rows x 11 columns], 0    16884.92400\n",
              " 1     1725.55230\n",
              " 2     4449.46200\n",
              " 3    21984.47061\n",
              " 4     3866.85520\n",
              " Name: charges, dtype: float64)"
            ]
          },
          "metadata": {},
          "execution_count": 18
        }
      ]
    },
    {
      "cell_type": "code",
      "metadata": {
        "colab": {
          "base_uri": "https://localhost:8080/"
        },
        "id": "wr-6tGDsTF0e",
        "outputId": "07f16cdc-dc83-4a04-f5a0-3a93e7fa13e4"
      },
      "source": [
        "# Scikit Learn sklearn.model_selection.train_test_split \n",
        "from sklearn.model_selection import train_test_split\n",
        "# The split ration is \"how much to leave for testing\" - so 0.3 meane 30% \n",
        "# Also set the random state so everything is reproducable o/w it will differ from run to run \n",
        "X_train, X_test, y_train, y_test = train_test_split(X, y, test_size=0.2, random_state=42)\n",
        "print(X_train.head(), X_test.head(), y_train.head(), y_test.head())\n",
        "print(X_train.count(),X_test.count(),y_train.count(),y_test.count())\n",
        "print(len(X_train),len(X_test),len(y_train), len(y_test))\n",
        "\n"
      ],
      "execution_count": 27,
      "outputs": [
        {
          "output_type": "stream",
          "name": "stdout",
          "text": [
            "      age    bmi  ...  region_southeast  region_southwest\n",
            "560    46  19.95  ...                 0                 0\n",
            "1285   47  24.32  ...                 0                 0\n",
            "1142   52  24.86  ...                 1                 0\n",
            "969    39  34.32  ...                 1                 0\n",
            "486    54  21.47  ...                 0                 0\n",
            "\n",
            "[5 rows x 11 columns]       age     bmi  ...  region_southeast  region_southwest\n",
            "764    45  25.175  ...                 0                 0\n",
            "887    36  30.020  ...                 0                 0\n",
            "890    64  26.885  ...                 0                 0\n",
            "1293   46  25.745  ...                 0                 0\n",
            "259    19  31.920  ...                 0                 0\n",
            "\n",
            "[5 rows x 11 columns] 560      9193.83850\n",
            "1285     8534.67180\n",
            "1142    27117.99378\n",
            "969      8596.82780\n",
            "486     12475.35130\n",
            "Name: charges, dtype: float64 764      9095.06825\n",
            "887      5272.17580\n",
            "890     29330.98315\n",
            "1293     9301.89355\n",
            "259     33750.29180\n",
            "Name: charges, dtype: float64\n",
            "age                 1070\n",
            "bmi                 1070\n",
            "children            1070\n",
            "sex_female          1070\n",
            "sex_male            1070\n",
            "smoker_no           1070\n",
            "smoker_yes          1070\n",
            "region_northeast    1070\n",
            "region_northwest    1070\n",
            "region_southeast    1070\n",
            "region_southwest    1070\n",
            "dtype: int64 age                 268\n",
            "bmi                 268\n",
            "children            268\n",
            "sex_female          268\n",
            "sex_male            268\n",
            "smoker_no           268\n",
            "smoker_yes          268\n",
            "region_northeast    268\n",
            "region_northwest    268\n",
            "region_southeast    268\n",
            "region_southwest    268\n",
            "dtype: int64 1070 268\n",
            "1070 268 1070 268\n"
          ]
        }
      ]
    },
    {
      "cell_type": "code",
      "metadata": {
        "id": "teAmZ2WmX7Be"
      },
      "source": [
        "# Create , Compile, Fit and Predict  \n",
        "\n",
        "# 1. Create the model \n",
        "tf.random.set_seed(42)\n",
        "insurance_model_1 = tf.keras.Sequential([\n",
        "    tf.keras.layers.Dense(10),\n",
        "    tf.keras.layers.Dense(1)\n",
        "    ]\n",
        ")\n",
        "\n",
        "# 2. Compile the model \n",
        "insurance_model_1.compile(loss=tf.keras.losses.mae,\n",
        "                          optimizer=tf.keras.optimizers.SGD(),\n",
        "                          metrics=[\"mae\"])\n",
        "\n",
        "# 3. Fit the model \n",
        "history=insurance_model_1.fit(X_train, y_train, epochs=100)\n",
        "\n",
        "# Note Pandas is built on top of numpy \n",
        "# So our pandas datafraem is just a big numpy array\n",
        "# tf and numpy play well together \n",
        "# so no conversion required it just converted pandas -> numpy -> tf ! "
      ],
      "execution_count": null,
      "outputs": []
    },
    {
      "cell_type": "code",
      "metadata": {
        "colab": {
          "base_uri": "https://localhost:8080/"
        },
        "id": "G2_aMdvWa4FM",
        "outputId": "2572ac9b-6e81-4a73-9be0-8587a4b21f3c"
      },
      "source": [
        "# Check the results on the test data \n",
        "insurance_model_1.evaluate(X_test, y_test)"
      ],
      "execution_count": 41,
      "outputs": [
        {
          "output_type": "stream",
          "name": "stdout",
          "text": [
            "9/9 [==============================] - 0s 2ms/step - loss: 7023.3291 - mae: 7023.3291\n"
          ]
        },
        {
          "output_type": "execute_result",
          "data": {
            "text/plain": [
              "[7023.3291015625, 7023.3291015625]"
            ]
          },
          "metadata": {},
          "execution_count": 41
        }
      ]
    },
    {
      "cell_type": "code",
      "metadata": {
        "colab": {
          "base_uri": "https://localhost:8080/"
        },
        "id": "xbDkMn8pWM9x",
        "outputId": "22cb4e82-1e83-4ebc-a94a-71a982202c68"
      },
      "source": [
        "y_train.median(), y_train.mean()"
      ],
      "execution_count": 42,
      "outputs": [
        {
          "output_type": "execute_result",
          "data": {
            "text/plain": [
              "(9575.4421, 13346.089736364489)"
            ]
          },
          "metadata": {},
          "execution_count": 42
        }
      ]
    },
    {
      "cell_type": "code",
      "metadata": {
        "colab": {
          "base_uri": "https://localhost:8080/",
          "height": 311
        },
        "id": "9SV41wWJcqXO",
        "outputId": "32e47905-10bb-4a4c-b9d5-86262c8214df"
      },
      "source": [
        "# Lets plot the history or training cureve or loss curve\n",
        "#history.history\n",
        "plt.figure(figsize=(40,40))\n",
        "pd.DataFrame(history.history).plot()\n",
        "plt.xlabel(\"loss\")\n",
        "plt.ylabel(\"epochs\")\n"
      ],
      "execution_count": 49,
      "outputs": [
        {
          "output_type": "execute_result",
          "data": {
            "text/plain": [
              "Text(0, 0.5, 'epochs')"
            ]
          },
          "metadata": {},
          "execution_count": 49
        },
        {
          "output_type": "display_data",
          "data": {
            "text/plain": [
              "<Figure size 2880x2880 with 0 Axes>"
            ]
          },
          "metadata": {}
        },
        {
          "output_type": "display_data",
          "data": {
            "image/png": "[encoded data removed]",
            "text/plain": [
              "<Figure size 432x288 with 1 Axes>"
            ]
          },
          "metadata": {
            "needs_background": "light"
          }
        }
      ]
    },
    {
      "cell_type": "code",
      "metadata": {
        "id": "9ER11bNwem--"
      },
      "source": [
        "# Create , Compile, Fit and Predict  \n",
        "\n",
        "# 1. Create the model \n",
        "tf.random.set_seed(42)\n",
        "insurance_model_1a = tf.keras.Sequential([\n",
        "    tf.keras.layers.Dense(500),\n",
        "    tf.keras.layers.Dense(10),\n",
        "    tf.keras.layers.Dense(1)\n",
        "    ]\n",
        ")\n",
        "\n",
        "# 2. Compile the model \n",
        "insurance_model_1a.compile(loss=tf.keras.losses.mae,\n",
        "                          optimizer=tf.keras.optimizers.Adam(learning_rate=0.01),\n",
        "                          metrics=[\"mae\"])\n",
        "\n",
        "# 3. Fit the model \n",
        "history_1a=insurance_model_1a.fit(X_train, y_train, epochs=1000)\n"
      ],
      "execution_count": null,
      "outputs": []
    },
    {
      "cell_type": "code",
      "metadata": {
        "colab": {
          "base_uri": "https://localhost:8080/",
          "height": 311
        },
        "id": "uYbjvxNefQON",
        "outputId": "51dc25d3-0815-4f45-ef5f-fe96cde0a59a"
      },
      "source": [
        "plt.figure(figsize=(40,40))\n",
        "pd.DataFrame(history_1a.history).plot()\n",
        "plt.xlabel(\"loss\")\n",
        "plt.ylabel(\"epochs\")"
      ],
      "execution_count": 51,
      "outputs": [
        {
          "output_type": "execute_result",
          "data": {
            "text/plain": [
              "Text(0, 0.5, 'epochs')"
            ]
          },
          "metadata": {},
          "execution_count": 51
        },
        {
          "output_type": "display_data",
          "data": {
            "text/plain": [
              "<Figure size 2880x2880 with 0 Axes>"
            ]
          },
          "metadata": {}
        },
        {
          "output_type": "display_data",
          "data": {
            "image/png": "[encoded data removed]",
            "text/plain": [
              "<Figure size 432x288 with 1 Axes>"
            ]
          },
          "metadata": {
            "needs_background": "light"
          }
        }
      ]
    }
  ]
}