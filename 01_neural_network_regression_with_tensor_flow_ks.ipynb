{
  "nbformat": 4,
  "nbformat_minor": 0,
  "metadata": {
    "colab": {
      "name": "01_neural_network_regression_with_tensor_flow_ks.ipynb",
      "provenance": [],
      "authorship_tag": "ABX9TyOgf/Xg5pC+D7LgHWlaVK3K",
      "include_colab_link": true
    },
    "kernelspec": {
      "name": "python3",
      "display_name": "Python 3"
    },
    "language_info": {
      "name": "python"
    }
  },
  "cells": [
    {
      "cell_type": "markdown",
      "metadata": {
        "id": "view-in-github",
        "colab_type": "text"
      },
      "source": [
        "<a href=\"https://colab.research.google.com/github/kevinsen-git/TF_Basics/blob/main/01_neural_network_regression_with_tensor_flow_ks.ipynb\" target=\"_parent\"><img src=\"https://colab.research.google.com/assets/colab-badge.svg\" alt=\"Open In Colab\"/></a>"
      ]
    },
    {
      "cell_type": "code",
      "metadata": {
        "colab": {
          "base_uri": "https://localhost:8080/",
          "height": 286
        },
        "id": "L79lGMKdZgHE",
        "outputId": "381211b2-81c0-4465-8714-d2de14e2a3a9"
      },
      "source": [
        "import tensorflow as tf\n",
        "import numpy as np\n",
        "import matplotlib.pyplot as plt \n",
        "\n",
        "# Create dummy features / independant variables\n",
        "X = tf.constant([-7.0,-4.0,-1.0,2.0,5.0,8.0,11.0,14.0])\n",
        "\n",
        "# Create dummy labels / dependant variable\n",
        "y = tf.constant([3.0,6.0,9.0,12.0,15.0,18.0,21.0,24.0])\n",
        "\n",
        "# Visualize it \n",
        "plt.scatter(X,y)\n"
      ],
      "execution_count": 2,
      "outputs": [
        {
          "output_type": "execute_result",
          "data": {
            "text/plain": [
              "<matplotlib.collections.PathCollection at 0x7f38d6436510>"
            ]
          },
          "metadata": {},
          "execution_count": 2
        },
        {
          "output_type": "display_data",
          "data": {
            "image/png": "[encoded data removed]",
            "text/plain": [
              "<Figure size 432x288 with 1 Axes>"
            ]
          },
          "metadata": {
            "needs_background": "light"
          }
        }
      ]
    },
    {
      "cell_type": "code",
      "metadata": {
        "id": "Y6-6FPPibLqa"
      },
      "source": [
        ""
      ],
      "execution_count": null,
      "outputs": []
    },
    {
      "cell_type": "code",
      "metadata": {
        "colab": {
          "base_uri": "https://localhost:8080/"
        },
        "id": "k4DKzZAobDYB",
        "outputId": "76c82668-4e68-487a-e739-40d708f944e1"
      },
      "source": [
        "# Set the random seed to make it reproducable\n",
        "tf.random.set_seed(42)\n",
        "\n",
        "# 1. Create a model using the Keras Sequential API \n",
        "model = tf.keras.Sequential([\n",
        "  tf.keras.layers.Dense(1)                          \n",
        "])\n",
        "\n",
        "# 2. Compile the model \n",
        "model.compile(loss=tf.keras.losses.mae # Loss function is mean absolute error - this tells the model how bad it is  \n",
        "              ,optimizer=tf.optimizers.SGD() # Optimizer is stochastic gradient descent - this tells the model how to get better \n",
        "              ,metrics=['mae']) # Show us how the model is performing )\n",
        "\n",
        "# 3. Fit the model\n",
        "model.fit(X,y,epochs=5) # epochs is the number of times it goes round remodelling the input data sets - i.e. iterations\n",
        "\n"
      ],
      "execution_count": 8,
      "outputs": [
        {
          "output_type": "stream",
          "name": "stdout",
          "text": [
            "Epoch 1/5\n",
            "1/1 [==============================] - 1s 635ms/step - loss: 11.5048 - mae: 11.5048\n",
            "Epoch 2/5\n",
            "1/1 [==============================] - 0s 5ms/step - loss: 11.3723 - mae: 11.3723\n",
            "Epoch 3/5\n",
            "1/1 [==============================] - 0s 4ms/step - loss: 11.2398 - mae: 11.2398\n",
            "Epoch 4/5\n",
            "1/1 [==============================] - 0s 5ms/step - loss: 11.1073 - mae: 11.1073\n",
            "Epoch 5/5\n",
            "1/1 [==============================] - 0s 5ms/step - loss: 10.9748 - mae: 10.9748\n"
          ]
        },
        {
          "output_type": "execute_result",
          "data": {
            "text/plain": [
              "<keras.callbacks.History at 0x7f38d4c99090>"
            ]
          },
          "metadata": {},
          "execution_count": 8
        }
      ]
    },
    {
      "cell_type": "code",
      "metadata": {
        "id": "qDqkKPUQe0SZ"
      },
      "source": [
        "# Its pretty horrible !\n",
        "# Lets run more epochs 5 to 100\n",
        "model.fit(X,y,epochs=100)"
      ],
      "execution_count": null,
      "outputs": []
    },
    {
      "cell_type": "code",
      "metadata": {
        "id": "-x66DySYfI15"
      },
      "source": [
        "# Better but still horrible\n",
        "# Lets change the optimiser \n",
        "model.compile(loss=tf.keras.losses.mae, optimizer=tf.keras.optimizers.Adam(learning_rate=0.0001), metrics=['mae']) # Adam optimizer with learning rate of 0.0001 the smaller it is the smaller steps it takes ?\n",
        "model.fit(X,y,epochs=100)              \n"
      ],
      "execution_count": null,
      "outputs": []
    },
    {
      "cell_type": "code",
      "metadata": {
        "colab": {
          "base_uri": "https://localhost:8080/"
        },
        "id": "czsHDTE2g885",
        "outputId": "763bed0b-6a78-4170-8940-496a3d1af7d9"
      },
      "source": [
        "# Still around 6 \n",
        "# So need more hidden layers and more neurons in each \n",
        "# The epochs 5 - 100 made a difference\n",
        "# The optimizer change did not do much \n",
        "# The on output layer could not do much with weights\n",
        "model = tf.keras.Sequential([\n",
        "      tf.keras.layers.Dense(100),\n",
        "      tf.keras.layers.Dense(100),\n",
        "      tf.keras.layers.Dense(100),\n",
        "      tf.keras.layers.Dense(1)\n",
        "      ])\n",
        "model.compile(loss=tf.keras.losses.mae, optimizer=tf.keras.optimizers.SGD(), metrics=['mae'])\n",
        "model.fit(X,y, epochs=100)\n",
        "\n"
      ],
      "execution_count": 20,
      "outputs": [
        {
          "output_type": "stream",
          "name": "stdout",
          "text": [
            "Epoch 1/100\n",
            "1/1 [==============================] - 0s 345ms/step - loss: 14.0553 - mae: 14.0553\n",
            "Epoch 2/100\n",
            "1/1 [==============================] - 0s 5ms/step - loss: 12.6082 - mae: 12.6082\n",
            "Epoch 3/100\n",
            "1/1 [==============================] - 0s 5ms/step - loss: 11.1261 - mae: 11.1261\n",
            "Epoch 4/100\n",
            "1/1 [==============================] - 0s 7ms/step - loss: 9.4697 - mae: 9.4697\n",
            "Epoch 5/100\n",
            "1/1 [==============================] - 0s 6ms/step - loss: 7.4697 - mae: 7.4697\n",
            "Epoch 6/100\n",
            "1/1 [==============================] - 0s 5ms/step - loss: 8.7221 - mae: 8.7221\n",
            "Epoch 7/100\n",
            "1/1 [==============================] - 0s 7ms/step - loss: 8.5493 - mae: 8.5493\n",
            "Epoch 8/100\n",
            "1/1 [==============================] - 0s 8ms/step - loss: 7.1264 - mae: 7.1264\n",
            "Epoch 9/100\n",
            "1/1 [==============================] - 0s 9ms/step - loss: 8.1663 - mae: 8.1663\n",
            "Epoch 10/100\n",
            "1/1 [==============================] - 0s 5ms/step - loss: 7.2914 - mae: 7.2914\n",
            "Epoch 11/100\n",
            "1/1 [==============================] - 0s 9ms/step - loss: 7.7630 - mae: 7.7630\n",
            "Epoch 12/100\n",
            "1/1 [==============================] - 0s 5ms/step - loss: 7.4733 - mae: 7.4733\n",
            "Epoch 13/100\n",
            "1/1 [==============================] - 0s 9ms/step - loss: 7.3357 - mae: 7.3357\n",
            "Epoch 14/100\n",
            "1/1 [==============================] - 0s 12ms/step - loss: 7.7454 - mae: 7.7454\n",
            "Epoch 15/100\n",
            "1/1 [==============================] - 0s 6ms/step - loss: 8.2569 - mae: 8.2569\n",
            "Epoch 16/100\n",
            "1/1 [==============================] - 0s 6ms/step - loss: 6.6881 - mae: 6.6881\n",
            "Epoch 17/100\n",
            "1/1 [==============================] - 0s 7ms/step - loss: 6.6250 - mae: 6.6250\n",
            "Epoch 18/100\n",
            "1/1 [==============================] - 0s 6ms/step - loss: 6.6196 - mae: 6.6196\n",
            "Epoch 19/100\n",
            "1/1 [==============================] - 0s 8ms/step - loss: 7.5524 - mae: 7.5524\n",
            "Epoch 20/100\n",
            "1/1 [==============================] - 0s 10ms/step - loss: 6.8505 - mae: 6.8505\n",
            "Epoch 21/100\n",
            "1/1 [==============================] - 0s 9ms/step - loss: 7.0554 - mae: 7.0554\n",
            "Epoch 22/100\n",
            "1/1 [==============================] - 0s 8ms/step - loss: 7.1304 - mae: 7.1304\n",
            "Epoch 23/100\n",
            "1/1 [==============================] - 0s 7ms/step - loss: 7.8829 - mae: 7.8829\n",
            "Epoch 24/100\n",
            "1/1 [==============================] - 0s 8ms/step - loss: 6.2431 - mae: 6.2431\n",
            "Epoch 25/100\n",
            "1/1 [==============================] - 0s 8ms/step - loss: 6.1753 - mae: 6.1753\n",
            "Epoch 26/100\n",
            "1/1 [==============================] - 0s 9ms/step - loss: 7.2009 - mae: 7.2009\n",
            "Epoch 27/100\n",
            "1/1 [==============================] - 0s 9ms/step - loss: 6.4417 - mae: 6.4417\n",
            "Epoch 28/100\n",
            "1/1 [==============================] - 0s 14ms/step - loss: 6.6290 - mae: 6.6290\n",
            "Epoch 29/100\n",
            "1/1 [==============================] - 0s 10ms/step - loss: 6.8577 - mae: 6.8577\n",
            "Epoch 30/100\n",
            "1/1 [==============================] - 0s 5ms/step - loss: 7.4081 - mae: 7.4081\n",
            "Epoch 31/100\n",
            "1/1 [==============================] - 0s 6ms/step - loss: 5.8249 - mae: 5.8249\n",
            "Epoch 32/100\n",
            "1/1 [==============================] - 0s 6ms/step - loss: 6.8142 - mae: 6.8142\n",
            "Epoch 33/100\n",
            "1/1 [==============================] - 0s 8ms/step - loss: 6.1183 - mae: 6.1183\n",
            "Epoch 34/100\n",
            "1/1 [==============================] - 0s 8ms/step - loss: 6.1656 - mae: 6.1656\n",
            "Epoch 35/100\n",
            "1/1 [==============================] - 0s 6ms/step - loss: 6.7107 - mae: 6.7107\n",
            "Epoch 36/100\n",
            "1/1 [==============================] - 0s 7ms/step - loss: 6.9166 - mae: 6.9166\n",
            "Epoch 37/100\n",
            "1/1 [==============================] - 0s 6ms/step - loss: 5.5558 - mae: 5.5558\n",
            "Epoch 38/100\n",
            "1/1 [==============================] - 0s 7ms/step - loss: 6.2329 - mae: 6.2329\n",
            "Epoch 39/100\n",
            "1/1 [==============================] - 0s 8ms/step - loss: 5.9694 - mae: 5.9694\n",
            "Epoch 40/100\n",
            "1/1 [==============================] - 0s 6ms/step - loss: 6.9126 - mae: 6.9126\n",
            "Epoch 41/100\n",
            "1/1 [==============================] - 0s 8ms/step - loss: 5.0657 - mae: 5.0657\n",
            "Epoch 42/100\n",
            "1/1 [==============================] - 0s 9ms/step - loss: 5.1209 - mae: 5.1209\n",
            "Epoch 43/100\n",
            "1/1 [==============================] - 0s 9ms/step - loss: 5.8993 - mae: 5.8993\n",
            "Epoch 44/100\n",
            "1/1 [==============================] - 0s 6ms/step - loss: 5.6364 - mae: 5.6364\n",
            "Epoch 45/100\n",
            "1/1 [==============================] - 0s 8ms/step - loss: 6.5649 - mae: 6.5649\n",
            "Epoch 46/100\n",
            "1/1 [==============================] - 0s 5ms/step - loss: 4.6392 - mae: 4.6392\n",
            "Epoch 47/100\n",
            "1/1 [==============================] - 0s 8ms/step - loss: 5.7312 - mae: 5.7312\n",
            "Epoch 48/100\n",
            "1/1 [==============================] - 0s 5ms/step - loss: 5.1422 - mae: 5.1422\n",
            "Epoch 49/100\n",
            "1/1 [==============================] - 0s 6ms/step - loss: 6.3707 - mae: 6.3707\n",
            "Epoch 50/100\n",
            "1/1 [==============================] - 0s 9ms/step - loss: 4.1637 - mae: 4.1637\n",
            "Epoch 51/100\n",
            "1/1 [==============================] - 0s 9ms/step - loss: 5.4516 - mae: 5.4516\n",
            "Epoch 52/100\n",
            "1/1 [==============================] - 0s 6ms/step - loss: 4.7301 - mae: 4.7301\n",
            "Epoch 53/100\n",
            "1/1 [==============================] - 0s 10ms/step - loss: 6.0858 - mae: 6.0858\n",
            "Epoch 54/100\n",
            "1/1 [==============================] - 0s 7ms/step - loss: 3.6642 - mae: 3.6642\n",
            "Epoch 55/100\n",
            "1/1 [==============================] - 0s 10ms/step - loss: 5.0555 - mae: 5.0555\n",
            "Epoch 56/100\n",
            "1/1 [==============================] - 0s 6ms/step - loss: 4.3702 - mae: 4.3702\n",
            "Epoch 57/100\n",
            "1/1 [==============================] - 0s 9ms/step - loss: 5.7061 - mae: 5.7061\n",
            "Epoch 58/100\n",
            "1/1 [==============================] - 0s 6ms/step - loss: 3.1068 - mae: 3.1068\n",
            "Epoch 59/100\n",
            "1/1 [==============================] - 0s 10ms/step - loss: 4.5297 - mae: 4.5297\n",
            "Epoch 60/100\n",
            "1/1 [==============================] - 0s 6ms/step - loss: 4.0677 - mae: 4.0677\n",
            "Epoch 61/100\n",
            "1/1 [==============================] - 0s 9ms/step - loss: 6.7522 - mae: 6.7522\n",
            "Epoch 62/100\n",
            "1/1 [==============================] - 0s 6ms/step - loss: 2.5492 - mae: 2.5492\n",
            "Epoch 63/100\n",
            "1/1 [==============================] - 0s 6ms/step - loss: 2.5290 - mae: 2.5290\n",
            "Epoch 64/100\n",
            "1/1 [==============================] - 0s 9ms/step - loss: 6.0657 - mae: 6.0657\n",
            "Epoch 65/100\n",
            "1/1 [==============================] - 0s 6ms/step - loss: 2.7566 - mae: 2.7566\n",
            "Epoch 66/100\n",
            "1/1 [==============================] - 0s 11ms/step - loss: 5.5638 - mae: 5.5638\n",
            "Epoch 67/100\n",
            "1/1 [==============================] - 0s 6ms/step - loss: 3.0234 - mae: 3.0234\n",
            "Epoch 68/100\n",
            "1/1 [==============================] - 0s 6ms/step - loss: 6.8087 - mae: 6.8087\n",
            "Epoch 69/100\n",
            "1/1 [==============================] - 0s 10ms/step - loss: 2.2478 - mae: 2.2478\n",
            "Epoch 70/100\n",
            "1/1 [==============================] - 0s 5ms/step - loss: 5.3575 - mae: 5.3575\n",
            "Epoch 71/100\n",
            "1/1 [==============================] - 0s 9ms/step - loss: 2.4912 - mae: 2.4912\n",
            "Epoch 72/100\n",
            "1/1 [==============================] - 0s 6ms/step - loss: 4.8913 - mae: 4.8913\n",
            "Epoch 73/100\n",
            "1/1 [==============================] - 0s 4ms/step - loss: 2.8707 - mae: 2.8707\n",
            "Epoch 74/100\n",
            "1/1 [==============================] - 0s 9ms/step - loss: 6.1180 - mae: 6.1180\n",
            "Epoch 75/100\n",
            "1/1 [==============================] - 0s 6ms/step - loss: 2.0666 - mae: 2.0666\n",
            "Epoch 76/100\n",
            "1/1 [==============================] - 0s 11ms/step - loss: 4.7356 - mae: 4.7356\n",
            "Epoch 77/100\n",
            "1/1 [==============================] - 0s 6ms/step - loss: 2.4196 - mae: 2.4196\n",
            "Epoch 78/100\n",
            "1/1 [==============================] - 0s 6ms/step - loss: 5.9086 - mae: 5.9086\n",
            "Epoch 79/100\n",
            "1/1 [==============================] - 0s 21ms/step - loss: 1.7438 - mae: 1.7438\n",
            "Epoch 80/100\n",
            "1/1 [==============================] - 0s 6ms/step - loss: 4.5740 - mae: 4.5740\n",
            "Epoch 81/100\n",
            "1/1 [==============================] - 0s 7ms/step - loss: 2.9613 - mae: 2.9613\n",
            "Epoch 82/100\n",
            "1/1 [==============================] - 0s 8ms/step - loss: 4.8836 - mae: 4.8836\n",
            "Epoch 83/100\n",
            "1/1 [==============================] - 0s 4ms/step - loss: 2.1328 - mae: 2.1328\n",
            "Epoch 84/100\n",
            "1/1 [==============================] - 0s 7ms/step - loss: 5.1371 - mae: 5.1371\n",
            "Epoch 85/100\n",
            "1/1 [==============================] - 0s 5ms/step - loss: 1.6140 - mae: 1.6140\n",
            "Epoch 86/100\n",
            "1/1 [==============================] - 0s 7ms/step - loss: 4.0999 - mae: 4.0999\n",
            "Epoch 87/100\n",
            "1/1 [==============================] - 0s 7ms/step - loss: 1.9603 - mae: 1.9603\n",
            "Epoch 88/100\n",
            "1/1 [==============================] - 0s 5ms/step - loss: 5.0601 - mae: 5.0601\n",
            "Epoch 89/100\n",
            "1/1 [==============================] - 0s 27ms/step - loss: 1.4115 - mae: 1.4115\n",
            "Epoch 90/100\n",
            "1/1 [==============================] - 0s 5ms/step - loss: 3.9471 - mae: 3.9471\n",
            "Epoch 91/100\n",
            "1/1 [==============================] - 0s 7ms/step - loss: 2.5677 - mae: 2.5677\n",
            "Epoch 92/100\n",
            "1/1 [==============================] - 0s 6ms/step - loss: 4.2750 - mae: 4.2750\n",
            "Epoch 93/100\n",
            "1/1 [==============================] - 0s 6ms/step - loss: 1.8758 - mae: 1.8758\n",
            "Epoch 94/100\n",
            "1/1 [==============================] - 0s 7ms/step - loss: 4.5476 - mae: 4.5476\n",
            "Epoch 95/100\n",
            "1/1 [==============================] - 0s 5ms/step - loss: 1.3455 - mae: 1.3455\n",
            "Epoch 96/100\n",
            "1/1 [==============================] - 0s 8ms/step - loss: 3.5314 - mae: 3.5314\n",
            "Epoch 97/100\n",
            "1/1 [==============================] - 0s 6ms/step - loss: 2.4933 - mae: 2.4933\n",
            "Epoch 98/100\n",
            "1/1 [==============================] - 0s 13ms/step - loss: 3.8694 - mae: 3.8694\n",
            "Epoch 99/100\n",
            "1/1 [==============================] - 0s 12ms/step - loss: 1.8539 - mae: 1.8539\n",
            "Epoch 100/100\n",
            "1/1 [==============================] - 0s 5ms/step - loss: 4.1534 - mae: 4.1534\n"
          ]
        },
        {
          "output_type": "execute_result",
          "data": {
            "text/plain": [
              "<keras.callbacks.History at 0x7f38d48f9a10>"
            ]
          },
          "metadata": {},
          "execution_count": 20
        }
      ]
    },
    {
      "cell_type": "code",
      "metadata": {
        "id": "08cMGz8-iaVG"
      },
      "source": [
        "# Still not very good - around 4\n",
        "# Lets add relu \n",
        "\n"
      ],
      "execution_count": null,
      "outputs": []
    }
  ]
}