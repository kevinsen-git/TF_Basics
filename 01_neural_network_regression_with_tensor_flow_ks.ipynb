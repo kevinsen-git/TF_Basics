{
  "nbformat": 4,
  "nbformat_minor": 0,
  "metadata": {
    "colab": {
      "name": "01_neural_network_regression_with_tensor_flow_ks.ipynb",
      "provenance": [],
      "authorship_tag": "ABX9TyNA8CfuhG7lKJw1Idky/CND",
      "include_colab_link": true
    },
    "kernelspec": {
      "name": "python3",
      "display_name": "Python 3"
    },
    "language_info": {
      "name": "python"
    }
  },
  "cells": [
    {
      "cell_type": "markdown",
      "metadata": {
        "id": "view-in-github",
        "colab_type": "text"
      },
      "source": [
        "<a href=\"https://colab.research.google.com/github/kevinsen-git/TF_Basics/blob/main/01_neural_network_regression_with_tensor_flow_ks.ipynb\" target=\"_parent\"><img src=\"https://colab.research.google.com/assets/colab-badge.svg\" alt=\"Open In Colab\"/></a>"
      ]
    },
    {
      "cell_type": "code",
      "metadata": {
        "colab": {
          "base_uri": "https://localhost:8080/",
          "height": 286
        },
        "id": "L79lGMKdZgHE",
        "outputId": "caef184d-6fc6-4a89-c674-844514a57144"
      },
      "source": [
        "import tensorflow as tf\n",
        "import numpy as np\n",
        "import matplotlib.pyplot as plt \n",
        "\n",
        "# Create dummy features / independant variables\n",
        "X = tf.constant([-7.0,-4.0,-1.0,2.0,5.0,8.0,11.0,14.0])\n",
        "\n",
        "# Create dummy labels / dependant variable\n",
        "y = tf.constant([3.0,6.0,9.0,12.0,15.0,18.0,21.0,24.0])\n",
        "\n",
        "# Visualize it \n",
        "plt.scatter(X,y)\n"
      ],
      "execution_count": 1,
      "outputs": [
        {
          "output_type": "execute_result",
          "data": {
            "text/plain": [
              "<matplotlib.collections.PathCollection at 0x7f1aaade28d0>"
            ]
          },
          "metadata": {},
          "execution_count": 1
        },
        {
          "output_type": "display_data",
          "data": {
            "image/png": "[encoded data removed]",
            "text/plain": [
              "<Figure size 432x288 with 1 Axes>"
            ]
          },
          "metadata": {
            "needs_background": "light"
          }
        }
      ]
    },
    {
      "cell_type": "code",
      "metadata": {
        "id": "Y6-6FPPibLqa"
      },
      "source": [
        ""
      ],
      "execution_count": null,
      "outputs": []
    },
    {
      "cell_type": "code",
      "metadata": {
        "colab": {
          "base_uri": "https://localhost:8080/"
        },
        "id": "k4DKzZAobDYB",
        "outputId": "76c82668-4e68-487a-e739-40d708f944e1"
      },
      "source": [
        "# Set the random seed to make it reproducable\n",
        "tf.random.set_seed(42)\n",
        "\n",
        "# 1. Create a model using the Keras Sequential API \n",
        "model = tf.keras.Sequential([\n",
        "  tf.keras.layers.Dense(1)                          \n",
        "])\n",
        "\n",
        "# 2. Compile the model \n",
        "model.compile(loss=tf.keras.losses.mae # Loss function is mean absolute error - this tells the model how bad it is  \n",
        "              ,optimizer=tf.optimizers.SGD() # Optimizer is stochastic gradient descent - this tells the model how to get better \n",
        "              ,metrics=['mae']) # Show us how the model is performing )\n",
        "\n",
        "# 3. Fit the model\n",
        "model.fit(X,y,epochs=5) # epochs is the number of times it goes round remodelling the input data sets - i.e. iterations\n",
        "\n"
      ],
      "execution_count": null,
      "outputs": [
        {
          "output_type": "stream",
          "name": "stdout",
          "text": [
            "Epoch 1/5\n",
            "1/1 [==============================] - 1s 635ms/step - loss: 11.5048 - mae: 11.5048\n",
            "Epoch 2/5\n",
            "1/1 [==============================] - 0s 5ms/step - loss: 11.3723 - mae: 11.3723\n",
            "Epoch 3/5\n",
            "1/1 [==============================] - 0s 4ms/step - loss: 11.2398 - mae: 11.2398\n",
            "Epoch 4/5\n",
            "1/1 [==============================] - 0s 5ms/step - loss: 11.1073 - mae: 11.1073\n",
            "Epoch 5/5\n",
            "1/1 [==============================] - 0s 5ms/step - loss: 10.9748 - mae: 10.9748\n"
          ]
        },
        {
          "output_type": "execute_result",
          "data": {
            "text/plain": [
              "<keras.callbacks.History at 0x7f38d4c99090>"
            ]
          },
          "metadata": {},
          "execution_count": 8
        }
      ]
    },
    {
      "cell_type": "code",
      "metadata": {
        "id": "qDqkKPUQe0SZ"
      },
      "source": [
        "# Its pretty horrible !\n",
        "# Lets run more epochs 5 to 100\n",
        "model.fit(X,y,epochs=100)"
      ],
      "execution_count": null,
      "outputs": []
    },
    {
      "cell_type": "code",
      "metadata": {
        "id": "-x66DySYfI15"
      },
      "source": [
        "# Better but still horrible\n",
        "# Lets change the optimiser \n",
        "model.compile(loss=tf.keras.losses.mae, optimizer=tf.keras.optimizers.Adam(learning_rate=0.0001), metrics=['mae']) # Adam optimizer with learning rate of 0.0001 the smaller it is the smaller steps it takes ?\n",
        "model.fit(X,y,epochs=100)              \n"
      ],
      "execution_count": null,
      "outputs": []
    },
    {
      "cell_type": "code",
      "metadata": {
        "id": "czsHDTE2g885"
      },
      "source": [
        "# Still around 6 \n",
        "# So need more hidden layers and more neurons in each \n",
        "# The epochs 5 - 100 made a difference\n",
        "# The optimizer change did not do much \n",
        "# The on output layer could not do much with weights\n",
        "model = tf.keras.Sequential([\n",
        "      tf.keras.layers.Dense(100),\n",
        "      tf.keras.layers.Dense(100),\n",
        "      tf.keras.layers.Dense(100),\n",
        "      tf.keras.layers.Dense(1)\n",
        "      ])\n",
        "model.compile(loss=tf.keras.losses.mae, optimizer=tf.keras.optimizers.SGD(), metrics=['mae'])\n",
        "#model.compile(loss=tf.keras.losses.mae, optimizer=tf.keras.optimizers.Adam(learning_rate=0.0001), metrics=[\"mae\"])\n",
        "model.fit(X,y, epochs=1000)\n",
        "\n"
      ],
      "execution_count": null,
      "outputs": []
    },
    {
      "cell_type": "code",
      "metadata": {
        "id": "08cMGz8-iaVG"
      },
      "source": [
        "# Still not very good - around 4\n",
        "# Lets add activation of relu \n",
        "model=tf.keras.Sequential([\n",
        "    tf.keras.layers.Dense(100,activation=\"relu\"),\n",
        "    tf.keras.layers.Dense(100,activation=\"relu\"),\n",
        "    tf.keras.layers.Dense(100,activation=\"relu\"),\n",
        "    tf.keras.layers.Dense(100,activation=\"relu\"),\n",
        "    tf.keras.layers.Dense(100,activation=\"relu\"),\n",
        "    tf.keras.layers.Dense(100,activation=\"relu\"),    \n",
        "    tf.keras.layers.Dense(100,activation=\"relu\"),    \n",
        "    tf.keras.layers.Dense(1)                           \n",
        "])\n",
        "model.compile(loss=tf.keras.losses.mae, optimizer=tf.keras.optimizers.Adam(lr=0.0001),metrics=[\"mae\"])\n",
        "model.fit(X,y,epochs=100)\n",
        "model.predict([17.0])\n",
        "# 0s 17ms/step - loss: 0.0147 - mae: 0.0147\n",
        "# So mae is 0.01\n",
        "# But do we have over fitting with 7 hidden layers and one output layer ??\n"
      ],
      "execution_count": null,
      "outputs": []
    },
    {
      "cell_type": "code",
      "metadata": {
        "id": "i5n9KOTAonnj"
      },
      "source": [
        "# Leraning rate is a major contributor NORMALLY \n",
        "model=tf.keras.Sequential([\n",
        "  tf.keras.layers.Dense(150,activation=\"relu\"),\n",
        "  tf.keras.layers.Dense(1)                           \n",
        "])\n",
        "\n",
        "model.compile(loss=tf.keras.losses.mae, optimizer=tf.keras.optimizers.Adam(learning_rate=0.01), metrics=[\"mae\"])\n",
        "model.fit(X, y, epochs=100)\n"
      ],
      "execution_count": null,
      "outputs": []
    },
    {
      "cell_type": "code",
      "metadata": {
        "colab": {
          "base_uri": "https://localhost:8080/"
        },
        "id": "fZ5zsgTop2l9",
        "outputId": "7736ec88-5903-40e0-df0d-c69ea83169b5"
      },
      "source": [
        "# Wow - so one hidden layer with 100 neurons + lr of 0.01 gives 0.25 !!!\n",
        "model.predict([17.00]) "
      ],
      "execution_count": null,
      "outputs": [
        {
          "output_type": "execute_result",
          "data": {
            "text/plain": [
              "array([[27.285477]], dtype=float32)"
            ]
          },
          "metadata": {},
          "execution_count": 51
        }
      ]
    },
    {
      "cell_type": "code",
      "metadata": {
        "id": "Xcbz-wslkBKL"
      },
      "source": [
        "# AutoML ?\n",
        "# Linear should have just two weights ...right ?\n",
        "# So if we do one hidden layer with 2 neurons + lr = 0.01 + add a bit more data it should be awesome ...right ?\n",
        "\n",
        "model = tf.keras.Sequential([\n",
        "      tf.keras.layers.Dense(2, activation=\"relu\"),\n",
        "      tf.keras.layers.Dense(1)                             \n",
        "      ])\n",
        "\n",
        "model.compile(loss=tf.keras.losses.mae, \n",
        "              optimizer=tf.keras.optimizers.Adam(learning_rate=0.01),\n",
        "              metrics=[\"mae\"])\n",
        "\n",
        "model.fit(X, y, epochs=100)\n"
      ],
      "execution_count": null,
      "outputs": []
    },
    {
      "cell_type": "code",
      "metadata": {
        "id": "f1G5ih_em525",
        "outputId": "25630bd8-9e2f-47a4-805c-8aab9b7c6070",
        "colab": {
          "base_uri": "https://localhost:8080/"
        }
      },
      "source": [
        "Z = tf.range(3.0, limit=213.0, delta=3, name=\"range\")\n",
        "Z"
      ],
      "execution_count": 30,
      "outputs": [
        {
          "output_type": "execute_result",
          "data": {
            "text/plain": [
              "<tf.Tensor: shape=(70,), dtype=float32, numpy=\n",
              "array([  3.,   6.,   9.,  12.,  15.,  18.,  21.,  24.,  27.,  30.,  33.,\n",
              "        36.,  39.,  42.,  45.,  48.,  51.,  54.,  57.,  60.,  63.,  66.,\n",
              "        69.,  72.,  75.,  78.,  81.,  84.,  87.,  90.,  93.,  96.,  99.,\n",
              "       102., 105., 108., 111., 114., 117., 120., 123., 126., 129., 132.,\n",
              "       135., 138., 141., 144., 147., 150., 153., 156., 159., 162., 165.,\n",
              "       168., 171., 174., 177., 180., 183., 186., 189., 192., 195., 198.,\n",
              "       201., 204., 207., 210.], dtype=float32)>"
            ]
          },
          "metadata": {},
          "execution_count": 30
        }
      ]
    },
    {
      "cell_type": "code",
      "metadata": {
        "colab": {
          "base_uri": "https://localhost:8080/",
          "height": 282
        },
        "id": "VXnN-LYGmC_5",
        "outputId": "09a8297c-c7d0-4f2e-de1b-289138fc841f"
      },
      "source": [
        "# Add more data\n",
        "X = tf.range(-7.0, limit=201.0, delta=3, name=\"range\")\n",
        "\n",
        "# Create dummy labels / dependant variable\n",
        "y = tf.range(3.0, limit=213.0, delta=3, name=\"range\")\n",
        "#X,y\n",
        "\n",
        "# Visualize it \n",
        "plt.scatter(X,y)"
      ],
      "execution_count": 32,
      "outputs": [
        {
          "output_type": "execute_result",
          "data": {
            "text/plain": [
              "<matplotlib.collections.PathCollection at 0x7f1aa914cf50>"
            ]
          },
          "metadata": {},
          "execution_count": 32
        },
        {
          "output_type": "display_data",
          "data": {
            "image/png": "[encoded data removed]",
            "text/plain": [
              "<Figure size 432x288 with 1 Axes>"
            ]
          },
          "metadata": {
            "needs_background": "light"
          }
        }
      ]
    },
    {
      "cell_type": "code",
      "metadata": {
        "id": "yla8BtcHpDMf"
      },
      "source": [
        "# Linear should have just two weights \n",
        "# So if we do one hidden layer with 2 neurons + lr = 0.01 + add a bit more data + a few more epochs - its is awesome !\n",
        "\n",
        "\n",
        "model=tf.keras.Sequential([\n",
        "        tf.keras.layers.Dense(2, activation=\"relu\"),\n",
        "        tf.keras.layers.Dense(1)\n",
        "        ])\n",
        "\n",
        "model.compile(loss=tf.keras.losses.mae, \n",
        "              optimizer=tf.keras.optimizers.Adam(learning_rate=0.01),\n",
        "              metrics=[\"mae\"])\n",
        "\n",
        "model.fit(X, y, epochs=200)"
      ],
      "execution_count": null,
      "outputs": []
    },
    {
      "cell_type": "code",
      "metadata": {
        "id": "5F5iocn7q4No",
        "outputId": "9e8ebb14-3946-4c1a-cea2-caea647b6ac3",
        "colab": {
          "base_uri": "https://localhost:8080/"
        }
      },
      "source": [
        "X, y, model.predict([203.0])"
      ],
      "execution_count": 53,
      "outputs": [
        {
          "output_type": "execute_result",
          "data": {
            "text/plain": [
              "(<tf.Tensor: shape=(70,), dtype=float32, numpy=\n",
              " array([ -7.,  -4.,  -1.,   2.,   5.,   8.,  11.,  14.,  17.,  20.,  23.,\n",
              "         26.,  29.,  32.,  35.,  38.,  41.,  44.,  47.,  50.,  53.,  56.,\n",
              "         59.,  62.,  65.,  68.,  71.,  74.,  77.,  80.,  83.,  86.,  89.,\n",
              "         92.,  95.,  98., 101., 104., 107., 110., 113., 116., 119., 122.,\n",
              "        125., 128., 131., 134., 137., 140., 143., 146., 149., 152., 155.,\n",
              "        158., 161., 164., 167., 170., 173., 176., 179., 182., 185., 188.,\n",
              "        191., 194., 197., 200.], dtype=float32)>,\n",
              " <tf.Tensor: shape=(70,), dtype=float32, numpy=\n",
              " array([  3.,   6.,   9.,  12.,  15.,  18.,  21.,  24.,  27.,  30.,  33.,\n",
              "         36.,  39.,  42.,  45.,  48.,  51.,  54.,  57.,  60.,  63.,  66.,\n",
              "         69.,  72.,  75.,  78.,  81.,  84.,  87.,  90.,  93.,  96.,  99.,\n",
              "        102., 105., 108., 111., 114., 117., 120., 123., 126., 129., 132.,\n",
              "        135., 138., 141., 144., 147., 150., 153., 156., 159., 162., 165.,\n",
              "        168., 171., 174., 177., 180., 183., 186., 189., 192., 195., 198.,\n",
              "        201., 204., 207., 210.], dtype=float32)>,\n",
              " array([[213.50928]], dtype=float32))"
            ]
          },
          "metadata": {},
          "execution_count": 53
        }
      ]
    },
    {
      "cell_type": "code",
      "metadata": {
        "id": "aqAmooCHqXwj"
      },
      "source": [
        ""
      ],
      "execution_count": null,
      "outputs": []
    }
  ]
}