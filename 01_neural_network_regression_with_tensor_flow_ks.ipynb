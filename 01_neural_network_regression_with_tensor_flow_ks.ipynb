{
  "nbformat": 4,
  "nbformat_minor": 0,
  "metadata": {
    "colab": {
      "name": "01_neural_network_regression_with_tensor_flow_ks.ipynb",
      "provenance": [],
      "authorship_tag": "ABX9TyNxmm3Tne7NfX2OFBQrLtRp",
      "include_colab_link": true
    },
    "kernelspec": {
      "name": "python3",
      "display_name": "Python 3"
    },
    "language_info": {
      "name": "python"
    }
  },
  "cells": [
    {
      "cell_type": "markdown",
      "metadata": {
        "id": "view-in-github",
        "colab_type": "text"
      },
      "source": [
        "<a href=\"https://colab.research.google.com/github/kevinsen-git/TF_Basics/blob/main/01_neural_network_regression_with_tensor_flow_ks.ipynb\" target=\"_parent\"><img src=\"https://colab.research.google.com/assets/colab-badge.svg\" alt=\"Open In Colab\"/></a>"
      ]
    },
    {
      "cell_type": "code",
      "metadata": {
        "colab": {
          "base_uri": "https://localhost:8080/",
          "height": 286
        },
        "id": "L79lGMKdZgHE",
        "outputId": "caef184d-6fc6-4a89-c674-844514a57144"
      },
      "source": [
        "import tensorflow as tf\n",
        "import numpy as np\n",
        "import matplotlib.pyplot as plt \n",
        "\n",
        "# Create dummy features / independant variables\n",
        "X = tf.constant([-7.0,-4.0,-1.0,2.0,5.0,8.0,11.0,14.0])\n",
        "\n",
        "# Create dummy labels / dependant variable\n",
        "y = tf.constant([3.0,6.0,9.0,12.0,15.0,18.0,21.0,24.0])\n",
        "\n",
        "# Visualize it \n",
        "plt.scatter(X,y)\n"
      ],
      "execution_count": null,
      "outputs": [
        {
          "output_type": "execute_result",
          "data": {
            "text/plain": [
              "<matplotlib.collections.PathCollection at 0x7f1aaade28d0>"
            ]
          },
          "metadata": {},
          "execution_count": 1
        },
        {
          "output_type": "display_data",
          "data": {
            "image/png": "[encoded data removed]",
            "text/plain": [
              "<Figure size 432x288 with 1 Axes>"
            ]
          },
          "metadata": {
            "needs_background": "light"
          }
        }
      ]
    },
    {
      "cell_type": "code",
      "metadata": {
        "id": "Y6-6FPPibLqa"
      },
      "source": [
        ""
      ],
      "execution_count": null,
      "outputs": []
    },
    {
      "cell_type": "code",
      "metadata": {
        "colab": {
          "base_uri": "https://localhost:8080/"
        },
        "id": "k4DKzZAobDYB",
        "outputId": "76c82668-4e68-487a-e739-40d708f944e1"
      },
      "source": [
        "# Set the random seed to make it reproducable\n",
        "tf.random.set_seed(42)\n",
        "\n",
        "# 1. Create a model using the Keras Sequential API \n",
        "model = tf.keras.Sequential([\n",
        "  tf.keras.layers.Dense(1)                          \n",
        "])\n",
        "\n",
        "# 2. Compile the model \n",
        "model.compile(loss=tf.keras.losses.mae # Loss function is mean absolute error - this tells the model how bad it is  \n",
        "              ,optimizer=tf.optimizers.SGD() # Optimizer is stochastic gradient descent - this tells the model how to get better \n",
        "              ,metrics=['mae']) # Show us how the model is performing )\n",
        "\n",
        "# 3. Fit the model\n",
        "model.fit(X,y,epochs=5) # epochs is the number of times it goes round remodelling the input data sets - i.e. iterations\n",
        "\n"
      ],
      "execution_count": null,
      "outputs": [
        {
          "output_type": "stream",
          "name": "stdout",
          "text": [
            "Epoch 1/5\n",
            "1/1 [==============================] - 1s 635ms/step - loss: 11.5048 - mae: 11.5048\n",
            "Epoch 2/5\n",
            "1/1 [==============================] - 0s 5ms/step - loss: 11.3723 - mae: 11.3723\n",
            "Epoch 3/5\n",
            "1/1 [==============================] - 0s 4ms/step - loss: 11.2398 - mae: 11.2398\n",
            "Epoch 4/5\n",
            "1/1 [==============================] - 0s 5ms/step - loss: 11.1073 - mae: 11.1073\n",
            "Epoch 5/5\n",
            "1/1 [==============================] - 0s 5ms/step - loss: 10.9748 - mae: 10.9748\n"
          ]
        },
        {
          "output_type": "execute_result",
          "data": {
            "text/plain": [
              "<keras.callbacks.History at 0x7f38d4c99090>"
            ]
          },
          "metadata": {},
          "execution_count": 8
        }
      ]
    },
    {
      "cell_type": "code",
      "metadata": {
        "id": "qDqkKPUQe0SZ"
      },
      "source": [
        "# Its pretty horrible !\n",
        "# Lets run more epochs 5 to 100\n",
        "model.fit(X,y,epochs=100)"
      ],
      "execution_count": null,
      "outputs": []
    },
    {
      "cell_type": "code",
      "metadata": {
        "id": "-x66DySYfI15"
      },
      "source": [
        "# Better but still horrible\n",
        "# Lets change the optimiser \n",
        "model.compile(loss=tf.keras.losses.mae, optimizer=tf.keras.optimizers.Adam(learning_rate=0.0001), metrics=['mae']) # Adam optimizer with learning rate of 0.0001 the smaller it is the smaller steps it takes ?\n",
        "model.fit(X,y,epochs=100)              \n"
      ],
      "execution_count": null,
      "outputs": []
    },
    {
      "cell_type": "code",
      "metadata": {
        "id": "czsHDTE2g885"
      },
      "source": [
        "# Still around 6 \n",
        "# So need more hidden layers and more neurons in each \n",
        "# The epochs 5 - 100 made a difference\n",
        "# The optimizer change did not do much \n",
        "# The on output layer could not do much with weights\n",
        "model = tf.keras.Sequential([\n",
        "      tf.keras.layers.Dense(100),\n",
        "      tf.keras.layers.Dense(100),\n",
        "      tf.keras.layers.Dense(100),\n",
        "      tf.keras.layers.Dense(1)\n",
        "      ])\n",
        "model.compile(loss=tf.keras.losses.mae, optimizer=tf.keras.optimizers.SGD(), metrics=['mae'])\n",
        "#model.compile(loss=tf.keras.losses.mae, optimizer=tf.keras.optimizers.Adam(learning_rate=0.0001), metrics=[\"mae\"])\n",
        "model.fit(X,y, epochs=1000)\n",
        "\n"
      ],
      "execution_count": null,
      "outputs": []
    },
    {
      "cell_type": "code",
      "metadata": {
        "id": "08cMGz8-iaVG"
      },
      "source": [
        "# Still not very good - around 4\n",
        "# Lets add activation of relu \n",
        "model=tf.keras.Sequential([\n",
        "    tf.keras.layers.Dense(100,activation=\"relu\"),\n",
        "    tf.keras.layers.Dense(100,activation=\"relu\"),\n",
        "    tf.keras.layers.Dense(100,activation=\"relu\"),\n",
        "    tf.keras.layers.Dense(100,activation=\"relu\"),\n",
        "    tf.keras.layers.Dense(100,activation=\"relu\"),\n",
        "    tf.keras.layers.Dense(100,activation=\"relu\"),    \n",
        "    tf.keras.layers.Dense(100,activation=\"relu\"),    \n",
        "    tf.keras.layers.Dense(1)                           \n",
        "])\n",
        "model.compile(loss=tf.keras.losses.mae, optimizer=tf.keras.optimizers.Adam(lr=0.0001),metrics=[\"mae\"])\n",
        "model.fit(X,y,epochs=100)\n",
        "model.predict([17.0])\n",
        "# 0s 17ms/step - loss: 0.0147 - mae: 0.0147\n",
        "# So mae is 0.01\n",
        "# But do we have over fitting with 7 hidden layers and one output layer ??\n"
      ],
      "execution_count": null,
      "outputs": []
    },
    {
      "cell_type": "code",
      "metadata": {
        "id": "i5n9KOTAonnj"
      },
      "source": [
        "# Leraning rate is a major contributor NORMALLY \n",
        "model=tf.keras.Sequential([\n",
        "  tf.keras.layers.Dense(150,activation=\"relu\"),\n",
        "  tf.keras.layers.Dense(1)                           \n",
        "])\n",
        "\n",
        "model.compile(loss=tf.keras.losses.mae, optimizer=tf.keras.optimizers.Adam(learning_rate=0.01), metrics=[\"mae\"])\n",
        "model.fit(X, y, epochs=100)\n"
      ],
      "execution_count": null,
      "outputs": []
    },
    {
      "cell_type": "code",
      "metadata": {
        "colab": {
          "base_uri": "https://localhost:8080/"
        },
        "id": "fZ5zsgTop2l9",
        "outputId": "7736ec88-5903-40e0-df0d-c69ea83169b5"
      },
      "source": [
        "# Wow - so one hidden layer with 100 neurons + lr of 0.01 gives 0.25 !!!\n",
        "model.predict([17.00]) "
      ],
      "execution_count": null,
      "outputs": [
        {
          "output_type": "execute_result",
          "data": {
            "text/plain": [
              "array([[27.285477]], dtype=float32)"
            ]
          },
          "metadata": {},
          "execution_count": 51
        }
      ]
    },
    {
      "cell_type": "code",
      "metadata": {
        "id": "Xcbz-wslkBKL"
      },
      "source": [
        "# AutoML ?\n",
        "# Linear should have just two weights ...right ?\n",
        "# So if we do one hidden layer with 2 neurons + lr = 0.01 + add a bit more data it should be awesome ...right ?\n",
        "\n",
        "model = tf.keras.Sequential([\n",
        "      tf.keras.layers.Dense(2, activation=\"relu\"),\n",
        "      tf.keras.layers.Dense(1)                             \n",
        "      ])\n",
        "\n",
        "model.compile(loss=tf.keras.losses.mae, \n",
        "              optimizer=tf.keras.optimizers.Adam(learning_rate=0.01),\n",
        "              metrics=[\"mae\"])\n",
        "\n",
        "model.fit(X, y, epochs=100)\n"
      ],
      "execution_count": null,
      "outputs": []
    },
    {
      "cell_type": "code",
      "metadata": {
        "colab": {
          "base_uri": "https://localhost:8080/"
        },
        "id": "f1G5ih_em525",
        "outputId": "25630bd8-9e2f-47a4-805c-8aab9b7c6070"
      },
      "source": [
        "Z = tf.range(3.0, limit=213.0, delta=3, name=\"range\")\n",
        "Z"
      ],
      "execution_count": null,
      "outputs": [
        {
          "output_type": "execute_result",
          "data": {
            "text/plain": [
              "<tf.Tensor: shape=(70,), dtype=float32, numpy=\n",
              "array([  3.,   6.,   9.,  12.,  15.,  18.,  21.,  24.,  27.,  30.,  33.,\n",
              "        36.,  39.,  42.,  45.,  48.,  51.,  54.,  57.,  60.,  63.,  66.,\n",
              "        69.,  72.,  75.,  78.,  81.,  84.,  87.,  90.,  93.,  96.,  99.,\n",
              "       102., 105., 108., 111., 114., 117., 120., 123., 126., 129., 132.,\n",
              "       135., 138., 141., 144., 147., 150., 153., 156., 159., 162., 165.,\n",
              "       168., 171., 174., 177., 180., 183., 186., 189., 192., 195., 198.,\n",
              "       201., 204., 207., 210.], dtype=float32)>"
            ]
          },
          "metadata": {},
          "execution_count": 30
        }
      ]
    },
    {
      "cell_type": "code",
      "metadata": {
        "colab": {
          "base_uri": "https://localhost:8080/",
          "height": 282
        },
        "id": "VXnN-LYGmC_5",
        "outputId": "1c82b41a-a435-4f01-8fcf-c18bb31061b6"
      },
      "source": [
        "# Add more data\n",
        "X = tf.range(-7.0, limit=301.0, delta=3, name=\"range\")\n",
        "\n",
        "# Create dummy labels / dependant variable\n",
        "y = tf.range(3.0, limit=312.0, delta=3, name=\"range\")\n",
        "X,y\n",
        "\n",
        "# Visualize it \n",
        "plt.scatter(X,y)"
      ],
      "execution_count": null,
      "outputs": [
        {
          "output_type": "execute_result",
          "data": {
            "text/plain": [
              "<matplotlib.collections.PathCollection at 0x7f1aa49c5890>"
            ]
          },
          "metadata": {},
          "execution_count": 70
        },
        {
          "output_type": "display_data",
          "data": {
            "image/png": "[encoded data removed]",
            "text/plain": [
              "<Figure size 432x288 with 1 Axes>"
            ]
          },
          "metadata": {
            "needs_background": "light"
          }
        }
      ]
    },
    {
      "cell_type": "code",
      "metadata": {
        "id": "yla8BtcHpDMf"
      },
      "source": [
        "# Linear should have just two weights \n",
        "# So if we do one hidden layer with 2 neurons + lr = 0.01 + add a bit more data + a few more epochs - its is awesome !\n",
        "\n",
        "\n",
        "model=tf.keras.Sequential([\n",
        "        tf.keras.layers.Dense(2, activation=\"relu\"),\n",
        "        tf.keras.layers.Dense(1)\n",
        "        ])\n",
        "\n",
        "model.compile(loss=tf.keras.losses.mae, \n",
        "              optimizer=tf.keras.optimizers.Adam(learning_rate=0.01),\n",
        "              metrics=[\"mse\"])\n",
        "\n",
        "model.fit(X, y, epochs=1000)"
      ],
      "execution_count": null,
      "outputs": []
    },
    {
      "cell_type": "code",
      "metadata": {
        "colab": {
          "base_uri": "https://localhost:8080/"
        },
        "id": "5F5iocn7q4No",
        "outputId": "31d5b0e2-f4e1-4a41-d3df-7d8c79d11cfd"
      },
      "source": [
        "X, y, model.predict([2367.0])"
      ],
      "execution_count": null,
      "outputs": [
        {
          "output_type": "execute_result",
          "data": {
            "text/plain": [
              "(<tf.Tensor: shape=(103,), dtype=float32, numpy=\n",
              " array([ -7.,  -4.,  -1.,   2.,   5.,   8.,  11.,  14.,  17.,  20.,  23.,\n",
              "         26.,  29.,  32.,  35.,  38.,  41.,  44.,  47.,  50.,  53.,  56.,\n",
              "         59.,  62.,  65.,  68.,  71.,  74.,  77.,  80.,  83.,  86.,  89.,\n",
              "         92.,  95.,  98., 101., 104., 107., 110., 113., 116., 119., 122.,\n",
              "        125., 128., 131., 134., 137., 140., 143., 146., 149., 152., 155.,\n",
              "        158., 161., 164., 167., 170., 173., 176., 179., 182., 185., 188.,\n",
              "        191., 194., 197., 200., 203., 206., 209., 212., 215., 218., 221.,\n",
              "        224., 227., 230., 233., 236., 239., 242., 245., 248., 251., 254.,\n",
              "        257., 260., 263., 266., 269., 272., 275., 278., 281., 284., 287.,\n",
              "        290., 293., 296., 299.], dtype=float32)>,\n",
              " <tf.Tensor: shape=(103,), dtype=float32, numpy=\n",
              " array([  3.,   6.,   9.,  12.,  15.,  18.,  21.,  24.,  27.,  30.,  33.,\n",
              "         36.,  39.,  42.,  45.,  48.,  51.,  54.,  57.,  60.,  63.,  66.,\n",
              "         69.,  72.,  75.,  78.,  81.,  84.,  87.,  90.,  93.,  96.,  99.,\n",
              "        102., 105., 108., 111., 114., 117., 120., 123., 126., 129., 132.,\n",
              "        135., 138., 141., 144., 147., 150., 153., 156., 159., 162., 165.,\n",
              "        168., 171., 174., 177., 180., 183., 186., 189., 192., 195., 198.,\n",
              "        201., 204., 207., 210., 213., 216., 219., 222., 225., 228., 231.,\n",
              "        234., 237., 240., 243., 246., 249., 252., 255., 258., 261., 264.,\n",
              "        267., 270., 273., 276., 279., 282., 285., 288., 291., 294., 297.,\n",
              "        300., 303., 306., 309.], dtype=float32)>,\n",
              " array([[2377.3945]], dtype=float32))"
            ]
          },
          "metadata": {},
          "execution_count": 99
        }
      ]
    },
    {
      "cell_type": "code",
      "metadata": {
        "id": "aqAmooCHqXwj",
        "outputId": "5e4b1059-f2b9-4ba8-d5c7-18d2cbb3df66",
        "colab": {
          "base_uri": "https://localhost:8080/",
          "height": 282
        }
      },
      "source": [
        "# Lets simplify even further \n",
        "# In theory we shpuld only need 2 parameters for a liner regression \n",
        "# Add more data\n",
        "import tensorflow as tf\n",
        "import matplotlib.pyplot as plt\n",
        "X = tf.range(-7.0, limit=301.0, delta=3, name=\"range\")\n",
        "\n",
        "# Create dummy labels / dependant variable\n",
        "y = tf.range(3.0, limit=312.0, delta=3, name=\"range\")\n",
        "X,y\n",
        "\n",
        "# Visualize it \n",
        "plt.scatter(X,y)"
      ],
      "execution_count": 12,
      "outputs": [
        {
          "output_type": "execute_result",
          "data": {
            "text/plain": [
              "<matplotlib.collections.PathCollection at 0x7faffcfc0a50>"
            ]
          },
          "metadata": {},
          "execution_count": 12
        },
        {
          "output_type": "display_data",
          "data": {
            "image/png": "[encoded data removed]",
            "text/plain": [
              "<Figure size 432x288 with 1 Axes>"
            ]
          },
          "metadata": {
            "needs_background": "light"
          }
        }
      ]
    },
    {
      "cell_type": "code",
      "metadata": {
        "id": "jbXodEH3r3Zk",
        "outputId": "9e35b5ae-4bd6-4d10-8312-262f2a7021a4",
        "colab": {
          "base_uri": "https://localhost:8080/"
        }
      },
      "source": [
        "# Lets do a 2 parameter model\n",
        "model = tf.keras.Sequential([\n",
        "    tf.keras.layers.Dense(1, input_shape=[1])\n",
        "    ])\n",
        "model.compile(loss=tf.keras.losses.mae,\n",
        "              optimizer=tf.keras.optimizers.Adam(learning_rate=0.01),\n",
        "              metrics=[\"mae\"])\n",
        "model.summary()"
      ],
      "execution_count": 22,
      "outputs": [
        {
          "output_type": "stream",
          "name": "stdout",
          "text": [
            "Model: \"sequential_7\"\n",
            "_________________________________________________________________\n",
            "Layer (type)                 Output Shape              Param #   \n",
            "=================================================================\n",
            "dense_8 (Dense)              (None, 1)                 2         \n",
            "=================================================================\n",
            "Total params: 2\n",
            "Trainable params: 2\n",
            "Non-trainable params: 0\n",
            "_________________________________________________________________\n"
          ]
        }
      ]
    },
    {
      "cell_type": "code",
      "metadata": {
        "id": "yV8oojXZvDcr"
      },
      "source": [
        "model.fit(X, y, epochs=1000)"
      ],
      "execution_count": null,
      "outputs": []
    },
    {
      "cell_type": "code",
      "metadata": {
        "id": "JrM-Qa7svpTU",
        "outputId": "01535b1b-4639-4925-9ce0-312e7fee2156",
        "colab": {
          "base_uri": "https://localhost:8080/"
        }
      },
      "source": [
        "model.predict([303.0])"
      ],
      "execution_count": 24,
      "outputs": [
        {
          "output_type": "execute_result",
          "data": {
            "text/plain": [
              "array([[313.00827]], dtype=float32)"
            ]
          },
          "metadata": {},
          "execution_count": 24
        }
      ]
    },
    {
      "cell_type": "code",
      "metadata": {
        "id": "4sthrzVHv2la",
        "outputId": "10415b95-b657-4541-a44d-658172853b8b",
        "colab": {
          "base_uri": "https://localhost:8080/"
        }
      },
      "source": [
        "# So it works fine with two parameters \n",
        "# How to show the weights ?\n",
        "model.trainable_variables"
      ],
      "execution_count": 25,
      "outputs": [
        {
          "output_type": "execute_result",
          "data": {
            "text/plain": [
              "[<tf.Variable 'dense_8/kernel:0' shape=(1, 1) dtype=float32, numpy=array([[1.0000353]], dtype=float32)>,\n",
              " <tf.Variable 'dense_8/bias:0' shape=(1,) dtype=float32, numpy=array([9.997576], dtype=float32)>]"
            ]
          },
          "metadata": {},
          "execution_count": 25
        }
      ]
    },
    {
      "cell_type": "code",
      "metadata": {
        "id": "42Gc0DGm3yJg",
        "outputId": "58d5c8bb-f963-4278-ccb1-f29020e36efe",
        "colab": {
          "base_uri": "https://localhost:8080/"
        }
      },
      "source": [
        "model = tf.keras.Sequential([\n",
        "    tf.keras.layers.Dense(100, activation=\"relu\"),\n",
        "    tf.keras.layers.Dense(1)\n",
        "])\n",
        "model.compile(loss=tf.keras.losses.mae,\n",
        "              optimizer=tf.keras.optimizers.Adam(learning_rate=0.01),\n",
        "              metrics=\"mae\")\n",
        "model.fit(X, y, epochs=10)\n",
        "model.summary()"
      ],
      "execution_count": 37,
      "outputs": [
        {
          "output_type": "stream",
          "name": "stdout",
          "text": [
            "Epoch 1/10\n",
            "4/4 [==============================] - 0s 3ms/step - loss: 155.9624 - mae: 155.9624\n",
            "Epoch 2/10\n",
            "4/4 [==============================] - 0s 3ms/step - loss: 102.2095 - mae: 102.2095\n",
            "Epoch 3/10\n",
            "4/4 [==============================] - 0s 3ms/step - loss: 47.7739 - mae: 47.7739\n",
            "Epoch 4/10\n",
            "4/4 [==============================] - 0s 2ms/step - loss: 15.1350 - mae: 15.1350\n",
            "Epoch 5/10\n",
            "4/4 [==============================] - 0s 2ms/step - loss: 32.3932 - mae: 32.3932\n",
            "Epoch 6/10\n",
            "4/4 [==============================] - 0s 2ms/step - loss: 14.7948 - mae: 14.7948\n",
            "Epoch 7/10\n",
            "4/4 [==============================] - 0s 2ms/step - loss: 15.7517 - mae: 15.7517\n",
            "Epoch 8/10\n",
            "4/4 [==============================] - 0s 4ms/step - loss: 15.3209 - mae: 15.3209\n",
            "Epoch 9/10\n",
            "4/4 [==============================] - 0s 2ms/step - loss: 6.8553 - mae: 6.8553\n",
            "Epoch 10/10\n",
            "4/4 [==============================] - 0s 6ms/step - loss: 9.1567 - mae: 9.1567\n",
            "Model: \"sequential_17\"\n",
            "_________________________________________________________________\n",
            "Layer (type)                 Output Shape              Param #   \n",
            "=================================================================\n",
            "dense_27 (Dense)             (None, 100)               200       \n",
            "_________________________________________________________________\n",
            "dense_28 (Dense)             (None, 1)                 101       \n",
            "=================================================================\n",
            "Total params: 301\n",
            "Trainable params: 301\n",
            "Non-trainable params: 0\n",
            "_________________________________________________________________\n"
          ]
        }
      ]
    }
  ]
}