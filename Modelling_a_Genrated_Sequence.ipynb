{
  "nbformat": 4,
  "nbformat_minor": 0,
  "metadata": {
    "colab": {
      "name": "Modelling_a_Genrated_Sequence.ipynb",
      "provenance": [],
      "authorship_tag": "ABX9TyMDWVdNRqSIXz6U+35ChV8m",
      "include_colab_link": true
    },
    "kernelspec": {
      "name": "python3",
      "display_name": "Python 3"
    },
    "language_info": {
      "name": "python"
    }
  },
  "cells": [
    {
      "cell_type": "markdown",
      "metadata": {
        "id": "view-in-github",
        "colab_type": "text"
      },
      "source": [
        "<a href=\"https://colab.research.google.com/github/kevinsen-git/TF_Basics/blob/main/Modelling_a_Genrated_Sequence.ipynb\" target=\"_parent\"><img src=\"https://colab.research.google.com/assets/colab-badge.svg\" alt=\"Open In Colab\"/></a>"
      ]
    },
    {
      "cell_type": "code",
      "metadata": {
        "id": "PU_B045QFCaE"
      },
      "source": [
        ""
      ],
      "execution_count": null,
      "outputs": []
    },
    {
      "cell_type": "markdown",
      "metadata": {
        "id": "gH1THBPAFKqv"
      },
      "source": [
        "## Generate a fixed sequence of numbers and try finding the simplest, most accurate model \n",
        "\n",
        "#### 1. Generate the sequence of 1,000 numbers\n",
        "#### 2. Split into 80% training + 20% testing \n",
        "#### 3. Try various models \n",
        "#### 4. Plot the estimates\n",
        "#### 5. Fine tune the models \n",
        "#### 6. Try a bit of over fitting \n",
        "#### 7. Redo with some gaps in the data\n",
        "#### 8. Redo with some added noise in the data \n",
        "\n",
        "**[Possible Tuning Methods for models]**\n",
        "\n",
        "1. ***Change learning rate***\n",
        "2. ***Change number of epochs***\n",
        "3. ***Add dense layers***\n",
        "4. ***Add neurons per layer*** \n",
        "5. ***Change activation function***\n",
        "6. ***Change optimizer***\n",
        "7. ***Change loss function***\n",
        "8. ***Use more training data***\n"
      ]
    },
    {
      "cell_type": "code",
      "metadata": {
        "id": "B77BdN8EJvf3"
      },
      "source": [
        "# Do the imports\n",
        "import tensorflow as tf \n",
        "import numpy as np \n",
        "import matplotlib as plt \n",
        " "
      ],
      "execution_count": 1,
      "outputs": []
    },
    {
      "cell_type": "code",
      "metadata": {
        "colab": {
          "base_uri": "https://localhost:8080/"
        },
        "id": "9_gTKmTSKFA8",
        "outputId": "9bd55fad-123e-4865-a970-6d69ecdc2e8d"
      },
      "source": [
        "# Show versions\n",
        "print(\"TF =\",tf.__version__,\"| NP =\",np.__version__,\"| MatPlotLib = \",plt.__version__)\n",
        "\n",
        "#pip show tensorflow matplotlib numpy\n",
        "#pip list "
      ],
      "execution_count": 37,
      "outputs": [
        {
          "output_type": "stream",
          "name": "stdout",
          "text": [
            "TF = 2.6.0 | NP = 1.19.5 | MatPlotLib =  3.2.2\n"
          ]
        }
      ]
    },
    {
      "cell_type": "code",
      "metadata": {
        "id": "5cP3wkSBXFnO"
      },
      "source": [
        "# Function to show names and versions of the stuff I am using\n",
        "def my_modules():\n",
        "  print(\"tf =\",tf.__version__,\"| np =\",np.__version__,\"| matplotlib = \",plt.__version__)\n"
      ],
      "execution_count": 42,
      "outputs": []
    },
    {
      "cell_type": "code",
      "metadata": {
        "id": "NkAhWbtrXaVM",
        "outputId": "db98f724-0248-48f5-db00-3b71c21b6a98",
        "colab": {
          "base_uri": "https://localhost:8080/"
        }
      },
      "source": [
        "my_modules()"
      ],
      "execution_count": 43,
      "outputs": [
        {
          "output_type": "stream",
          "name": "stdout",
          "text": [
            "tf = 2.6.0 | np = 1.19.5 | matplotlib =  3.2.2\n"
          ]
        }
      ]
    }
  ]
}