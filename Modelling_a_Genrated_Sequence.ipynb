{
  "nbformat": 4,
  "nbformat_minor": 0,
  "metadata": {
    "colab": {
      "name": "Modelling_a_Genrated_Sequence.ipynb",
      "provenance": [],
      "authorship_tag": "ABX9TyNEQe4S/3OPUuIqGGdOPPhh",
      "include_colab_link": true
    },
    "kernelspec": {
      "name": "python3",
      "display_name": "Python 3"
    },
    "language_info": {
      "name": "python"
    }
  },
  "cells": [
    {
      "cell_type": "markdown",
      "metadata": {
        "id": "view-in-github",
        "colab_type": "text"
      },
      "source": [
        "<a href=\"https://colab.research.google.com/github/kevinsen-git/TF_Basics/blob/main/Modelling_a_Genrated_Sequence.ipynb\" target=\"_parent\"><img src=\"https://colab.research.google.com/assets/colab-badge.svg\" alt=\"Open In Colab\"/></a>"
      ]
    },
    {
      "cell_type": "code",
      "metadata": {
        "id": "PU_B045QFCaE"
      },
      "source": [
        ""
      ],
      "execution_count": null,
      "outputs": []
    },
    {
      "cell_type": "markdown",
      "metadata": {
        "id": "gH1THBPAFKqv"
      },
      "source": [
        "## Generate a fixed sequence of numbers and try finding the simplest, most accurate model \n",
        "\n",
        "1. Generate the sequence of 1,000 numbers\n",
        "2. Split into 80% training + 20% testing \n",
        "3. Try various models \n",
        "4. Plot the estimates\n",
        "5. Fine tune the models \n",
        "6. Try a bit of over fitting \n",
        "7. Redo with some gaps in the data\n",
        "8. Redo with some added noise in the data \n",
        "\n"
      ]
    }
  ]
}