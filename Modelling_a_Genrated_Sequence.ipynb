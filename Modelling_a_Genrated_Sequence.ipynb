{
  "nbformat": 4,
  "nbformat_minor": 0,
  "metadata": {
    "colab": {
      "name": "Modelling_a_Genrated_Sequence.ipynb",
      "provenance": [],
      "collapsed_sections": [],
      "authorship_tag": "ABX9TyMWPaJZISX+SZKwOASpU608",
      "include_colab_link": true
    },
    "kernelspec": {
      "name": "python3",
      "display_name": "Python 3"
    },
    "language_info": {
      "name": "python"
    }
  },
  "cells": [
    {
      "cell_type": "markdown",
      "metadata": {
        "id": "view-in-github",
        "colab_type": "text"
      },
      "source": [
        "<a href=\"https://colab.research.google.com/github/kevinsen-git/TF_Basics/blob/main/Modelling_a_Genrated_Sequence.ipynb\" target=\"_parent\"><img src=\"https://colab.research.google.com/assets/colab-badge.svg\" alt=\"Open In Colab\"/></a>"
      ]
    },
    {
      "cell_type": "markdown",
      "metadata": {
        "id": "gH1THBPAFKqv"
      },
      "source": [
        "## Generate a fixed sequence of numbers and try finding the simplest, most accurate model \n",
        "\n",
        "#### 1. Generate the sequence of 1,000 numbers\n",
        "#### 2. Split into 80% training + 20% testing \n",
        "#### 3. Try various models \n",
        "#### 4. Plot the estimates\n",
        "#### 5. Fine tune the models \n",
        "#### 6. Try a bit of over fitting \n",
        "#### 7. Redo with some gaps in the data\n",
        "#### 8. Redo with some added noise in the data \n",
        "\n",
        "**[Possible Tuning Methods for models]**\n",
        "\n",
        "1. ***Change learning rate***\n",
        "2. ***Change number of epochs***\n",
        "3. ***Add dense layers***\n",
        "4. ***Add neurons per layer*** \n",
        "5. ***Change activation function***\n",
        "6. ***Change optimizer***\n",
        "7. ***Change loss function***\n",
        "8. ***Use more training data***\n"
      ]
    },
    {
      "cell_type": "code",
      "metadata": {
        "id": "B77BdN8EJvf3"
      },
      "source": [
        "# Do the imports and initial setup \n",
        "# Need to have the following as global variables \n",
        "def my_setup() :\n",
        "  global tf, np, plt, tfp\n",
        "  import tensorflow as tf \n",
        "  import numpy as np \n",
        "  import matplotlib.pyplot as plt \n",
        "  import tensorflow_probability as tfp\n",
        "  tf.random.set_seed(42)\n",
        "  \n",
        " "
      ],
      "execution_count": 246,
      "outputs": []
    },
    {
      "cell_type": "code",
      "metadata": {
        "id": "9RJPbvxKadDX"
      },
      "source": [
        "# Function to show names and versions of the stuff I am using\n",
        "def my_modules():\n",
        "  print(\"tf =\",tf.__version__,\"| np =\",np.__version__,\"| tfp =\",tfp.__version__)\n",
        "#pip show tensorflow matplotlib numpy\n",
        "#pip list "
      ],
      "execution_count": 247,
      "outputs": []
    },
    {
      "cell_type": "code",
      "metadata": {
        "id": "MB1uIoasDYdd"
      },
      "source": [
        "# Function to do basic stats on a simple tensor \n",
        "def my_stats(data):\n",
        "  print(\"Min = \",tf.math.reduce_min(data))\n",
        "  print(\"Q25 = \",tfp.stats.percentile(data, 25))\n",
        "  print(\"Q50 = \",tfp.stats.percentile(data, 50))\n",
        "  print(\"Q90 = \",tfp.stats.percentile(data, 90))\n",
        "  print(\"Max= \",tf.math.reduce_max(data))\n",
        "  print(\"Mean = \",tf.math.reduce_mean(data))\n",
        "  print(\"Std Dev = \",tfp.stats.stddev(data))\n",
        "  print()\n",
        "  # Do histogram \n",
        "  plt.hist(data)"
      ],
      "execution_count": 270,
      "outputs": []
    },
    {
      "cell_type": "code",
      "metadata": {
        "id": "QK5ttxuwZptU"
      },
      "source": [
        "# Function to do basic stats on a simple tensor \n",
        "def my_stats2(data):\n",
        "  print(\"Min=\",tf.math.reduce_min(data).numpy().round(2),\"Q25=\",tfp.stats.percentile(data, 25).numpy().round(2),\"Q50=\",tfp.stats.percentile(data, 50).numpy().round(2),\n",
        "        \"Q90=\",tfp.stats.percentile(data, 90).numpy().round(2))\n",
        "  print(\"Max=\",tf.math.reduce_max(data).numpy().round(2),\"Mean=\",tf.math.reduce_mean(data).numpy().round(2),\"StdDev=\",tf.squeeze(tfp.stats.stddev(data)).numpy().round(2))\n",
        "  print()\n",
        "  # Do histogram \n",
        "  plt.hist(data)"
      ],
      "execution_count": 298,
      "outputs": []
    },
    {
      "cell_type": "code",
      "metadata": {
        "id": "iUZBScalWmrW"
      },
      "source": [
        "# Function to calculate the mean absolute error and the mean squared error \n",
        "def my_mae_mse(y_test,y_pred):\n",
        "  mae = tf.metrics.mean_absolute_error(y_test, tf.squeeze(y_pred))\n",
        "  mse = tf.metrics.mean_squared_error(y_test, tf.squeeze(y_pred))\n",
        "  print ('mae = ',mae.numpy(),'| mse = ',mse.numpy())"
      ],
      "execution_count": 249,
      "outputs": []
    },
    {
      "cell_type": "code",
      "metadata": {
        "id": "5cP3wkSBXFnO"
      },
      "source": [
        "# Create plotting function\n",
        "def plot_predictions(train_data,train_labels,test_data,test_labels,predictions):\n",
        "  # The doc string \n",
        "  \"\"\"\n",
        "  Plots the training data and the ground truth vs the prediction\n",
        "  \"\"\"\n",
        "  # Ctrl + Shift + space - will show the docstring in colab jupyter notebooks \n",
        "  plt.figure(figsize=(15,10))\n",
        "  # Plot the training data in blue \n",
        "  plt.scatter(train_data,train_labels,c='b',label='Training Data')\n",
        "  # Plot the test data in green\n",
        "  plt.scatter(test_data,test_labels,c='g',label=\"Test data\")\n",
        "  # Plot the predictions in red \n",
        "  plt.scatter(test_data,predictions,c='r', label=\"Predictions\")\n",
        "  # Show legend\n",
        "  plt.legend()"
      ],
      "execution_count": 250,
      "outputs": []
    },
    {
      "cell_type": "code",
      "metadata": {
        "id": "-ab2JNyaaIZ-"
      },
      "source": [
        "my_setup()\n"
      ],
      "execution_count": 251,
      "outputs": []
    },
    {
      "cell_type": "code",
      "metadata": {
        "colab": {
          "base_uri": "https://localhost:8080/"
        },
        "id": "hZP9PBS2a3cQ",
        "outputId": "49e5564d-9475-4551-dbf6-177d5c83be72"
      },
      "source": [
        "my_modules()"
      ],
      "execution_count": 252,
      "outputs": [
        {
          "output_type": "stream",
          "name": "stdout",
          "text": [
            "tf = 2.6.0 | np = 1.19.5 | tfp = 0.14.1\n"
          ]
        }
      ]
    },
    {
      "cell_type": "code",
      "metadata": {
        "colab": {
          "base_uri": "https://localhost:8080/"
        },
        "id": "mWnCostemzRx",
        "outputId": "52b8fcdb-ce35-4c02-eabe-5b4073688b6c"
      },
      "source": [
        "# Generate the dataset \n",
        "# X_train, y_train, X_test, y_test \n",
        "# Using tf.range\n",
        "\n",
        "X = tf.range(start=1.0, limit=3000, delta=2)\n",
        "y = tf.range(start=100.0, limit=3100, delta=2)\n",
        "# y= X + 100\n",
        "X.shape, y.shape\n"
      ],
      "execution_count": 253,
      "outputs": [
        {
          "output_type": "execute_result",
          "data": {
            "text/plain": [
              "(TensorShape([1500]), TensorShape([1500]))"
            ]
          },
          "metadata": {},
          "execution_count": 253
        }
      ]
    },
    {
      "cell_type": "code",
      "metadata": {
        "id": "BO8GUNJhoBGs"
      },
      "source": [
        "# Now split into training 1000 and test 500 \n",
        "# Preserve the order initially \n",
        "X_train = X[:1000]\n",
        "y_train = y[:1000]\n",
        "X_test = X[1000:]\n",
        "y_test = y[1000:]\n",
        "y_pred = y_test + 200\n"
      ],
      "execution_count": 254,
      "outputs": []
    },
    {
      "cell_type": "code",
      "metadata": {
        "colab": {
          "base_uri": "https://localhost:8080/"
        },
        "id": "c7TbjFODEh1F",
        "outputId": "b12c5992-84bb-4e9e-d0ae-f39b99609168"
      },
      "source": [
        "# Show basic stats\n",
        "my_stats(X_train)\n",
        "my_stats(X_test)\n",
        "my_stats(y_train)\n",
        "my_stats(y_test)\n",
        "\n"
      ],
      "execution_count": 255,
      "outputs": [
        {
          "output_type": "stream",
          "name": "stdout",
          "text": [
            "Min =  tf.Tensor(1.0, shape=(), dtype=float32)\n",
            "Q25 =  tf.Tensor(501.0, shape=(), dtype=float32)\n",
            "Q50 =  tf.Tensor(1001.0, shape=(), dtype=float32)\n",
            "Q90 =  tf.Tensor(1799.0, shape=(), dtype=float32)\n",
            "Max=  tf.Tensor(1999.0, shape=(), dtype=float32)\n",
            "Mean =  tf.Tensor(1000.0, shape=(), dtype=float32)\n",
            "Std Dev =  tf.Tensor(577.35, shape=(), dtype=float32)\n",
            "\n",
            "Min =  tf.Tensor(2001.0, shape=(), dtype=float32)\n",
            "Q25 =  tf.Tensor(2251.0, shape=(), dtype=float32)\n",
            "Q50 =  tf.Tensor(2501.0, shape=(), dtype=float32)\n",
            "Q90 =  tf.Tensor(2899.0, shape=(), dtype=float32)\n",
            "Max=  tf.Tensor(2999.0, shape=(), dtype=float32)\n",
            "Mean =  tf.Tensor(2500.0, shape=(), dtype=float32)\n",
            "Std Dev =  tf.Tensor(288.67456, shape=(), dtype=float32)\n",
            "\n",
            "Min =  tf.Tensor(100.0, shape=(), dtype=float32)\n",
            "Q25 =  tf.Tensor(600.0, shape=(), dtype=float32)\n",
            "Q50 =  tf.Tensor(1100.0, shape=(), dtype=float32)\n",
            "Q90 =  tf.Tensor(1898.0, shape=(), dtype=float32)\n",
            "Max=  tf.Tensor(2098.0, shape=(), dtype=float32)\n",
            "Mean =  tf.Tensor(1099.0, shape=(), dtype=float32)\n",
            "Std Dev =  tf.Tensor(577.35, shape=(), dtype=float32)\n",
            "\n",
            "Min =  tf.Tensor(2100.0, shape=(), dtype=float32)\n",
            "Q25 =  tf.Tensor(2350.0, shape=(), dtype=float32)\n",
            "Q50 =  tf.Tensor(2600.0, shape=(), dtype=float32)\n",
            "Q90 =  tf.Tensor(2998.0, shape=(), dtype=float32)\n",
            "Max=  tf.Tensor(3098.0, shape=(), dtype=float32)\n",
            "Mean =  tf.Tensor(2599.0, shape=(), dtype=float32)\n",
            "Std Dev =  tf.Tensor(288.67456, shape=(), dtype=float32)\n",
            "\n"
          ]
        }
      ]
    },
    {
      "cell_type": "code",
      "metadata": {
        "colab": {
          "base_uri": "https://localhost:8080/"
        },
        "id": "bezhkpiM8YVv",
        "outputId": "3ac561bf-1b35-4be7-990d-5f20be836cc6"
      },
      "source": [
        "# Fit the first model \n",
        "# One layer \n",
        "# With smell/default learning rate it is TERRIBLE !\n",
        "# Create the model\n",
        "model = tf.keras.Sequential()\n",
        "#model.add(tf.keras.layers.Dense(100,activation=\"relu\"))\n",
        "model.add(tf.keras.layers.Dense(1))\n",
        "\n",
        "# Compile the model\n",
        "model.compile(loss=tf.keras.losses.mae, \n",
        "              optimizer=tf.keras.optimizers.Adam(lr=0.001),\n",
        "              metrics = [\"mae\"])\n",
        "\n",
        "# Fit the model\n",
        "model.fit(X_train, y_train, epochs = 10)\n"
      ],
      "execution_count": 256,
      "outputs": [
        {
          "output_type": "stream",
          "name": "stdout",
          "text": [
            "Epoch 1/10\n"
          ]
        },
        {
          "output_type": "stream",
          "name": "stderr",
          "text": [
            "/usr/local/lib/python3.7/dist-packages/keras/optimizer_v2/optimizer_v2.py:356: UserWarning: The `lr` argument is deprecated, use `learning_rate` instead.\n",
            "  \"The `lr` argument is deprecated, use `learning_rate` instead.\")\n"
          ]
        },
        {
          "output_type": "stream",
          "name": "stdout",
          "text": [
            "32/32 [==============================] - 0s 1ms/step - loss: 513.6979 - mae: 513.6979\n",
            "Epoch 2/10\n",
            "32/32 [==============================] - 0s 1ms/step - loss: 481.8493 - mae: 481.8493\n",
            "Epoch 3/10\n",
            "32/32 [==============================] - 0s 1ms/step - loss: 450.0294 - mae: 450.0294\n",
            "Epoch 4/10\n",
            "32/32 [==============================] - 0s 1ms/step - loss: 418.0670 - mae: 418.0670\n",
            "Epoch 5/10\n",
            "32/32 [==============================] - 0s 2ms/step - loss: 386.1843 - mae: 386.1843\n",
            "Epoch 6/10\n",
            "32/32 [==============================] - 0s 1ms/step - loss: 354.4865 - mae: 354.4865\n",
            "Epoch 7/10\n",
            "32/32 [==============================] - 0s 1ms/step - loss: 322.6262 - mae: 322.6262\n",
            "Epoch 8/10\n",
            "32/32 [==============================] - 0s 1ms/step - loss: 290.6887 - mae: 290.6887\n",
            "Epoch 9/10\n",
            "32/32 [==============================] - 0s 1ms/step - loss: 258.9157 - mae: 258.9157\n",
            "Epoch 10/10\n",
            "32/32 [==============================] - 0s 2ms/step - loss: 227.0204 - mae: 227.0204\n"
          ]
        },
        {
          "output_type": "execute_result",
          "data": {
            "text/plain": [
              "<keras.callbacks.History at 0x7fbc6fd58050>"
            ]
          },
          "metadata": {},
          "execution_count": 256
        }
      ]
    },
    {
      "cell_type": "code",
      "metadata": {
        "colab": {
          "base_uri": "https://localhost:8080/"
        },
        "id": "sP9ffQoH-4_P",
        "outputId": "5c038301-4a5c-48b7-bb53-d7658deb60de"
      },
      "source": [
        "# Summary \n",
        "my_stats2(y_pred)\n",
        "\n",
        "# Get mae_mse\n",
        "my_mae_mse(y_test, y_pred)\n",
        "\n",
        "# Predict and plot \n",
        "y_pred = model.predict(X_test)\n",
        "\n"
      ],
      "execution_count": 257,
      "outputs": [
        {
          "output_type": "stream",
          "name": "stdout",
          "text": [
            "mae =  200.0 | mse =  40000.0\n"
          ]
        }
      ]
    },
    {
      "cell_type": "code",
      "metadata": {
        "colab": {
          "base_uri": "https://localhost:8080/"
        },
        "id": "31itS8OiIljq",
        "outputId": "7c8d6df3-7177-4f59-dbde-c5fd3cd4a3d5"
      },
      "source": [
        "# Show basic stats\n",
        "my_stats(X_train)\n",
        "my_stats(X_test)\n",
        "my_stats(y_train)\n",
        "my_stats(y_test)\n",
        "my_stats(y_pred)\n",
        "\n"
      ],
      "execution_count": 258,
      "outputs": [
        {
          "output_type": "stream",
          "name": "stdout",
          "text": [
            "Min =  tf.Tensor(1.0, shape=(), dtype=float32)\n",
            "Q25 =  tf.Tensor(501.0, shape=(), dtype=float32)\n",
            "Q50 =  tf.Tensor(1001.0, shape=(), dtype=float32)\n",
            "Q90 =  tf.Tensor(1799.0, shape=(), dtype=float32)\n",
            "Max=  tf.Tensor(1999.0, shape=(), dtype=float32)\n",
            "Mean =  tf.Tensor(1000.0, shape=(), dtype=float32)\n",
            "Std Dev =  tf.Tensor(577.35, shape=(), dtype=float32)\n",
            "\n",
            "Min =  tf.Tensor(2001.0, shape=(), dtype=float32)\n",
            "Q25 =  tf.Tensor(2251.0, shape=(), dtype=float32)\n",
            "Q50 =  tf.Tensor(2501.0, shape=(), dtype=float32)\n",
            "Q90 =  tf.Tensor(2899.0, shape=(), dtype=float32)\n",
            "Max=  tf.Tensor(2999.0, shape=(), dtype=float32)\n",
            "Mean =  tf.Tensor(2500.0, shape=(), dtype=float32)\n",
            "Std Dev =  tf.Tensor(288.67456, shape=(), dtype=float32)\n",
            "\n",
            "Min =  tf.Tensor(100.0, shape=(), dtype=float32)\n",
            "Q25 =  tf.Tensor(600.0, shape=(), dtype=float32)\n",
            "Q50 =  tf.Tensor(1100.0, shape=(), dtype=float32)\n",
            "Q90 =  tf.Tensor(1898.0, shape=(), dtype=float32)\n",
            "Max=  tf.Tensor(2098.0, shape=(), dtype=float32)\n",
            "Mean =  tf.Tensor(1099.0, shape=(), dtype=float32)\n",
            "Std Dev =  tf.Tensor(577.35, shape=(), dtype=float32)\n",
            "\n",
            "Min =  tf.Tensor(2100.0, shape=(), dtype=float32)\n",
            "Q25 =  tf.Tensor(2350.0, shape=(), dtype=float32)\n",
            "Q50 =  tf.Tensor(2600.0, shape=(), dtype=float32)\n",
            "Q90 =  tf.Tensor(2998.0, shape=(), dtype=float32)\n",
            "Max=  tf.Tensor(3098.0, shape=(), dtype=float32)\n",
            "Mean =  tf.Tensor(2599.0, shape=(), dtype=float32)\n",
            "Std Dev =  tf.Tensor(288.67456, shape=(), dtype=float32)\n",
            "\n",
            "Min =  tf.Tensor(1778.4794, shape=(), dtype=float32)\n",
            "Q25 =  tf.Tensor(2000.6382, shape=(), dtype=float32)\n",
            "Q50 =  tf.Tensor(2222.797, shape=(), dtype=float32)\n",
            "Q90 =  tf.Tensor(2576.474, shape=(), dtype=float32)\n",
            "Max=  tf.Tensor(2665.3376, shape=(), dtype=float32)\n",
            "Mean =  tf.Tensor(2221.9084, shape=(), dtype=float32)\n",
            "Std Dev =  tf.Tensor([256.52646], shape=(1,), dtype=float32)\n",
            "\n"
          ]
        }
      ]
    },
    {
      "cell_type": "code",
      "metadata": {
        "colab": {
          "base_uri": "https://localhost:8080/",
          "height": 592
        },
        "id": "e_f33kX3Jeyb",
        "outputId": "f43400d5-4bcf-41a2-ccb1-5bc80b8c09b0"
      },
      "source": [
        "# Plot \n",
        "plot_predictions(X_train, y_train, X_test, y_test, y_pred)\n"
      ],
      "execution_count": 259,
      "outputs": [
        {
          "output_type": "display_data",
          "data": {
            "image/png": "[encoded data removed]",
            "text/plain": [
              "<Figure size 1080x720 with 1 Axes>"
            ]
          },
          "metadata": {
            "needs_background": "light"
          }
        }
      ]
    },
    {
      "cell_type": "code",
      "metadata": {
        "colab": {
          "base_uri": "https://localhost:8080/",
          "height": 949
        },
        "id": "CxpxHZZOLuKy",
        "outputId": "c9b25576-a1f5-4a16-cbc7-e7ca8f5c3a8d"
      },
      "source": [
        "# Fit the second model \n",
        "# One layer \n",
        "# With large learning rate it is much better \n",
        "# Create the model\n",
        "model = tf.keras.Sequential()\n",
        "#model.add(tf.keras.layers.Dense(100,activation=\"relu\"))\n",
        "model.add(tf.keras.layers.Dense(1))\n",
        "\n",
        "# Compile the model\n",
        "model.compile(loss=tf.keras.losses.mae, \n",
        "              optimizer=tf.keras.optimizers.Adam(learning_rate=0.01),\n",
        "              metrics = [\"mae\"])\n",
        "\n",
        "# Fit the model\n",
        "model.fit(X_train, y_train, epochs = 10)\n",
        "\n",
        "# Predict \n",
        "y_pred = model.predict(X_test)\n",
        "\n",
        "# Summary \n",
        "my_stats2(y_pred)\n",
        "\n",
        "# Get mae_mse\n",
        "my_mae_mse(y_test, y_pred)\n",
        "\n",
        "# Plot \n",
        "plot_predictions(X_train, y_train, X_test, y_test, y_pred)"
      ],
      "execution_count": 260,
      "outputs": [
        {
          "output_type": "stream",
          "name": "stdout",
          "text": [
            "Epoch 1/10\n",
            "32/32 [==============================] - 0s 1ms/step - loss: 295.7043 - mae: 295.7043\n",
            "Epoch 2/10\n",
            "32/32 [==============================] - 0s 1ms/step - loss: 61.4008 - mae: 61.4008\n",
            "Epoch 3/10\n",
            "32/32 [==============================] - 0s 1ms/step - loss: 41.5755 - mae: 41.5755\n",
            "Epoch 4/10\n",
            "32/32 [==============================] - 0s 1ms/step - loss: 41.1381 - mae: 41.1381\n",
            "Epoch 5/10\n",
            "32/32 [==============================] - 0s 1ms/step - loss: 40.7451 - mae: 40.7451\n",
            "Epoch 6/10\n",
            "32/32 [==============================] - 0s 1ms/step - loss: 40.6571 - mae: 40.6571\n",
            "Epoch 7/10\n",
            "32/32 [==============================] - 0s 1ms/step - loss: 41.3032 - mae: 41.3032\n",
            "Epoch 8/10\n",
            "32/32 [==============================] - 0s 1ms/step - loss: 40.6375 - mae: 40.6375\n",
            "Epoch 9/10\n",
            "32/32 [==============================] - 0s 1ms/step - loss: 40.5563 - mae: 40.5563\n",
            "Epoch 10/10\n",
            "32/32 [==============================] - 0s 1ms/step - loss: 40.5720 - mae: 40.5720\n",
            "mae =  81.64508 | mse =  7090.432\n"
          ]
        },
        {
          "output_type": "display_data",
          "data": {
            "image/png": "[encoded data removed]",
            "text/plain": [
              "<Figure size 1080x720 with 1 Axes>"
            ]
          },
          "metadata": {
            "needs_background": "light"
          }
        }
      ]
    },
    {
      "cell_type": "code",
      "metadata": {
        "colab": {
          "base_uri": "https://localhost:8080/",
          "height": 949
        },
        "id": "4Xl3S5c2MHvy",
        "outputId": "229a5f85-aad3-4e1f-a48b-3d6e1721699a"
      },
      "source": [
        "# Fit the third model \n",
        "# One layer \n",
        "# With large learning rate it is much better \n",
        "# Create the model\n",
        "model = tf.keras.Sequential()\n",
        "#model.add(tf.keras.layers.Dense(100,activation=\"relu\"))\n",
        "model.add(tf.keras.layers.Dense(1))\n",
        "\n",
        "# Compile the model\n",
        "model.compile(loss=tf.keras.losses.mae, \n",
        "              optimizer=tf.keras.optimizers.Adam(learning_rate=100.0),\n",
        "              metrics = [\"mae\"])\n",
        "\n",
        "# Fit the model\n",
        "model.fit(X_train, y_train, epochs = 10)\n",
        "\n",
        "# Predict \n",
        "y_pred = model.predict(X_test)\n",
        "\n",
        "# Summary \n",
        "my_stats2(y_pred)\n",
        "\n",
        "# Get mase_mse\n",
        "my_mae_mse(y_test, y_pred)\n",
        "\n",
        "# Plot \n",
        "plot_predictions(X_train, y_train, X_test, y_test, y_pred)"
      ],
      "execution_count": 261,
      "outputs": [
        {
          "output_type": "stream",
          "name": "stdout",
          "text": [
            "Epoch 1/10\n",
            "32/32 [==============================] - 0s 1ms/step - loss: 33629.9648 - mae: 33629.9648\n",
            "Epoch 2/10\n",
            "32/32 [==============================] - 0s 1ms/step - loss: 7067.0371 - mae: 7067.0371\n",
            "Epoch 3/10\n",
            "32/32 [==============================] - 0s 1ms/step - loss: 8094.9878 - mae: 8094.9878\n",
            "Epoch 4/10\n",
            "32/32 [==============================] - 0s 1ms/step - loss: 19435.9766 - mae: 19435.9766\n",
            "Epoch 5/10\n",
            "32/32 [==============================] - 0s 1ms/step - loss: 5330.2432 - mae: 5330.2432\n",
            "Epoch 6/10\n",
            "32/32 [==============================] - 0s 2ms/step - loss: 17528.5742 - mae: 17528.5742\n",
            "Epoch 7/10\n",
            "32/32 [==============================] - 0s 1ms/step - loss: 7551.4346 - mae: 7551.4346\n",
            "Epoch 8/10\n",
            "32/32 [==============================] - 0s 1ms/step - loss: 9204.1953 - mae: 9204.1953\n",
            "Epoch 9/10\n",
            "32/32 [==============================] - 0s 1ms/step - loss: 10039.9893 - mae: 10039.9893\n",
            "Epoch 10/10\n",
            "32/32 [==============================] - 0s 1ms/step - loss: 10587.9541 - mae: 10587.9541\n",
            "mae =  14945.898 | mse =  226374270.0\n"
          ]
        },
        {
          "output_type": "display_data",
          "data": {
            "image/png": "[encoded data removed]",
            "text/plain": [
              "<Figure size 1080x720 with 1 Axes>"
            ]
          },
          "metadata": {
            "needs_background": "light"
          }
        }
      ]
    },
    {
      "cell_type": "code",
      "metadata": {
        "colab": {
          "base_uri": "https://localhost:8080/"
        },
        "id": "U3bXCDSMTW6f",
        "outputId": "42f0fe3b-922b-41ba-b501-fc3688028df9"
      },
      "source": [
        "# Calculate the mean absolute error and the mean squared error \n",
        "mae = tf.metrics.mean_absolute_error(y_test, tf.squeeze(y_pred))\n",
        "mse = tf.metrics.mean_squared_error(y_test, tf.squeeze(y_pred))\n",
        "print ('mae = ',mae.numpy(),'| mse = ',mse.numpy())"
      ],
      "execution_count": 262,
      "outputs": [
        {
          "output_type": "stream",
          "name": "stdout",
          "text": [
            "mae =  14945.898 | mse =  226374270.0\n"
          ]
        }
      ]
    },
    {
      "cell_type": "code",
      "metadata": {
        "colab": {
          "base_uri": "https://localhost:8080/",
          "height": 925
        },
        "id": "KnJg2mwLM0Ci",
        "outputId": "a0d6b6a1-6b00-4192-c69d-79de43da05ee"
      },
      "source": [
        "# Fit the fourth model \n",
        "# One layer \n",
        "# With large learning rate it is much better \n",
        "# Create the model\n",
        "model = tf.keras.Sequential()\n",
        "#model.add(tf.keras.layers.Dense(100,activation=\"relu\"))\n",
        "model.add(tf.keras.layers.Dense(1))\n",
        "\n",
        "# Compile the model\n",
        "model.compile(loss=tf.keras.losses.mae, \n",
        "              optimizer=tf.keras.optimizers.Adam(learning_rate=0.01),\n",
        "              metrics = [\"mae\"])\n",
        "\n",
        "# Model Summry\n",
        "model.summary\n",
        "\n",
        "# Fit the model\n",
        "model.fit(X_train, y_train, epochs = 300, verbose=0)\n",
        "\n",
        "# Predict \n",
        "y_pred = model.predict(X_test)\n",
        "\n",
        "# Evaluate\n",
        "model.evaluate(X_test, y_test)\n",
        "\n",
        "# Summary \n",
        "my_stats2(y_pred)\n",
        "\n",
        "# Get mae_mse\n",
        "my_mae_mse(y_test, y_pred)\n",
        "\n",
        "\n",
        "# Plot \n",
        "plot_predictions(X_train, y_train, X_test, y_test, y_pred)"
      ],
      "execution_count": 300,
      "outputs": [
        {
          "output_type": "stream",
          "name": "stdout",
          "text": [
            "16/16 [==============================] - 0s 1ms/step - loss: 11.4675 - mae: 11.4675\n",
            "Min= 2106.21 Q25= 2358.85 Q50= 2611.48 Q90= 3013.67\n",
            "Max= 3114.72 Mean= 2610.47 StdDev= 291.71\n",
            "\n",
            "mae =  11.467547 | mse =  140.73985\n"
          ]
        },
        {
          "output_type": "display_data",
          "data": {
            "image/png": "[encoded data removed]",
            "text/plain": [
              "<Figure size 432x288 with 1 Axes>"
            ]
          },
          "metadata": {
            "needs_background": "light"
          }
        },
        {
          "output_type": "display_data",
          "data": {
            "image/png": "[encoded data removed]",
            "text/plain": [
              "<Figure size 1080x720 with 1 Axes>"
            ]
          },
          "metadata": {
            "needs_background": "light"
          }
        }
      ]
    }
  ]
}