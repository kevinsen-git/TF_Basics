{
  "nbformat": 4,
  "nbformat_minor": 0,
  "metadata": {
    "colab": {
      "name": "Modelling_a_Genrated_Sequence.ipynb",
      "provenance": [],
      "collapsed_sections": [],
      "authorship_tag": "ABX9TyM469ANuh7ESsmMUWtulq89",
      "include_colab_link": true
    },
    "kernelspec": {
      "name": "python3",
      "display_name": "Python 3"
    },
    "language_info": {
      "name": "python"
    }
  },
  "cells": [
    {
      "cell_type": "markdown",
      "metadata": {
        "id": "view-in-github",
        "colab_type": "text"
      },
      "source": [
        "<a href=\"https://colab.research.google.com/github/kevinsen-git/TF_Basics/blob/main/Modelling_a_Genrated_Sequence.ipynb\" target=\"_parent\"><img src=\"https://colab.research.google.com/assets/colab-badge.svg\" alt=\"Open In Colab\"/></a>"
      ]
    },
    {
      "cell_type": "markdown",
      "metadata": {
        "id": "gH1THBPAFKqv"
      },
      "source": [
        "## Generate a fixed sequence of numbers and try finding the simplest, most accurate model \n",
        "\n",
        "#### 1. Generate the sequence of 1,000 numbers\n",
        "#### 2. Split into 80% training + 20% testing \n",
        "#### 3. Try various models \n",
        "#### 4. Plot the estimates\n",
        "#### 5. Fine tune the models \n",
        "#### 6. Try a bit of over fitting \n",
        "#### 7. Redo with some gaps in the data\n",
        "#### 8. Redo with some added noise in the data \n",
        "\n",
        "**[Possible Tuning Methods for models]**\n",
        "\n",
        "1. ***Change learning rate***\n",
        "2. ***Change number of epochs***\n",
        "3. ***Add dense layers***\n",
        "4. ***Add neurons per layer*** \n",
        "5. ***Change activation function***\n",
        "6. ***Change optimizer***\n",
        "7. ***Change loss function***\n",
        "8. ***Use more training data***\n"
      ]
    },
    {
      "cell_type": "code",
      "metadata": {
        "id": "B77BdN8EJvf3"
      },
      "source": [
        "# Do the imports and initial setup \n",
        "# Need to have the following as global variables \n",
        "def my_setup() :\n",
        "  global tf, np, plt, tfp\n",
        "  import tensorflow as tf \n",
        "  import numpy as np \n",
        "  import matplotlib.pyplot as plt \n",
        "  import tensorflow_probability as tfp\n",
        "  tf.random.set_seed(42)\n",
        "  \n",
        " "
      ],
      "execution_count": 154,
      "outputs": []
    },
    {
      "cell_type": "code",
      "metadata": {
        "id": "9RJPbvxKadDX"
      },
      "source": [
        "# Function to show names and versions of the stuff I am using\n",
        "def my_modules():\n",
        "  print(\"tf =\",tf.__version__,\"| np =\",np.__version__,\"| tfp =\",tfp.__version__)\n",
        "#pip show tensorflow matplotlib numpy\n",
        "#pip list "
      ],
      "execution_count": 155,
      "outputs": []
    },
    {
      "cell_type": "code",
      "metadata": {
        "id": "MB1uIoasDYdd"
      },
      "source": [
        "# Function to do basic stats on a simple tensor \n",
        "def my_stats(data):\n",
        "  print(\"Min = \",tf.math.reduce_min(data))\n",
        "  print(\"Q25 = \",tfp.stats.percentile(data, 25))\n",
        "  print(\"Q50 = \",tfp.stats.percentile(data, 50))\n",
        "  print(\"Q90 = \",tfp.stats.percentile(data, 90))\n",
        "  print(\"Max= \",tf.math.reduce_max(data))\n",
        "  print(\"Mean = \",tf.math.reduce_mean(data))\n",
        "  print(\"Std Dev = \",tfp.stats.stddev(data))\n",
        "  print()"
      ],
      "execution_count": 156,
      "outputs": []
    },
    {
      "cell_type": "code",
      "metadata": {
        "id": "5cP3wkSBXFnO"
      },
      "source": [
        "# Create plotting function\n",
        "def plot_predictions(train_data,train_labels,test_data,test_labels,predictions):\n",
        "  # The doc string \n",
        "  \"\"\"\n",
        "  Plots the training data and the ground truth vs the prediction\n",
        "  \"\"\"\n",
        "  # Ctrl + Shift + space - will show the docstring in colab jupyter notebooks \n",
        "  plt.figure(figsize=(15,10))\n",
        "  # Plot the training data in blue \n",
        "  plt.scatter(train_data,train_labels,c='b',label='Training Data')\n",
        "  # Plot the test data in green\n",
        "  plt.scatter(test_data,test_labels,c='g',label=\"Test data\")\n",
        "  # Plot the predictions in red \n",
        "  plt.scatter(test_data,predictions,c='r', label=\"Predictions\")\n",
        "  # Show legend\n",
        "  plt.legend()"
      ],
      "execution_count": 157,
      "outputs": []
    },
    {
      "cell_type": "code",
      "metadata": {
        "id": "-ab2JNyaaIZ-"
      },
      "source": [
        "my_setup()\n"
      ],
      "execution_count": 158,
      "outputs": []
    },
    {
      "cell_type": "code",
      "metadata": {
        "colab": {
          "base_uri": "https://localhost:8080/"
        },
        "id": "hZP9PBS2a3cQ",
        "outputId": "1109e213-3f9f-47c0-94a4-675c95c4162a"
      },
      "source": [
        "my_modules()"
      ],
      "execution_count": 159,
      "outputs": [
        {
          "output_type": "stream",
          "name": "stdout",
          "text": [
            "tf = 2.6.0 | np = 1.19.5 | tfp = 0.14.1\n"
          ]
        }
      ]
    },
    {
      "cell_type": "code",
      "metadata": {
        "colab": {
          "base_uri": "https://localhost:8080/"
        },
        "id": "mWnCostemzRx",
        "outputId": "ea4adc58-ba91-4f2b-ae56-e8969b092fdc"
      },
      "source": [
        "# Generate the dataset \n",
        "# X_train, y_train, X_test, y_test \n",
        "# Using tf.range\n",
        "\n",
        "X = tf.range(start=1.0, limit=3000, delta=2)\n",
        "y = tf.range(start=100.0, limit=3100, delta=2)\n",
        "# y= X + 100\n",
        "X.shape, y.shape\n"
      ],
      "execution_count": 160,
      "outputs": [
        {
          "output_type": "execute_result",
          "data": {
            "text/plain": [
              "(TensorShape([1500]), TensorShape([1500]))"
            ]
          },
          "metadata": {},
          "execution_count": 160
        }
      ]
    },
    {
      "cell_type": "code",
      "metadata": {
        "id": "BO8GUNJhoBGs"
      },
      "source": [
        "# Now split into training 1000 and test 500 \n",
        "# Preserve the order initially \n",
        "X_train = X[:1000]\n",
        "y_train = y[:1000]\n",
        "X_test = X[1000:]\n",
        "y_test = y[1000:]\n",
        "y_pred = y_test + 200\n"
      ],
      "execution_count": 161,
      "outputs": []
    },
    {
      "cell_type": "code",
      "metadata": {
        "colab": {
          "base_uri": "https://localhost:8080/"
        },
        "id": "c7TbjFODEh1F",
        "outputId": "bc493dfe-a000-4d07-d4cb-78a308bb23e8"
      },
      "source": [
        "# Show basic stats\n",
        "my_stats(X_train)\n",
        "my_stats(X_test)\n",
        "my_stats(y_train)\n",
        "my_stats(y_test)\n",
        "\n"
      ],
      "execution_count": 163,
      "outputs": [
        {
          "output_type": "stream",
          "name": "stdout",
          "text": [
            "Min =  tf.Tensor(1.0, shape=(), dtype=float32)\n",
            "Q25 =  tf.Tensor(501.0, shape=(), dtype=float32)\n",
            "Q50 =  tf.Tensor(1001.0, shape=(), dtype=float32)\n",
            "Q90 =  tf.Tensor(1799.0, shape=(), dtype=float32)\n",
            "Max=  tf.Tensor(1999.0, shape=(), dtype=float32)\n",
            "Mean =  tf.Tensor(1000.0, shape=(), dtype=float32)\n",
            "Std Dev =  tf.Tensor(577.35, shape=(), dtype=float32)\n",
            "\n",
            "Min =  tf.Tensor(2001.0, shape=(), dtype=float32)\n",
            "Q25 =  tf.Tensor(2251.0, shape=(), dtype=float32)\n",
            "Q50 =  tf.Tensor(2501.0, shape=(), dtype=float32)\n",
            "Q90 =  tf.Tensor(2899.0, shape=(), dtype=float32)\n",
            "Max=  tf.Tensor(2999.0, shape=(), dtype=float32)\n",
            "Mean =  tf.Tensor(2500.0, shape=(), dtype=float32)\n",
            "Std Dev =  tf.Tensor(288.67456, shape=(), dtype=float32)\n",
            "\n",
            "Min =  tf.Tensor(100.0, shape=(), dtype=float32)\n",
            "Q25 =  tf.Tensor(600.0, shape=(), dtype=float32)\n",
            "Q50 =  tf.Tensor(1100.0, shape=(), dtype=float32)\n",
            "Q90 =  tf.Tensor(1898.0, shape=(), dtype=float32)\n",
            "Max=  tf.Tensor(2098.0, shape=(), dtype=float32)\n",
            "Mean =  tf.Tensor(1099.0, shape=(), dtype=float32)\n",
            "Std Dev =  tf.Tensor(577.35, shape=(), dtype=float32)\n",
            "\n",
            "Min =  tf.Tensor(2100.0, shape=(), dtype=float32)\n",
            "Q25 =  tf.Tensor(2350.0, shape=(), dtype=float32)\n",
            "Q50 =  tf.Tensor(2600.0, shape=(), dtype=float32)\n",
            "Q90 =  tf.Tensor(2998.0, shape=(), dtype=float32)\n",
            "Max=  tf.Tensor(3098.0, shape=(), dtype=float32)\n",
            "Mean =  tf.Tensor(2599.0, shape=(), dtype=float32)\n",
            "Std Dev =  tf.Tensor(288.67456, shape=(), dtype=float32)\n",
            "\n"
          ]
        }
      ]
    },
    {
      "cell_type": "code",
      "metadata": {
        "colab": {
          "base_uri": "https://localhost:8080/"
        },
        "id": "bezhkpiM8YVv",
        "outputId": "0126cd6f-08ac-46d6-d31c-bf91cf65628b"
      },
      "source": [
        "# Fit the first model \n",
        "# One layer \n",
        "# With smell/default learning rate it is TERRIBLE !\n",
        "# Create the model\n",
        "model = tf.keras.Sequential()\n",
        "#model.add(tf.keras.layers.Dense(100,activation=\"relu\"))\n",
        "model.add(tf.keras.layers.Dense(1))\n",
        "\n",
        "# Compile the model\n",
        "model.compile(loss=tf.keras.losses.mae, \n",
        "              optimizer=tf.keras.optimizers.Adam(lr=0.001),\n",
        "              metrics = [\"mae\"])\n",
        "\n",
        "# Fit the model\n",
        "model.fit(X_train, y_train, epochs = 10)\n"
      ],
      "execution_count": 194,
      "outputs": [
        {
          "output_type": "stream",
          "name": "stderr",
          "text": [
            "/usr/local/lib/python3.7/dist-packages/keras/optimizer_v2/optimizer_v2.py:356: UserWarning: The `lr` argument is deprecated, use `learning_rate` instead.\n",
            "  \"The `lr` argument is deprecated, use `learning_rate` instead.\")\n"
          ]
        },
        {
          "output_type": "stream",
          "name": "stdout",
          "text": [
            "Epoch 1/10\n",
            "32/32 [==============================] - 0s 1ms/step - loss: 824.1678 - mae: 824.1678\n",
            "Epoch 2/10\n",
            "32/32 [==============================] - 0s 1ms/step - loss: 792.3194 - mae: 792.3194\n",
            "Epoch 3/10\n",
            "32/32 [==============================] - 0s 1ms/step - loss: 760.4995 - mae: 760.4995\n",
            "Epoch 4/10\n",
            "32/32 [==============================] - 0s 1ms/step - loss: 728.5370 - mae: 728.5370\n",
            "Epoch 5/10\n",
            "32/32 [==============================] - 0s 1ms/step - loss: 696.6542 - mae: 696.6542\n",
            "Epoch 6/10\n",
            "32/32 [==============================] - 0s 1ms/step - loss: 664.9564 - mae: 664.9564\n",
            "Epoch 7/10\n",
            "32/32 [==============================] - 0s 1ms/step - loss: 633.0961 - mae: 633.0961\n",
            "Epoch 8/10\n",
            "32/32 [==============================] - 0s 1ms/step - loss: 601.1589 - mae: 601.1589\n",
            "Epoch 9/10\n",
            "32/32 [==============================] - 0s 1ms/step - loss: 569.3857 - mae: 569.3857\n",
            "Epoch 10/10\n",
            "32/32 [==============================] - 0s 1ms/step - loss: 537.4905 - mae: 537.4905\n"
          ]
        },
        {
          "output_type": "execute_result",
          "data": {
            "text/plain": [
              "<keras.callbacks.History at 0x7fbc63f42410>"
            ]
          },
          "metadata": {},
          "execution_count": 194
        }
      ]
    },
    {
      "cell_type": "code",
      "metadata": {
        "id": "sP9ffQoH-4_P"
      },
      "source": [
        "# Predict and plot \n",
        "y_pred = model.predict(X_test)\n",
        "\n"
      ],
      "execution_count": 195,
      "outputs": []
    },
    {
      "cell_type": "code",
      "metadata": {
        "colab": {
          "base_uri": "https://localhost:8080/"
        },
        "id": "31itS8OiIljq",
        "outputId": "89d0dee2-e115-4fa1-8483-ee75e8b8b959"
      },
      "source": [
        "# Show basic stats\n",
        "my_stats(X_train)\n",
        "my_stats(X_test)\n",
        "my_stats(y_train)\n",
        "my_stats(y_test)\n",
        "my_stats(y_pred)\n",
        "\n"
      ],
      "execution_count": 196,
      "outputs": [
        {
          "output_type": "stream",
          "name": "stdout",
          "text": [
            "Min =  tf.Tensor(1.0, shape=(), dtype=float32)\n",
            "Q25 =  tf.Tensor(501.0, shape=(), dtype=float32)\n",
            "Q50 =  tf.Tensor(1001.0, shape=(), dtype=float32)\n",
            "Q90 =  tf.Tensor(1799.0, shape=(), dtype=float32)\n",
            "Max=  tf.Tensor(1999.0, shape=(), dtype=float32)\n",
            "Mean =  tf.Tensor(1000.0, shape=(), dtype=float32)\n",
            "Std Dev =  tf.Tensor(577.35, shape=(), dtype=float32)\n",
            "\n",
            "Min =  tf.Tensor(2001.0, shape=(), dtype=float32)\n",
            "Q25 =  tf.Tensor(2251.0, shape=(), dtype=float32)\n",
            "Q50 =  tf.Tensor(2501.0, shape=(), dtype=float32)\n",
            "Q90 =  tf.Tensor(2899.0, shape=(), dtype=float32)\n",
            "Max=  tf.Tensor(2999.0, shape=(), dtype=float32)\n",
            "Mean =  tf.Tensor(2500.0, shape=(), dtype=float32)\n",
            "Std Dev =  tf.Tensor(288.67456, shape=(), dtype=float32)\n",
            "\n",
            "Min =  tf.Tensor(100.0, shape=(), dtype=float32)\n",
            "Q25 =  tf.Tensor(600.0, shape=(), dtype=float32)\n",
            "Q50 =  tf.Tensor(1100.0, shape=(), dtype=float32)\n",
            "Q90 =  tf.Tensor(1898.0, shape=(), dtype=float32)\n",
            "Max=  tf.Tensor(2098.0, shape=(), dtype=float32)\n",
            "Mean =  tf.Tensor(1099.0, shape=(), dtype=float32)\n",
            "Std Dev =  tf.Tensor(577.35, shape=(), dtype=float32)\n",
            "\n",
            "Min =  tf.Tensor(2100.0, shape=(), dtype=float32)\n",
            "Q25 =  tf.Tensor(2350.0, shape=(), dtype=float32)\n",
            "Q50 =  tf.Tensor(2600.0, shape=(), dtype=float32)\n",
            "Q90 =  tf.Tensor(2998.0, shape=(), dtype=float32)\n",
            "Max=  tf.Tensor(3098.0, shape=(), dtype=float32)\n",
            "Mean =  tf.Tensor(2599.0, shape=(), dtype=float32)\n",
            "Std Dev =  tf.Tensor(288.67456, shape=(), dtype=float32)\n",
            "\n",
            "Min =  tf.Tensor(1157.2286, shape=(), dtype=float32)\n",
            "Q25 =  tf.Tensor(1301.77, shape=(), dtype=float32)\n",
            "Q50 =  tf.Tensor(1446.3114, shape=(), dtype=float32)\n",
            "Q90 =  tf.Tensor(1676.4211, shape=(), dtype=float32)\n",
            "Max=  tf.Tensor(1734.2377, shape=(), dtype=float32)\n",
            "Mean =  tf.Tensor(1445.7333, shape=(), dtype=float32)\n",
            "Std Dev =  tf.Tensor([166.90161], shape=(1,), dtype=float32)\n",
            "\n"
          ]
        }
      ]
    },
    {
      "cell_type": "code",
      "metadata": {
        "colab": {
          "base_uri": "https://localhost:8080/",
          "height": 592
        },
        "id": "e_f33kX3Jeyb",
        "outputId": "bfad70cf-e237-4964-fb11-bb156825bd55"
      },
      "source": [
        "# Plot \n",
        "plot_predictions(X_train, y_train, X_test, y_test, y_pred)\n"
      ],
      "execution_count": 197,
      "outputs": [
        {
          "output_type": "display_data",
          "data": {
            "image/png": "[encoded data removed]",
            "text/plain": [
              "<Figure size 1080x720 with 1 Axes>"
            ]
          },
          "metadata": {
            "needs_background": "light"
          }
        }
      ]
    },
    {
      "cell_type": "code",
      "metadata": {
        "colab": {
          "base_uri": "https://localhost:8080/",
          "height": 932
        },
        "id": "CxpxHZZOLuKy",
        "outputId": "81f1fea5-603e-400c-ae83-a3e6451036b8"
      },
      "source": [
        "# Fit the second model \n",
        "# One layer \n",
        "# With large learning rate it is much better \n",
        "# Create the model\n",
        "model = tf.keras.Sequential()\n",
        "#model.add(tf.keras.layers.Dense(100,activation=\"relu\"))\n",
        "model.add(tf.keras.layers.Dense(1))\n",
        "\n",
        "# Compile the model\n",
        "model.compile(loss=tf.keras.losses.mae, \n",
        "              optimizer=tf.keras.optimizers.Adam(learning_rate=0.01),\n",
        "              metrics = [\"mae\"])\n",
        "\n",
        "# Fit the model\n",
        "model.fit(X_train, y_train, epochs = 10)\n",
        "\n",
        "# Predict \n",
        "y_pred = model.predict(X_test)\n",
        "\n",
        "# Plot \n",
        "plot_predictions(X_train, y_train, X_test, y_test, y_pred)"
      ],
      "execution_count": 201,
      "outputs": [
        {
          "output_type": "stream",
          "name": "stdout",
          "text": [
            "Epoch 1/10\n",
            "32/32 [==============================] - 0s 1ms/step - loss: 527.9590 - mae: 527.9590\n",
            "Epoch 2/10\n",
            "32/32 [==============================] - 0s 1ms/step - loss: 209.4737 - mae: 209.4737\n",
            "Epoch 3/10\n",
            "32/32 [==============================] - 0s 1ms/step - loss: 46.2845 - mae: 46.2845\n",
            "Epoch 4/10\n",
            "32/32 [==============================] - 0s 1ms/step - loss: 40.8182 - mae: 40.8182\n",
            "Epoch 5/10\n",
            "32/32 [==============================] - 0s 1ms/step - loss: 40.7272 - mae: 40.7272\n",
            "Epoch 6/10\n",
            "32/32 [==============================] - 0s 1ms/step - loss: 40.5878 - mae: 40.5878\n",
            "Epoch 7/10\n",
            "32/32 [==============================] - 0s 1ms/step - loss: 41.1933 - mae: 41.1933\n",
            "Epoch 8/10\n",
            "32/32 [==============================] - 0s 1ms/step - loss: 40.6870 - mae: 40.6870\n",
            "Epoch 9/10\n",
            "32/32 [==============================] - 0s 1000us/step - loss: 40.6051 - mae: 40.6051\n",
            "Epoch 10/10\n",
            "32/32 [==============================] - 0s 1ms/step - loss: 40.4386 - mae: 40.4386\n"
          ]
        },
        {
          "output_type": "display_data",
          "data": {
            "image/png": "[encoded data removed]",
            "text/plain": [
              "<Figure size 1080x720 with 1 Axes>"
            ]
          },
          "metadata": {
            "needs_background": "light"
          }
        }
      ]
    },
    {
      "cell_type": "code",
      "metadata": {
        "colab": {
          "base_uri": "https://localhost:8080/",
          "height": 932
        },
        "id": "4Xl3S5c2MHvy",
        "outputId": "b1ca717a-b805-4569-9144-0ff11020bfcd"
      },
      "source": [
        "# Fit the third model \n",
        "# One layer \n",
        "# With large learning rate it is much better \n",
        "# Create the model\n",
        "model = tf.keras.Sequential()\n",
        "#model.add(tf.keras.layers.Dense(100,activation=\"relu\"))\n",
        "model.add(tf.keras.layers.Dense(1))\n",
        "\n",
        "# Compile the model\n",
        "model.compile(loss=tf.keras.losses.mae, \n",
        "              optimizer=tf.keras.optimizers.Adam(learning_rate=100.0),\n",
        "              metrics = [\"mae\"])\n",
        "\n",
        "# Fit the model\n",
        "model.fit(X_train, y_train, epochs = 10)\n",
        "\n",
        "# Predict \n",
        "y_pred = model.predict(X_test)\n",
        "\n",
        "# Plot \n",
        "plot_predictions(X_train, y_train, X_test, y_test, y_pred)"
      ],
      "execution_count": 203,
      "outputs": [
        {
          "output_type": "stream",
          "name": "stdout",
          "text": [
            "Epoch 1/10\n",
            "32/32 [==============================] - 0s 1ms/step - loss: 24083.7207 - mae: 24083.7207\n",
            "Epoch 2/10\n",
            "32/32 [==============================] - 0s 1ms/step - loss: 11456.9551 - mae: 11456.9551\n",
            "Epoch 3/10\n",
            "32/32 [==============================] - 0s 1ms/step - loss: 14991.8398 - mae: 14991.8398\n",
            "Epoch 4/10\n",
            "32/32 [==============================] - 0s 1ms/step - loss: 15664.4902 - mae: 15664.4902\n",
            "Epoch 5/10\n",
            "32/32 [==============================] - 0s 1ms/step - loss: 9980.8506 - mae: 9980.8506\n",
            "Epoch 6/10\n",
            "32/32 [==============================] - 0s 1ms/step - loss: 20731.0723 - mae: 20731.0723\n",
            "Epoch 7/10\n",
            "32/32 [==============================] - 0s 1ms/step - loss: 24095.8945 - mae: 24095.8945\n",
            "Epoch 8/10\n",
            "32/32 [==============================] - 0s 1ms/step - loss: 8937.1748 - mae: 8937.1748\n",
            "Epoch 9/10\n",
            "32/32 [==============================] - 0s 1ms/step - loss: 17704.1387 - mae: 17704.1387\n",
            "Epoch 10/10\n",
            "32/32 [==============================] - 0s 1ms/step - loss: 11554.3516 - mae: 11554.3516\n"
          ]
        },
        {
          "output_type": "display_data",
          "data": {
            "image/png": "[encoded data removed]",
            "text/plain": [
              "<Figure size 1080x720 with 1 Axes>"
            ]
          },
          "metadata": {
            "needs_background": "light"
          }
        }
      ]
    },
    {
      "cell_type": "code",
      "metadata": {
        "colab": {
          "base_uri": "https://localhost:8080/",
          "height": 592
        },
        "id": "KnJg2mwLM0Ci",
        "outputId": "a3f94c9d-6685-46bb-afb5-e4940cd18e3f"
      },
      "source": [
        "# Fit the fourth model \n",
        "# One layer \n",
        "# With large learning rate it is much better \n",
        "# Create the model\n",
        "model = tf.keras.Sequential()\n",
        "#model.add(tf.keras.layers.Dense(100,activation=\"relu\"))\n",
        "model.add(tf.keras.layers.Dense(1))\n",
        "\n",
        "# Compile the model\n",
        "model.compile(loss=tf.keras.losses.mae, \n",
        "              optimizer=tf.keras.optimizers.Adam(learning_rate=0.01),\n",
        "              metrics = [\"mae\"])\n",
        "\n",
        "# Model Summry\n",
        "model.summary\n",
        "\n",
        "# Fit the model\n",
        "model.fit(X_train, y_train, epochs = 300, verbose=0)\n",
        "\n",
        "# Predict \n",
        "y_pred = model.predict(X_test)\n",
        "\n",
        "# Plot \n",
        "plot_predictions(X_train, y_train, X_test, y_test, y_pred)"
      ],
      "execution_count": 211,
      "outputs": [
        {
          "output_type": "display_data",
          "data": {
            "image/png": "[encoded data removed]",
            "text/plain": [
              "<Figure size 1080x720 with 1 Axes>"
            ]
          },
          "metadata": {
            "needs_background": "light"
          }
        }
      ]
    }
  ]
}