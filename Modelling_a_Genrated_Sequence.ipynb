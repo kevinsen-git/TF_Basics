{
  "nbformat": 4,
  "nbformat_minor": 0,
  "metadata": {
    "colab": {
      "name": "Modelling_a_Genrated_Sequence.ipynb",
      "provenance": [],
      "collapsed_sections": [],
      "authorship_tag": "ABX9TyMj0Z1cUyzpyzqsfMdX0NCI",
      "include_colab_link": true
    },
    "kernelspec": {
      "name": "python3",
      "display_name": "Python 3"
    },
    "language_info": {
      "name": "python"
    }
  },
  "cells": [
    {
      "cell_type": "markdown",
      "metadata": {
        "id": "view-in-github",
        "colab_type": "text"
      },
      "source": [
        "<a href=\"https://colab.research.google.com/github/kevinsen-git/TF_Basics/blob/main/Modelling_a_Genrated_Sequence.ipynb\" target=\"_parent\"><img src=\"https://colab.research.google.com/assets/colab-badge.svg\" alt=\"Open In Colab\"/></a>"
      ]
    },
    {
      "cell_type": "markdown",
      "metadata": {
        "id": "gH1THBPAFKqv"
      },
      "source": [
        "## Generate a fixed sequence of numbers and try finding the simplest, most accurate model \n",
        "\n",
        "#### 1. Generate the sequence of 1,000 numbers\n",
        "#### 2. Split into 80% training + 20% testing \n",
        "#### 3. Try various models \n",
        "#### 4. Plot the estimates\n",
        "#### 5. Fine tune the models \n",
        "#### 6. Try a bit of over fitting \n",
        "#### 7. Redo with some gaps in the data\n",
        "#### 8. Redo with some added noise in the data \n",
        "\n",
        "**[Possible Tuning Methods for models]**\n",
        "\n",
        "1. ***Change learning rate***\n",
        "2. ***Change number of epochs***\n",
        "3. ***Add dense layers***\n",
        "4. ***Add neurons per layer*** \n",
        "5. ***Change activation function***\n",
        "6. ***Change optimizer***\n",
        "7. ***Change loss function***\n",
        "8. ***Use more training data***\n"
      ]
    },
    {
      "cell_type": "code",
      "metadata": {
        "id": "B77BdN8EJvf3"
      },
      "source": [
        "# Do the imports and initial setup \n",
        "# Need to have the following as global variables \n",
        "def my_setup() :\n",
        "  global tf, np, plt, tfp, pm\n",
        "  import tensorflow as tf \n",
        "  import numpy as np \n",
        "  import matplotlib.pyplot as plt \n",
        "  import tensorflow_probability as tfp\n",
        "  from tensorflow.keras.utils import plot_model as pm \n",
        "  tf.random.set_seed(42)\n",
        "  \n",
        " "
      ],
      "execution_count": 50,
      "outputs": []
    },
    {
      "cell_type": "code",
      "metadata": {
        "id": "9RJPbvxKadDX"
      },
      "source": [
        "# Function to show names and versions of the stuff I am using\n",
        "def my_modules():\n",
        "  print(\"tf =\",tf.__version__,\"| np =\",np.__version__,\"| tfp =\",tfp.__version__\n",
        "        )\n",
        "#pip show tensorflow matplotlib numpy\n",
        "#pip list "
      ],
      "execution_count": 56,
      "outputs": []
    },
    {
      "cell_type": "code",
      "metadata": {
        "id": "MB1uIoasDYdd"
      },
      "source": [
        "# Function to do basic stats on a simple tensor \n",
        "def my_stats(data):\n",
        "  print(\"Min = \",tf.math.reduce_min(data))\n",
        "  print(\"Q25 = \",tfp.stats.percentile(data, 25))\n",
        "  print(\"Q50 = \",tfp.stats.percentile(data, 50))\n",
        "  print(\"Q90 = \",tfp.stats.percentile(data, 90))\n",
        "  print(\"Max= \",tf.math.reduce_max(data))\n",
        "  print(\"Mean = \",tf.math.reduce_mean(data))\n",
        "  print(\"Std Dev = \",tfp.stats.stddev(data))\n",
        "  print()\n",
        "  # Do histogram \n",
        "  plt.hist(data)"
      ],
      "execution_count": 3,
      "outputs": []
    },
    {
      "cell_type": "code",
      "metadata": {
        "id": "QK5ttxuwZptU"
      },
      "source": [
        "# Function to do basic stats on a simple tensor \n",
        "def my_stats2(data):\n",
        "  print(\"Min=\",tf.math.reduce_min(data).numpy().round(2),\"Q25=\",tfp.stats.percentile(data, 25).numpy().round(2),\"Q50=\",tfp.stats.percentile(data, 50).numpy().round(2),\n",
        "        \"Q90=\",tfp.stats.percentile(data, 90).numpy().round(2))\n",
        "  print(\"Max=\",tf.math.reduce_max(data).numpy().round(2),\"Mean=\",tf.math.reduce_mean(data).numpy().round(2),\"StdDev=\",tf.squeeze(tfp.stats.stddev(data)).numpy().round(2))\n",
        "  print()\n",
        "  # Do histogram \n",
        "  plt.hist(data)"
      ],
      "execution_count": 4,
      "outputs": []
    },
    {
      "cell_type": "code",
      "metadata": {
        "id": "iUZBScalWmrW"
      },
      "source": [
        "# Function to calculate the mean absolute error and the mean squared error \n",
        "def my_mae_mse(y_test,y_pred):\n",
        "  mae = tf.metrics.mean_absolute_error(y_test, tf.squeeze(y_pred))\n",
        "  mse = tf.metrics.mean_squared_error(y_test, tf.squeeze(y_pred))\n",
        "  print ('mae = ',mae.numpy(),'| mse = ',mse.numpy())"
      ],
      "execution_count": 5,
      "outputs": []
    },
    {
      "cell_type": "code",
      "metadata": {
        "id": "5cP3wkSBXFnO"
      },
      "source": [
        "# Create plotting function\n",
        "def plot_predictions(train_data,train_labels,test_data,test_labels,predictions):\n",
        "  # The doc string \n",
        "  \"\"\"\n",
        "  Plots the training data and the ground truth vs the prediction\n",
        "  \"\"\"\n",
        "  # Ctrl + Shift + space - will show the docstring in colab jupyter notebooks \n",
        "  plt.figure(figsize=(15,10))\n",
        "  # Plot the training data in blue \n",
        "  plt.scatter(train_data,train_labels,c='b',label='Training Data')\n",
        "  # Plot the test data in green\n",
        "  plt.scatter(test_data,test_labels,c='g',label=\"Test data\")\n",
        "  # Plot the predictions in red \n",
        "  plt.scatter(test_data,predictions,c='r', label=\"Predictions\")\n",
        "  # Show legend\n",
        "  plt.legend()"
      ],
      "execution_count": 6,
      "outputs": []
    },
    {
      "cell_type": "code",
      "metadata": {
        "id": "-ab2JNyaaIZ-"
      },
      "source": [
        "my_setup()\n"
      ],
      "execution_count": 51,
      "outputs": []
    },
    {
      "cell_type": "code",
      "metadata": {
        "colab": {
          "base_uri": "https://localhost:8080/"
        },
        "id": "hZP9PBS2a3cQ",
        "outputId": "ac632c3f-783c-42d1-8d9e-aabba09de4fd"
      },
      "source": [
        "my_modules()"
      ],
      "execution_count": 57,
      "outputs": [
        {
          "output_type": "stream",
          "name": "stdout",
          "text": [
            "tf = 2.6.0 | np = 1.19.5 | tfp = 0.14.1\n"
          ]
        }
      ]
    },
    {
      "cell_type": "code",
      "metadata": {
        "colab": {
          "base_uri": "https://localhost:8080/"
        },
        "id": "mWnCostemzRx",
        "outputId": "8c8539f8-4988-447a-a3d8-7074d492a4b7"
      },
      "source": [
        "# Generate the dataset \n",
        "# X_train, y_train, X_test, y_test \n",
        "# Using tf.range\n",
        "\n",
        "X = tf.range(start=1.0, limit=3000, delta=2)\n",
        "y = tf.range(start=100.0, limit=3100, delta=2)\n",
        "# y= X + 100\n",
        "X.shape, y.shape\n"
      ],
      "execution_count": 9,
      "outputs": [
        {
          "output_type": "execute_result",
          "data": {
            "text/plain": [
              "(TensorShape([1500]), TensorShape([1500]))"
            ]
          },
          "metadata": {},
          "execution_count": 9
        }
      ]
    },
    {
      "cell_type": "code",
      "metadata": {
        "id": "BO8GUNJhoBGs"
      },
      "source": [
        "# Now split into training 1000 and test 500 \n",
        "# Preserve the order initially \n",
        "X_train = X[:1000]\n",
        "y_train = y[:1000]\n",
        "X_test = X[1000:]\n",
        "y_test = y[1000:]\n",
        "\n"
      ],
      "execution_count": 10,
      "outputs": []
    },
    {
      "cell_type": "code",
      "metadata": {
        "colab": {
          "base_uri": "https://localhost:8080/",
          "height": 673
        },
        "id": "c7TbjFODEh1F",
        "outputId": "38881381-0bc2-44b9-e6e3-6f6872a78e40"
      },
      "source": [
        "# Show basic stats\n",
        "my_stats(X_train)\n",
        "my_stats(X_test)\n",
        "my_stats(y_train)\n",
        "\n"
      ],
      "execution_count": 11,
      "outputs": [
        {
          "output_type": "stream",
          "name": "stdout",
          "text": [
            "Min =  tf.Tensor(1.0, shape=(), dtype=float32)\n",
            "Q25 =  tf.Tensor(501.0, shape=(), dtype=float32)\n",
            "Q50 =  tf.Tensor(1001.0, shape=(), dtype=float32)\n",
            "Q90 =  tf.Tensor(1799.0, shape=(), dtype=float32)\n",
            "Max=  tf.Tensor(1999.0, shape=(), dtype=float32)\n",
            "Mean =  tf.Tensor(1000.0, shape=(), dtype=float32)\n",
            "Std Dev =  tf.Tensor(577.35, shape=(), dtype=float32)\n",
            "\n",
            "Min =  tf.Tensor(2001.0, shape=(), dtype=float32)\n",
            "Q25 =  tf.Tensor(2251.0, shape=(), dtype=float32)\n",
            "Q50 =  tf.Tensor(2501.0, shape=(), dtype=float32)\n",
            "Q90 =  tf.Tensor(2899.0, shape=(), dtype=float32)\n",
            "Max=  tf.Tensor(2999.0, shape=(), dtype=float32)\n",
            "Mean =  tf.Tensor(2500.0, shape=(), dtype=float32)\n",
            "Std Dev =  tf.Tensor(288.67456, shape=(), dtype=float32)\n",
            "\n",
            "Min =  tf.Tensor(100.0, shape=(), dtype=float32)\n",
            "Q25 =  tf.Tensor(600.0, shape=(), dtype=float32)\n",
            "Q50 =  tf.Tensor(1100.0, shape=(), dtype=float32)\n",
            "Q90 =  tf.Tensor(1898.0, shape=(), dtype=float32)\n",
            "Max=  tf.Tensor(2098.0, shape=(), dtype=float32)\n",
            "Mean =  tf.Tensor(1099.0, shape=(), dtype=float32)\n",
            "Std Dev =  tf.Tensor(577.35, shape=(), dtype=float32)\n",
            "\n"
          ]
        },
        {
          "output_type": "display_data",
          "data": {
            "image/png": "[encoded data removed]",
            "text/plain": [
              "<Figure size 432x288 with 1 Axes>"
            ]
          },
          "metadata": {
            "needs_background": "light"
          }
        }
      ]
    },
    {
      "cell_type": "code",
      "metadata": {
        "colab": {
          "base_uri": "https://localhost:8080/"
        },
        "id": "bezhkpiM8YVv",
        "outputId": "61dbf5b7-241c-456a-e4f0-0f8d5388e45c"
      },
      "source": [
        "# Fit the first model \n",
        "# One layer \n",
        "# With smell/default learning rate it is TERRIBLE !\n",
        "# Create the model\n",
        "model = tf.keras.Sequential()\n",
        "#model.add(tf.keras.layers.Dense(100,activation=\"relu\"))\n",
        "model.add(tf.keras.layers.Dense(1))\n",
        "\n",
        "# Compile the model\n",
        "model.compile(loss=tf.keras.losses.mae, \n",
        "              optimizer=tf.keras.optimizers.Adam(lr=0.001),\n",
        "              metrics = [\"mae\"])\n",
        "\n",
        "# Fit the model\n",
        "model.fit(X_train, y_train, epochs = 10)\n"
      ],
      "execution_count": 12,
      "outputs": [
        {
          "output_type": "stream",
          "name": "stderr",
          "text": [
            "/usr/local/lib/python3.7/dist-packages/keras/optimizer_v2/optimizer_v2.py:356: UserWarning: The `lr` argument is deprecated, use `learning_rate` instead.\n",
            "  \"The `lr` argument is deprecated, use `learning_rate` instead.\")\n"
          ]
        },
        {
          "output_type": "stream",
          "name": "stdout",
          "text": [
            "Epoch 1/10\n",
            "32/32 [==============================] - 1s 1ms/step - loss: 513.6979 - mae: 513.6979\n",
            "Epoch 2/10\n",
            "32/32 [==============================] - 0s 1ms/step - loss: 481.8493 - mae: 481.8493\n",
            "Epoch 3/10\n",
            "32/32 [==============================] - 0s 2ms/step - loss: 450.0294 - mae: 450.0294\n",
            "Epoch 4/10\n",
            "32/32 [==============================] - 0s 1ms/step - loss: 418.0670 - mae: 418.0670\n",
            "Epoch 5/10\n",
            "32/32 [==============================] - 0s 1ms/step - loss: 386.1843 - mae: 386.1843\n",
            "Epoch 6/10\n",
            "32/32 [==============================] - 0s 2ms/step - loss: 354.4865 - mae: 354.4865\n",
            "Epoch 7/10\n",
            "32/32 [==============================] - 0s 1ms/step - loss: 322.6262 - mae: 322.6262\n",
            "Epoch 8/10\n",
            "32/32 [==============================] - 0s 1ms/step - loss: 290.6887 - mae: 290.6887\n",
            "Epoch 9/10\n",
            "32/32 [==============================] - 0s 1ms/step - loss: 258.9157 - mae: 258.9157\n",
            "Epoch 10/10\n",
            "32/32 [==============================] - 0s 2ms/step - loss: 227.0204 - mae: 227.0204\n"
          ]
        },
        {
          "output_type": "execute_result",
          "data": {
            "text/plain": [
              "<keras.callbacks.History at 0x7fbdcb7515d0>"
            ]
          },
          "metadata": {},
          "execution_count": 12
        }
      ]
    },
    {
      "cell_type": "code",
      "metadata": {
        "colab": {
          "base_uri": "https://localhost:8080/",
          "height": 537
        },
        "id": "sP9ffQoH-4_P",
        "outputId": "10486230-8542-40fb-d197-fee6824a8f40"
      },
      "source": [
        "\n",
        "# Predict and plot \n",
        "y_pred = model.predict(X_test)\n",
        "\n",
        "# Get mae_mse\n",
        "my_mae_mse(y_test, y_pred)\n",
        "\n",
        "# Summary \n",
        "# Show basic stats\n",
        "my_stats2(X_train)\n",
        "my_stats2(X_test)\n",
        "my_stats2(y_train)\n",
        "my_stats2(y_test)\n",
        "my_stats2(y_pred)\n",
        "\n"
      ],
      "execution_count": 13,
      "outputs": [
        {
          "output_type": "stream",
          "name": "stdout",
          "text": [
            "mae =  377.09146 | mse =  143231.48\n",
            "Min= 1.0 Q25= 501.0 Q50= 1001.0 Q90= 1799.0\n",
            "Max= 1999.0 Mean= 1000.0 StdDev= 577.35\n",
            "\n",
            "Min= 2001.0 Q25= 2251.0 Q50= 2501.0 Q90= 2899.0\n",
            "Max= 2999.0 Mean= 2500.0 StdDev= 288.67\n",
            "\n",
            "Min= 100.0 Q25= 600.0 Q50= 1100.0 Q90= 1898.0\n",
            "Max= 2098.0 Mean= 1099.0 StdDev= 577.35\n",
            "\n",
            "Min= 2100.0 Q25= 2350.0 Q50= 2600.0 Q90= 2998.0\n",
            "Max= 3098.0 Mean= 2599.0 StdDev= 288.67\n",
            "\n",
            "Min= 1778.48 Q25= 2000.64 Q50= 2222.8 Q90= 2576.47\n",
            "Max= 2665.34 Mean= 2221.91 StdDev= 256.53\n",
            "\n"
          ]
        },
        {
          "output_type": "display_data",
          "data": {
            "image/png": "[encoded data removed]",
            "text/plain": [
              "<Figure size 432x288 with 1 Axes>"
            ]
          },
          "metadata": {
            "needs_background": "light"
          }
        }
      ]
    },
    {
      "cell_type": "code",
      "metadata": {
        "colab": {
          "base_uri": "https://localhost:8080/",
          "height": 592
        },
        "id": "e_f33kX3Jeyb",
        "outputId": "d2b379d0-7110-47b9-c5f8-584a329a4c30"
      },
      "source": [
        "# Plot \n",
        "plot_predictions(X_train, y_train, X_test, y_test, y_pred)\n"
      ],
      "execution_count": 14,
      "outputs": [
        {
          "output_type": "display_data",
          "data": {
            "image/png": "[encoded data removed]",
            "text/plain": [
              "<Figure size 1080x720 with 1 Axes>"
            ]
          },
          "metadata": {
            "needs_background": "light"
          }
        }
      ]
    },
    {
      "cell_type": "code",
      "metadata": {
        "colab": {
          "base_uri": "https://localhost:8080/",
          "height": 1000
        },
        "id": "CxpxHZZOLuKy",
        "outputId": "72ccfa45-03b0-45ee-d21e-f33493c1810b"
      },
      "source": [
        "# Fit the second model \n",
        "# One layer \n",
        "# With large learning rate it is much better \n",
        "# Create the model\n",
        "model = tf.keras.Sequential()\n",
        "#model.add(tf.keras.layers.Dense(100,activation=\"relu\"))\n",
        "model.add(tf.keras.layers.Dense(1))\n",
        "\n",
        "# Compile the model\n",
        "model.compile(loss=tf.keras.losses.mae, \n",
        "              optimizer=tf.keras.optimizers.Adam(learning_rate=0.01),\n",
        "              metrics = [\"mae\"])\n",
        "\n",
        "# Fit the model\n",
        "model.fit(X_train, y_train, epochs = 10)\n",
        "\n",
        "# Predict \n",
        "y_pred = model.predict(X_test)\n",
        "\n",
        "# Summary \n",
        "my_stats2(X_train)\n",
        "my_stats2(X_test)\n",
        "my_stats2(y_train)\n",
        "my_stats2(y_test)\n",
        "my_stats2(y_pred)\n",
        "\n",
        "# Get mae_mse\n",
        "my_mae_mse(y_test, y_pred)\n",
        "\n",
        "# Plot \n",
        "plot_predictions(X_train, y_train, X_test, y_test, y_pred)"
      ],
      "execution_count": 15,
      "outputs": [
        {
          "output_type": "stream",
          "name": "stdout",
          "text": [
            "Epoch 1/10\n",
            "32/32 [==============================] - 0s 1ms/step - loss: 295.7043 - mae: 295.7043\n",
            "Epoch 2/10\n",
            "32/32 [==============================] - 0s 1ms/step - loss: 61.4008 - mae: 61.4008\n",
            "Epoch 3/10\n",
            "32/32 [==============================] - 0s 1ms/step - loss: 41.5755 - mae: 41.5755\n",
            "Epoch 4/10\n",
            "32/32 [==============================] - 0s 1ms/step - loss: 41.1381 - mae: 41.1381\n",
            "Epoch 5/10\n",
            "32/32 [==============================] - 0s 1ms/step - loss: 40.7451 - mae: 40.7451\n",
            "Epoch 6/10\n",
            "32/32 [==============================] - 0s 1ms/step - loss: 40.6571 - mae: 40.6571\n",
            "Epoch 7/10\n",
            "32/32 [==============================] - 0s 1ms/step - loss: 41.3032 - mae: 41.3032\n",
            "Epoch 8/10\n",
            "32/32 [==============================] - 0s 1ms/step - loss: 40.6375 - mae: 40.6375\n",
            "Epoch 9/10\n",
            "32/32 [==============================] - 0s 1ms/step - loss: 40.5563 - mae: 40.5563\n",
            "Epoch 10/10\n",
            "32/32 [==============================] - 0s 1ms/step - loss: 40.5720 - mae: 40.5720\n",
            "Min= 1.0 Q25= 501.0 Q50= 1001.0 Q90= 1799.0\n",
            "Max= 1999.0 Mean= 1000.0 StdDev= 577.35\n",
            "\n",
            "Min= 2001.0 Q25= 2251.0 Q50= 2501.0 Q90= 2899.0\n",
            "Max= 2999.0 Mean= 2500.0 StdDev= 288.67\n",
            "\n",
            "Min= 100.0 Q25= 600.0 Q50= 1100.0 Q90= 1898.0\n",
            "Max= 2098.0 Mean= 1099.0 StdDev= 577.35\n",
            "\n",
            "Min= 2100.0 Q25= 2350.0 Q50= 2600.0 Q90= 2998.0\n",
            "Max= 3098.0 Mean= 2599.0 StdDev= 288.67\n",
            "\n",
            "Min= 2146.03 Q25= 2413.87 Q50= 2681.72 Q90= 3108.12\n",
            "Max= 3215.26 Mean= 2680.64 StdDev= 309.28\n",
            "\n",
            "mae =  81.64508 | mse =  7090.432\n"
          ]
        },
        {
          "output_type": "display_data",
          "data": {
            "image/png": "[encoded data removed]",
            "text/plain": [
              "<Figure size 432x288 with 1 Axes>"
            ]
          },
          "metadata": {
            "needs_background": "light"
          }
        },
        {
          "output_type": "display_data",
          "data": {
            "image/png": "[encoded data removed]",
            "text/plain": [
              "<Figure size 1080x720 with 1 Axes>"
            ]
          },
          "metadata": {
            "needs_background": "light"
          }
        }
      ]
    },
    {
      "cell_type": "code",
      "metadata": {
        "colab": {
          "base_uri": "https://localhost:8080/",
          "height": 1000
        },
        "id": "4Xl3S5c2MHvy",
        "outputId": "d92bc372-ca40-4fa0-9240-d8b8a85fe391"
      },
      "source": [
        "# Fit the third model \n",
        "# One layer \n",
        "# With large learning rate it is much better \n",
        "# Create the model\n",
        "model = tf.keras.Sequential()\n",
        "#model.add(tf.keras.layers.Dense(100,activation=\"relu\"))\n",
        "model.add(tf.keras.layers.Dense(1))\n",
        "\n",
        "# Compile the model\n",
        "model.compile(loss=tf.keras.losses.mae, \n",
        "              optimizer=tf.keras.optimizers.Adam(learning_rate=100.0),\n",
        "              metrics = [\"mae\"])\n",
        "\n",
        "# Fit the model\n",
        "model.fit(X_train, y_train, epochs = 10)\n",
        "\n",
        "# Predict \n",
        "y_pred = model.predict(X_test)\n",
        "\n",
        "# Summary \n",
        "my_stats2(X_train)\n",
        "my_stats2(X_test)\n",
        "my_stats2(y_train)\n",
        "my_stats2(y_test)\n",
        "my_stats2(y_pred)\n",
        "\n",
        "\n",
        "# Get mase_mse\n",
        "my_mae_mse(y_test, y_pred)\n",
        "\n",
        "# Plot \n",
        "plot_predictions(X_train, y_train, X_test, y_test, y_pred)"
      ],
      "execution_count": 16,
      "outputs": [
        {
          "output_type": "stream",
          "name": "stdout",
          "text": [
            "Epoch 1/10\n",
            "32/32 [==============================] - 0s 1ms/step - loss: 33629.9648 - mae: 33629.9648\n",
            "Epoch 2/10\n",
            "32/32 [==============================] - 0s 1ms/step - loss: 7067.0371 - mae: 7067.0371\n",
            "Epoch 3/10\n",
            "32/32 [==============================] - 0s 1ms/step - loss: 8094.9878 - mae: 8094.9878\n",
            "Epoch 4/10\n",
            "32/32 [==============================] - 0s 1ms/step - loss: 19435.9766 - mae: 19435.9766\n",
            "Epoch 5/10\n",
            "32/32 [==============================] - 0s 1ms/step - loss: 5330.2432 - mae: 5330.2432\n",
            "Epoch 6/10\n",
            "32/32 [==============================] - 0s 1ms/step - loss: 17528.5742 - mae: 17528.5742\n",
            "Epoch 7/10\n",
            "32/32 [==============================] - 0s 1ms/step - loss: 7551.4346 - mae: 7551.4346\n",
            "Epoch 8/10\n",
            "32/32 [==============================] - 0s 1ms/step - loss: 9204.1953 - mae: 9204.1953\n",
            "Epoch 9/10\n",
            "32/32 [==============================] - 0s 1ms/step - loss: 10039.9893 - mae: 10039.9893\n",
            "Epoch 10/10\n",
            "32/32 [==============================] - 0s 1ms/step - loss: 10587.9541 - mae: 10587.9541\n",
            "Min= 1.0 Q25= 501.0 Q50= 1001.0 Q90= 1799.0\n",
            "Max= 1999.0 Mean= 1000.0 StdDev= 577.35\n",
            "\n",
            "Min= 2001.0 Q25= 2251.0 Q50= 2501.0 Q90= 2899.0\n",
            "Max= 2999.0 Mean= 2500.0 StdDev= 288.67\n",
            "\n",
            "Min= 100.0 Q25= 600.0 Q50= 1100.0 Q90= 1898.0\n",
            "Max= 2098.0 Mean= 1099.0 StdDev= 577.35\n",
            "\n",
            "Min= 2100.0 Q25= 2350.0 Q50= 2600.0 Q90= 2998.0\n",
            "Max= 3098.0 Mean= 2599.0 StdDev= 288.67\n",
            "\n",
            "Min= -14839.11 Q25= -13590.51 Q50= -12341.9 Q90= -10354.13\n",
            "Max= -9854.69 Mean= -12346.9 StdDev= 1441.76\n",
            "\n",
            "mae =  14945.898 | mse =  226374270.0\n"
          ]
        },
        {
          "output_type": "display_data",
          "data": {
            "image/png": "[encoded data removed]",
            "text/plain": [
              "<Figure size 432x288 with 1 Axes>"
            ]
          },
          "metadata": {
            "needs_background": "light"
          }
        },
        {
          "output_type": "display_data",
          "data": {
            "image/png": "[encoded data removed]",
            "text/plain": [
              "<Figure size 1080x720 with 1 Axes>"
            ]
          },
          "metadata": {
            "needs_background": "light"
          }
        }
      ]
    },
    {
      "cell_type": "code",
      "metadata": {
        "colab": {
          "base_uri": "https://localhost:8080/"
        },
        "id": "U3bXCDSMTW6f",
        "outputId": "1e8cf91f-94e5-435a-9098-135f5fc2c863"
      },
      "source": [
        "# Calculate the mean absolute error and the mean squared error \n",
        "mae = tf.metrics.mean_absolute_error(y_test, tf.squeeze(y_pred))\n",
        "mse = tf.metrics.mean_squared_error(y_test, tf.squeeze(y_pred))\n",
        "print ('mae = ',mae.numpy(),'| mse = ',mse.numpy())"
      ],
      "execution_count": 17,
      "outputs": [
        {
          "output_type": "stream",
          "name": "stdout",
          "text": [
            "mae =  14945.898 | mse =  226374270.0\n"
          ]
        }
      ]
    },
    {
      "cell_type": "code",
      "metadata": {
        "colab": {
          "base_uri": "https://localhost:8080/",
          "height": 1000
        },
        "id": "KnJg2mwLM0Ci",
        "outputId": "9841a7a2-77c2-4b59-92ab-42b637204efe"
      },
      "source": [
        "# Fit the fourth model \n",
        "# One layer \n",
        "# With large learning rate it is much better \n",
        "# Create the model\n",
        "model = tf.keras.Sequential()\n",
        "#model.add(tf.keras.layers.Dense(100,activation=\"relu\"))\n",
        "model.add(tf.keras.layers.Dense(1))\n",
        "\n",
        "# Compile the model\n",
        "model.compile(loss=tf.keras.losses.mae, \n",
        "              optimizer=tf.keras.optimizers.Adam(learning_rate=0.01),\n",
        "              metrics = [\"mae\"])\n",
        "\n",
        "# Model Summry\n",
        "model.summary\n",
        "\n",
        "# Fit the model\n",
        "model.fit(X_train, y_train, epochs = 300, verbose=0)\n",
        "\n",
        "# Predict \n",
        "y_pred = model.predict(X_test)\n",
        "\n",
        "# Evaluate\n",
        "model.evaluate(X_test, y_test)\n",
        "\n",
        "# Summary \n",
        "my_stats2(X_train)\n",
        "my_stats2(X_test)\n",
        "my_stats2(y_train)\n",
        "my_stats2(y_test)\n",
        "my_stats2(y_pred)\n",
        "\n",
        "\n",
        "# Get mae_mse\n",
        "my_mae_mse(y_test, y_pred)\n",
        "\n",
        "\n",
        "# Plot \n",
        "plot_predictions(X_train, y_train, X_test, y_test, y_pred)"
      ],
      "execution_count": 18,
      "outputs": [
        {
          "output_type": "stream",
          "name": "stdout",
          "text": [
            "16/16 [==============================] - 0s 1ms/step - loss: 9.3516 - mae: 9.3516\n",
            "Min= 1.0 Q25= 501.0 Q50= 1001.0 Q90= 1799.0\n",
            "Max= 1999.0 Mean= 1000.0 StdDev= 577.35\n",
            "\n",
            "Min= 2001.0 Q25= 2251.0 Q50= 2501.0 Q90= 2899.0\n",
            "Max= 2999.0 Mean= 2500.0 StdDev= 288.67\n",
            "\n",
            "Min= 100.0 Q25= 600.0 Q50= 1100.0 Q90= 1898.0\n",
            "Max= 2098.0 Mean= 1099.0 StdDev= 577.35\n",
            "\n",
            "Min= 2100.0 Q25= 2350.0 Q50= 2600.0 Q90= 2998.0\n",
            "Max= 3098.0 Mean= 2599.0 StdDev= 288.67\n",
            "\n",
            "Min= 2104.36 Q25= 2356.86 Q50= 2609.36 Q90= 3011.34\n",
            "Max= 3112.34 Mean= 2608.35 StdDev= 291.56\n",
            "\n",
            "mae =  9.351586 | mse =  95.77568\n"
          ]
        },
        {
          "output_type": "display_data",
          "data": {
            "image/png": "[encoded data removed]",
            "text/plain": [
              "<Figure size 432x288 with 1 Axes>"
            ]
          },
          "metadata": {
            "needs_background": "light"
          }
        },
        {
          "output_type": "display_data",
          "data": {
            "image/png": "[encoded data removed]",
            "text/plain": [
              "<Figure size 1080x720 with 1 Axes>"
            ]
          },
          "metadata": {
            "needs_background": "light"
          }
        }
      ]
    },
    {
      "cell_type": "code",
      "metadata": {
        "colab": {
          "base_uri": "https://localhost:8080/",
          "height": 660
        },
        "id": "AB3bFqy-4hwQ",
        "outputId": "d7650130-326a-41ef-82d8-3070724a854d"
      },
      "source": [
        "# Do another model, add input_shape and show model details _before_ fitting \n",
        "\n",
        "# Create the nodel \n",
        "model = tf.keras.Sequential(name=\"Testing\")\n",
        "model.add(tf.keras.layers.Dense(1, input_shape=[1], name='Input_Layer'))\n",
        "model.add(tf.keras.layers.Dense(100, activation=\"relu\", name=\"Hidden_Layer\"))\n",
        "#model.add(tf.keras.layers.Dense(3, input_shape=[1]))\n",
        "model.add(tf.keras.layers.Dense(1, name=\"Output_Layer\"))\n",
        "\n",
        "# Compile the model \n",
        "model.compile(loss=tf.keras.losses.mae,\n",
        "              optimizer=tf.keras.optimizers.Adam(learning_rate=0.01),\n",
        "              metrics=tf.keras.metrics.mae)\n",
        "\n",
        "# Get the model summary \n",
        "model.summary()\n",
        "\n",
        "# Why are there 303 instead of 300 parameters ?\n",
        "# Becuase of the 3 in the putput layer \n",
        "pm(model=model,show_shapes=True)\n",
        "\n"
      ],
      "execution_count": 72,
      "outputs": [
        {
          "output_type": "stream",
          "name": "stdout",
          "text": [
            "Model: \"Testing\"\n",
            "_________________________________________________________________\n",
            "Layer (type)                 Output Shape              Param #   \n",
            "=================================================================\n",
            "Input_Layer (Dense)          (None, 1)                 2         \n",
            "_________________________________________________________________\n",
            "Hidden_Layer (Dense)         (None, 100)               200       \n",
            "_________________________________________________________________\n",
            "Output_Layer (Dense)         (None, 1)                 101       \n",
            "=================================================================\n",
            "Total params: 303\n",
            "Trainable params: 303\n",
            "Non-trainable params: 0\n",
            "_________________________________________________________________\n"
          ]
        },
        {
          "output_type": "execute_result",
          "data": {
            "image/png": "[encoded data removed]",
            "text/plain": [
              "<IPython.core.display.Image object>"
            ]
          },
          "metadata": {},
          "execution_count": 72
        }
      ]
    },
    {
      "cell_type": "code",
      "metadata": {
        "colab": {
          "base_uri": "https://localhost:8080/",
          "height": 1000
        },
        "id": "s8-k_kRHHeL7",
        "outputId": "29e9db2f-bb5c-4ada-d602-afb23a82dcc5"
      },
      "source": [
        "# Fit the model\n",
        "model.fit(X_train, y_train, epochs = 300, verbose=0)\n",
        "\n",
        "# Predict \n",
        "y_pred = model.predict(X_test)\n",
        "\n",
        "# Evaluate\n",
        "model.evaluate(X_test, y_test)\n",
        "\n",
        "# Summary \n",
        "my_stats2(X_train)\n",
        "my_stats2(X_test)\n",
        "my_stats2(y_train)\n",
        "my_stats2(y_test)\n",
        "my_stats2(y_pred)\n",
        "\n",
        "\n",
        "# Get mae_mse\n",
        "my_mae_mse(y_test, y_pred)\n",
        "\n",
        "\n",
        "# Plot \n",
        "plot_predictions(X_train, y_train, X_test, y_test, y_pred)"
      ],
      "execution_count": 71,
      "outputs": [
        {
          "output_type": "stream",
          "name": "stdout",
          "text": [
            "16/16 [==============================] - 0s 1ms/step - loss: 68.9707 - mean_absolute_error: 68.9707\n",
            "Min= 1.0 Q25= 501.0 Q50= 1001.0 Q90= 1799.0\n",
            "Max= 1999.0 Mean= 1000.0 StdDev= 577.35\n",
            "\n",
            "Min= 2001.0 Q25= 2251.0 Q50= 2501.0 Q90= 2899.0\n",
            "Max= 2999.0 Mean= 2500.0 StdDev= 288.67\n",
            "\n",
            "Min= 100.0 Q25= 600.0 Q50= 1100.0 Q90= 1898.0\n",
            "Max= 2098.0 Mean= 1099.0 StdDev= 577.35\n",
            "\n",
            "Min= 2100.0 Q25= 2350.0 Q50= 2600.0 Q90= 2998.0\n",
            "Max= 3098.0 Mean= 2599.0 StdDev= 288.67\n",
            "\n",
            "Min= 2154.92 Q25= 2411.96 Q50= 2669.0 Q90= 3078.21\n",
            "Max= 3181.03 Mean= 2667.97 StdDev= 296.81\n",
            "\n",
            "mae =  68.97075 | mse =  4823.0723\n"
          ]
        },
        {
          "output_type": "display_data",
          "data": {
            "image/png": "[encoded data removed]",
            "text/plain": [
              "<Figure size 432x288 with 1 Axes>"
            ]
          },
          "metadata": {
            "needs_background": "light"
          }
        },
        {
          "output_type": "display_data",
          "data": {
            "image/png": "[encoded data removed]",
            "text/plain": [
              "<Figure size 1080x720 with 1 Axes>"
            ]
          },
          "metadata": {
            "needs_background": "light"
          }
        }
      ]
    },
    {
      "cell_type": "code",
      "metadata": {
        "id": "NPtMF5Ij8oo_"
      },
      "source": [
        "# Now fit a realistic model \n",
        "# Add the model description + the metrics + the epocs etc to a data frame to track this \n",
        "\n"
      ],
      "execution_count": null,
      "outputs": []
    }
  ]
}