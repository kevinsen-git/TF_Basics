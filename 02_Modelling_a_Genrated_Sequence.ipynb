{
  "nbformat": 4,
  "nbformat_minor": 0,
  "metadata": {
    "colab": {
      "name": "02_Modelling_a_Genrated_Sequence.ipynb",
      "provenance": [],
      "collapsed_sections": [],
      "mount_file_id": "1ibBiJjBzNujTpwiJhq_I6yK4NdJsw6xB",
      "authorship_tag": "ABX9TyNPHhPuoaGb0HzK0YRJX5Nv",
      "include_colab_link": true
    },
    "kernelspec": {
      "name": "python3",
      "display_name": "Python 3"
    },
    "language_info": {
      "name": "python"
    }
  },
  "cells": [
    {
      "cell_type": "markdown",
      "metadata": {
        "id": "view-in-github",
        "colab_type": "text"
      },
      "source": [
        "<a href=\"https://colab.research.google.com/github/kevinsen-git/TF_Basics/blob/main/02_Modelling_a_Genrated_Sequence.ipynb\" target=\"_parent\"><img src=\"https://colab.research.google.com/assets/colab-badge.svg\" alt=\"Open In Colab\"/></a>"
      ]
    },
    {
      "cell_type": "markdown",
      "metadata": {
        "id": "gH1THBPAFKqv"
      },
      "source": [
        "## Generate a fixed sequence of numbers and try finding the simplest, most accurate model \n",
        "\n",
        "#### 1. Generate the sequence of 1,000 numbers\n",
        "#### 2. Split into 80% training + 20% testing \n",
        "#### 3. Try various models \n",
        "#### 4. Plot the estimates\n",
        "#### 5. Fine tune the models \n",
        "#### 6. Try a bit of over fitting \n",
        "#### 7. Redo with some gaps in the data\n",
        "#### 8. Redo with some added noise in the data \n",
        "\n",
        "**[Possible Tuning Methods for models]**\n",
        "\n",
        "1. ***Change learning rate***\n",
        "2. ***Change number of epochs***\n",
        "3. ***Add dense layers***\n",
        "4. ***Add neurons per layer*** \n",
        "5. ***Change activation function***\n",
        "6. ***Change optimizer***\n",
        "7. ***Change loss function***\n",
        "8. ***Use more training data***\n"
      ]
    },
    {
      "cell_type": "code",
      "metadata": {
        "id": "B77BdN8EJvf3"
      },
      "source": [
        "# Do the imports and initial setup \n",
        "# Need to have the following as global variables \n",
        "def my_setup() :\n",
        "  global tf, np, plt, tfp, pm, pd, re\n",
        "  import tensorflow as tf \n",
        "  import numpy as np \n",
        "  import matplotlib.pyplot as plt \n",
        "  import tensorflow_probability as tfp\n",
        "  import pandas as pd \n",
        "  from tensorflow.keras.utils import plot_model as pm\n",
        "  import re \n",
        "  tf.random.set_seed(42)\n",
        "  \n",
        " "
      ],
      "execution_count": 7,
      "outputs": []
    },
    {
      "cell_type": "code",
      "metadata": {
        "id": "9RJPbvxKadDX"
      },
      "source": [
        "# Function to show names and versions of the stuff I am using\n",
        "def my_modules():\n",
        "  print(\"tf =\",tf.__version__,\"| np =\",np.__version__,\"| tfp =\",tfp.__version__\n",
        "        ,\"| pd = \",pd.__version__)\n",
        "#pip show tensorflow matplotlib numpy\n",
        "#pip list "
      ],
      "execution_count": 8,
      "outputs": []
    },
    {
      "cell_type": "code",
      "metadata": {
        "id": "MB1uIoasDYdd"
      },
      "source": [
        "# Function to do basic stats on a simple tensor \n",
        "def my_stats(data):\n",
        "  print(\"Min = \",tf.math.reduce_min(data))\n",
        "  print(\"Q25 = \",tfp.stats.percentile(data, 25))\n",
        "  print(\"Q50 = \",tfp.stats.percentile(data, 50))\n",
        "  print(\"Q90 = \",tfp.stats.percentile(data, 90))\n",
        "  print(\"Max= \",tf.math.reduce_max(data))\n",
        "  print(\"Mean = \",tf.math.reduce_mean(data))\n",
        "  print(\"Std Dev = \",tfp.stats.stddev(data))\n",
        "  print()\n",
        "  # Do histogram \n",
        "  plt.hist(data)"
      ],
      "execution_count": 9,
      "outputs": []
    },
    {
      "cell_type": "code",
      "metadata": {
        "id": "QK5ttxuwZptU"
      },
      "source": [
        "# Function to do basic stats on a simple tensor \n",
        "def my_stats2(data):\n",
        "  print(\"Min=\",tf.math.reduce_min(data).numpy().round(2),\"Q25=\",tfp.stats.percentile(data, 25).numpy().round(2),\"Q50=\",tfp.stats.percentile(data, 50).numpy().round(2),\n",
        "        \"Q90=\",tfp.stats.percentile(data, 90).numpy().round(2))\n",
        "  print(\"Max=\",tf.math.reduce_max(data).numpy().round(2),\"Mean=\",tf.math.reduce_mean(data).numpy().round(2),\"StdDev=\",tf.squeeze(tfp.stats.stddev(data)).numpy().round(2))\n",
        "  print()\n",
        "  # Do histogram \n",
        "  plt.hist(data)"
      ],
      "execution_count": 10,
      "outputs": []
    },
    {
      "cell_type": "code",
      "metadata": {
        "id": "iUZBScalWmrW"
      },
      "source": [
        "# Function to calculate the mean absolute error and the mean squared error \n",
        "def my_mae_mse(y_test,y_pred):\n",
        "  mae = tf.metrics.mean_absolute_error(y_test, tf.squeeze(y_pred))\n",
        "  mse = tf.metrics.mean_squared_error(y_test, tf.squeeze(y_pred))\n",
        "  print ('mae = ',mae.numpy().round(2),'| mse = ',mse.numpy().round(2))\n",
        "  return mae.numpy().round(2), mse.numpy().round(2)"
      ],
      "execution_count": 11,
      "outputs": []
    },
    {
      "cell_type": "code",
      "metadata": {
        "id": "5cP3wkSBXFnO"
      },
      "source": [
        "# Create plotting function\n",
        "def plot_predictions(train_data,train_labels,test_data,test_labels,predictions):\n",
        "  # The doc string \n",
        "  \"\"\"\n",
        "  Plots the training data and the ground truth vs the prediction\n",
        "  \"\"\"\n",
        "  # Ctrl + Shift + space - will show the docstring in colab jupyter notebooks \n",
        "  plt.figure(figsize=(15,10))\n",
        "  # Plot the training data in blue \n",
        "  plt.scatter(train_data,train_labels,c='b',label='Training Data')\n",
        "  # Plot the test data in green\n",
        "  plt.scatter(test_data,test_labels,c='g',label=\"Test data\")\n",
        "  # Plot the predictions in red \n",
        "  plt.scatter(test_data,predictions,c='r', label=\"Predictions\")\n",
        "  # Show legend\n",
        "  plt.legend()"
      ],
      "execution_count": 12,
      "outputs": []
    },
    {
      "cell_type": "code",
      "metadata": {
        "id": "2Kbq-JRA1xKx"
      },
      "source": [
        "def my_models_init():\n",
        "  global all_results\n",
        "  all_results = pd.DataFrame(columns=['name','mae','mse','layers','params','epochs','lr','optimizer','decay'])\n",
        "  all_results['mae'] = all_results['mae'].map('{:,.2f}'.format) \n",
        "  all_results['mse'] = all_results['mse'].map('{:,.2f}'.format)\n",
        "  all_results['layers'] = all_results['layers'].map('{:,.0f}'.format) \n",
        "  all_results['params'] = all_results['params'].map('{:,.0f}'.format) \n",
        "  all_results['epochs'] = all_results['epochs'].map('{:,.0f}'.format) \n",
        "  all_results['lr'] = all_results['lr'].map('{:,.8f}'.format) \n",
        "  all_results['decay'] = all_results['decay'].map('{:,.8f}'.format)  "
      ],
      "execution_count": 13,
      "outputs": []
    },
    {
      "cell_type": "code",
      "metadata": {
        "id": "8-ONOud11hWg"
      },
      "source": [
        "def my_model_add(vals):\n",
        "  global all_results\n",
        "  df = pd.DataFrame(vals,columns=['name','mae','mse','layers','params','epochs','lr','optimizer','decay'])\n",
        "  df['mae'] = df['mae'].map('{:,.2f}'.format) \n",
        "  df['mse'] = df['mse'].map('{:,.2f}'.format)\n",
        "  df['layers'] = df['layers'].map('{:,.0f}'.format) \n",
        "  df['params'] = df['params'].map('{:,.0f}'.format) \n",
        "  df['epochs'] = df['epochs'].map('{:,.0f}'.format) \n",
        "  df['lr'] = df['lr'].map('{:,.8f}'.format) \n",
        "  df['decay'] = df['decay'].map('{:,.8f}'.format)  \n",
        "  all_results = all_results.append(df,ignore_index = True)\n",
        "  #print(df)\n",
        "  #print(all_results)\n"
      ],
      "execution_count": 14,
      "outputs": []
    },
    {
      "cell_type": "code",
      "metadata": {
        "id": "moYgktkd8qdt"
      },
      "source": [
        "def my_model_info(model, fitted, mae, mse):\n",
        "  stringlist = []\n",
        "  model.summary(print_fn=lambda x: stringlist.append(x))\n",
        "  summ_string = \"\\n\".join(stringlist)\n",
        "  #print(summ_string) # entire summary in a variable\n",
        "\n",
        "  table = stringlist[1:-4][1::2] # take every other element and remove appendix\n",
        "\n",
        "  new_table = []\n",
        "  for entry in table:\n",
        "    entry = re.split(r'\\s{2,}', entry)[:-1] # remove whitespace\n",
        "    new_table.append(entry)\n",
        "  df = pd.DataFrame(new_table[1:], columns=new_table[0])\n",
        "  #print(df.head())\n",
        "  layers = len(df.index)\n",
        "  params = sum(df['Param #'].astype(int))\n",
        "  n_epochs = len(fitted.history['loss'])\n",
        "\n",
        "  #import keras.backend as K\n",
        "  #print(K.eval(model_2.optimizer.lr))\n",
        "  #print(K.eval(model_2.optimizer))\n",
        "\n",
        "  # Get the model info \n",
        "  #type(x)\n",
        "  #list(x.values())[0]\n",
        "  #for key in x.keys():\n",
        "    #print(key, x[key])\n",
        "  x = model.optimizer.get_config()\n",
        "  #print(x[\"name\"], x[\"learning_rate\"], x[\"decay\"])\n",
        "  lr = x[\"learning_rate\"]\n",
        "  optimizer = x[\"name\"]\n",
        "  decay = x[\"decay\"]\n",
        "  \n",
        "  model_results=[[model.name,mae,mse,layers,params,n_epochs,lr,optimizer,decay]]\n",
        "\n",
        "  my_model_add(model_results)\n"
      ],
      "execution_count": 15,
      "outputs": []
    },
    {
      "cell_type": "code",
      "metadata": {
        "id": "qQx3Hl_SBGlp"
      },
      "source": [
        "def my_models_equal(t) :\n",
        "  x=tf.squeeze(t)\n",
        "  (unique, counts) = np.unique(x, return_counts=True)\n",
        "  freq = np.asarray((unique, counts)).T\n",
        "  return freq\n"
      ],
      "execution_count": 16,
      "outputs": []
    },
    {
      "cell_type": "code",
      "metadata": {
        "id": "-ab2JNyaaIZ-",
        "colab": {
          "base_uri": "https://localhost:8080/"
        },
        "outputId": "420508e2-aee6-4c30-81b4-e32b54e2a873"
      },
      "source": [
        "# Init all \n",
        "my_setup()\n",
        "my_modules()\n",
        "my_models_init()"
      ],
      "execution_count": 17,
      "outputs": [
        {
          "output_type": "stream",
          "name": "stdout",
          "text": [
            "tf = 2.6.0 | np = 1.19.5 | tfp = 0.14.1 | pd =  1.1.5\n"
          ]
        }
      ]
    },
    {
      "cell_type": "code",
      "metadata": {
        "colab": {
          "base_uri": "https://localhost:8080/"
        },
        "id": "mWnCostemzRx",
        "outputId": "3bcae27c-dea5-4d53-da33-4728cd299dcd"
      },
      "source": [
        "# Generate the dataset \n",
        "# X_train, y_train, X_test, y_test \n",
        "# Using tf.range\n",
        "\n",
        "X = tf.range(start=1.0, limit=3000, delta=2)\n",
        "y = tf.range(start=100.0, limit=3100, delta=2)\n",
        "# y= X + 100\n",
        "X.shape, y.shape\n"
      ],
      "execution_count": 18,
      "outputs": [
        {
          "output_type": "execute_result",
          "data": {
            "text/plain": [
              "(TensorShape([1500]), TensorShape([1500]))"
            ]
          },
          "metadata": {},
          "execution_count": 18
        }
      ]
    },
    {
      "cell_type": "code",
      "metadata": {
        "id": "BO8GUNJhoBGs"
      },
      "source": [
        "# Now split into training 1000 and test 500 \n",
        "# Preserve the order initially \n",
        "X_train = X[:1000]\n",
        "y_train = y[:1000]\n",
        "X_test = X[1000:]\n",
        "y_test = y[1000:]\n",
        "\n"
      ],
      "execution_count": 19,
      "outputs": []
    },
    {
      "cell_type": "code",
      "metadata": {
        "colab": {
          "base_uri": "https://localhost:8080/",
          "height": 673
        },
        "id": "c7TbjFODEh1F",
        "outputId": "44b417da-1532-4233-e0b1-79adf6ab2acd"
      },
      "source": [
        "# Show basic stats\n",
        "my_stats(X_train)\n",
        "my_stats(X_test)\n",
        "my_stats(y_train)\n",
        "\n"
      ],
      "execution_count": 20,
      "outputs": [
        {
          "output_type": "stream",
          "name": "stdout",
          "text": [
            "Min =  tf.Tensor(1.0, shape=(), dtype=float32)\n",
            "Q25 =  tf.Tensor(501.0, shape=(), dtype=float32)\n",
            "Q50 =  tf.Tensor(1001.0, shape=(), dtype=float32)\n",
            "Q90 =  tf.Tensor(1799.0, shape=(), dtype=float32)\n",
            "Max=  tf.Tensor(1999.0, shape=(), dtype=float32)\n",
            "Mean =  tf.Tensor(1000.0, shape=(), dtype=float32)\n",
            "Std Dev =  tf.Tensor(577.35, shape=(), dtype=float32)\n",
            "\n",
            "Min =  tf.Tensor(2001.0, shape=(), dtype=float32)\n",
            "Q25 =  tf.Tensor(2251.0, shape=(), dtype=float32)\n",
            "Q50 =  tf.Tensor(2501.0, shape=(), dtype=float32)\n",
            "Q90 =  tf.Tensor(2899.0, shape=(), dtype=float32)\n",
            "Max=  tf.Tensor(2999.0, shape=(), dtype=float32)\n",
            "Mean =  tf.Tensor(2500.0, shape=(), dtype=float32)\n",
            "Std Dev =  tf.Tensor(288.67456, shape=(), dtype=float32)\n",
            "\n",
            "Min =  tf.Tensor(100.0, shape=(), dtype=float32)\n",
            "Q25 =  tf.Tensor(600.0, shape=(), dtype=float32)\n",
            "Q50 =  tf.Tensor(1100.0, shape=(), dtype=float32)\n",
            "Q90 =  tf.Tensor(1898.0, shape=(), dtype=float32)\n",
            "Max=  tf.Tensor(2098.0, shape=(), dtype=float32)\n",
            "Mean =  tf.Tensor(1099.0, shape=(), dtype=float32)\n",
            "Std Dev =  tf.Tensor(577.35, shape=(), dtype=float32)\n",
            "\n"
          ]
        },
        {
          "output_type": "display_data",
          "data": {
            "image/png": "[encoded data removed]",
            "text/plain": [
              "<Figure size 432x288 with 1 Axes>"
            ]
          },
          "metadata": {
            "needs_background": "light"
          }
        }
      ]
    },
    {
      "cell_type": "code",
      "metadata": {
        "colab": {
          "base_uri": "https://localhost:8080/",
          "height": 672
        },
        "id": "bezhkpiM8YVv",
        "outputId": "2602e773-47c2-4db8-b788-5d52309efe27"
      },
      "source": [
        "# Fit the first model \n",
        "# One layer \n",
        "# With smell/default learning rate it is TERRIBLE !\n",
        "# Create the model\n",
        "model_1 = tf.keras.Sequential()\n",
        "#model.add(tf.keras.layers.Dense(100,activation=\"relu\"))\n",
        "model_1.add(tf.keras.layers.Dense(1))\n",
        "\n",
        "# Compile the model\n",
        "model_1.compile(loss=tf.keras.losses.mae, \n",
        "              optimizer=tf.keras.optimizers.Adam(learning_rate=0.001),\n",
        "              metrics = [\"mae\"])\n",
        "\n",
        "# Fit the model\n",
        "r = model_1.fit(X_train, y_train, epochs = 10, verbose=0)\n",
        "\n",
        "# Predict and plot \n",
        "y_pred = model_1.predict(X_test)\n",
        "\n",
        "# Summary \n",
        "# Show basic stats\n",
        "#my_stats2(X_train)\n",
        "#my_stats2(X_test)\n",
        "#my_stats2(y_train)\n",
        "#my_stats2(y_test)\n",
        "#my_stats2(y_pred)\n",
        "# Get mae_mse\n",
        "mae, mse = my_mae_mse(y_test, y_pred)\n",
        "\n",
        "mae, mse\n",
        "# Plot \n",
        "plot_predictions(X_train, y_train, X_test, y_test, y_pred)\n",
        "\n",
        "# Update central table \n",
        "my_model_info(model_1,r,mae, mse)\n",
        "all_results\n"
      ],
      "execution_count": 21,
      "outputs": [
        {
          "output_type": "stream",
          "name": "stdout",
          "text": [
            "mae =  377.09 | mse =  143231.48\n"
          ]
        },
        {
          "output_type": "execute_result",
          "data": {
            "text/html": [
              "<div>\n",
              "<style scoped>\n",
              "    .dataframe tbody tr th:only-of-type {\n",
              "        vertical-align: middle;\n",
              "    }\n",
              "\n",
              "    .dataframe tbody tr th {\n",
              "        vertical-align: top;\n",
              "    }\n",
              "\n",
              "    .dataframe thead th {\n",
              "        text-align: right;\n",
              "    }\n",
              "</style>\n",
              "<table border=\"1\" class=\"dataframe\">\n",
              "  <thead>\n",
              "    <tr style=\"text-align: right;\">\n",
              "      <th></th>\n",
              "      <th>name</th>\n",
              "      <th>mae</th>\n",
              "      <th>mse</th>\n",
              "      <th>layers</th>\n",
              "      <th>params</th>\n",
              "      <th>epochs</th>\n",
              "      <th>lr</th>\n",
              "      <th>optimizer</th>\n",
              "      <th>decay</th>\n",
              "    </tr>\n",
              "  </thead>\n",
              "  <tbody>\n",
              "    <tr>\n",
              "      <th>0</th>\n",
              "      <td>sequential</td>\n",
              "      <td>377.09</td>\n",
              "      <td>143,231.48</td>\n",
              "      <td>1</td>\n",
              "      <td>2</td>\n",
              "      <td>10</td>\n",
              "      <td>0.00100000</td>\n",
              "      <td>Adam</td>\n",
              "      <td>0.00000000</td>\n",
              "    </tr>\n",
              "  </tbody>\n",
              "</table>\n",
              "</div>"
            ],
            "text/plain": [
              "         name     mae         mse  ...          lr optimizer       decay\n",
              "0  sequential  377.09  143,231.48  ...  0.00100000      Adam  0.00000000\n",
              "\n",
              "[1 rows x 9 columns]"
            ]
          },
          "metadata": {},
          "execution_count": 21
        },
        {
          "output_type": "display_data",
          "data": {
            "image/png": "[encoded data removed]",
            "text/plain": [
              "<Figure size 1080x720 with 1 Axes>"
            ]
          },
          "metadata": {
            "needs_background": "light"
          }
        }
      ]
    },
    {
      "cell_type": "code",
      "metadata": {
        "colab": {
          "base_uri": "https://localhost:8080/",
          "height": 703
        },
        "id": "CxpxHZZOLuKy",
        "outputId": "b379f5d4-4ce0-4b26-c46c-c3ac40ff8757"
      },
      "source": [
        "# Fit the second model \n",
        "# One layer \n",
        "# With large learning rate it is much better \n",
        "# Create the model\n",
        "model_2 = tf.keras.Sequential()\n",
        "#model.add(tf.keras.layers.Dense(100,activation=\"relu\"))\n",
        "model_2.add(tf.keras.layers.Dense(1))\n",
        "\n",
        "# Compile the model\n",
        "model_2.compile(loss=tf.keras.losses.mae, \n",
        "              optimizer=tf.keras.optimizers.Adam(learning_rate=0.01),\n",
        "              metrics = [\"mae\"])\n",
        "\n",
        "# Fit the model\n",
        "r = model_2.fit(X_train, y_train, epochs = 10, verbose=0)\n",
        "\n",
        "# Predict and plot \n",
        "y_pred = model_2.predict(X_test)\n",
        "\n",
        "# Get mae_mse\n",
        "mae, mse = my_mae_mse(y_test, y_pred)\n",
        "\n",
        "mae, mse\n",
        "# Plot \n",
        "plot_predictions(X_train, y_train, X_test, y_test, y_pred)\n",
        "\n",
        "# Update central table \n",
        "my_model_info(model_2,r,mae, mse)\n",
        "all_results\n",
        "\n",
        "\n"
      ],
      "execution_count": 22,
      "outputs": [
        {
          "output_type": "stream",
          "name": "stdout",
          "text": [
            "mae =  81.65 | mse =  7090.43\n"
          ]
        },
        {
          "output_type": "execute_result",
          "data": {
            "text/html": [
              "<div>\n",
              "<style scoped>\n",
              "    .dataframe tbody tr th:only-of-type {\n",
              "        vertical-align: middle;\n",
              "    }\n",
              "\n",
              "    .dataframe tbody tr th {\n",
              "        vertical-align: top;\n",
              "    }\n",
              "\n",
              "    .dataframe thead th {\n",
              "        text-align: right;\n",
              "    }\n",
              "</style>\n",
              "<table border=\"1\" class=\"dataframe\">\n",
              "  <thead>\n",
              "    <tr style=\"text-align: right;\">\n",
              "      <th></th>\n",
              "      <th>name</th>\n",
              "      <th>mae</th>\n",
              "      <th>mse</th>\n",
              "      <th>layers</th>\n",
              "      <th>params</th>\n",
              "      <th>epochs</th>\n",
              "      <th>lr</th>\n",
              "      <th>optimizer</th>\n",
              "      <th>decay</th>\n",
              "    </tr>\n",
              "  </thead>\n",
              "  <tbody>\n",
              "    <tr>\n",
              "      <th>0</th>\n",
              "      <td>sequential</td>\n",
              "      <td>377.09</td>\n",
              "      <td>143,231.48</td>\n",
              "      <td>1</td>\n",
              "      <td>2</td>\n",
              "      <td>10</td>\n",
              "      <td>0.00100000</td>\n",
              "      <td>Adam</td>\n",
              "      <td>0.00000000</td>\n",
              "    </tr>\n",
              "    <tr>\n",
              "      <th>1</th>\n",
              "      <td>sequential_1</td>\n",
              "      <td>81.65</td>\n",
              "      <td>7,090.43</td>\n",
              "      <td>1</td>\n",
              "      <td>2</td>\n",
              "      <td>10</td>\n",
              "      <td>0.01000000</td>\n",
              "      <td>Adam</td>\n",
              "      <td>0.00000000</td>\n",
              "    </tr>\n",
              "  </tbody>\n",
              "</table>\n",
              "</div>"
            ],
            "text/plain": [
              "           name     mae         mse  ...          lr optimizer       decay\n",
              "0    sequential  377.09  143,231.48  ...  0.00100000      Adam  0.00000000\n",
              "1  sequential_1   81.65    7,090.43  ...  0.01000000      Adam  0.00000000\n",
              "\n",
              "[2 rows x 9 columns]"
            ]
          },
          "metadata": {},
          "execution_count": 22
        },
        {
          "output_type": "display_data",
          "data": {
            "image/png": "[encoded data removed]",
            "text/plain": [
              "<Figure size 1080x720 with 1 Axes>"
            ]
          },
          "metadata": {
            "needs_background": "light"
          }
        }
      ]
    },
    {
      "cell_type": "code",
      "metadata": {
        "colab": {
          "base_uri": "https://localhost:8080/",
          "height": 734
        },
        "id": "4Xl3S5c2MHvy",
        "outputId": "2be3f73c-6aa2-4875-bd80-4e8b855fa3dc"
      },
      "source": [
        "# Fit the third model \n",
        "# One layer \n",
        "# With large learning rate it is much better \n",
        "# Create the model\n",
        "model_3 = tf.keras.Sequential()\n",
        "#model_3.add(tf.keras.layers.Dense(100,activation=\"relu\"))\n",
        "model_3.add(tf.keras.layers.Dense(1))\n",
        "\n",
        "# Compile the model\n",
        "model_3.compile(loss=tf.keras.losses.mae, \n",
        "              optimizer=tf.keras.optimizers.Adam(learning_rate=100.0),\n",
        "              metrics = [\"mae\"])\n",
        "\n",
        "#Fit the model\n",
        "r = model_3.fit(X_train, y_train, epochs = 10, verbose=0)\n",
        "\n",
        "# Predict and plot \n",
        "y_pred = model_3.predict(X_test)\n",
        "\n",
        "# Get mae_mse\n",
        "mae, mse = my_mae_mse(y_test, y_pred)\n",
        "\n",
        "mae, mse\n",
        "# Plot \n",
        "plot_predictions(X_train, y_train, X_test, y_test, y_pred)\n",
        "\n",
        "# Update central table \n",
        "my_model_info(model_3,r,mae, mse)\n",
        "all_results\n",
        "\n"
      ],
      "execution_count": 23,
      "outputs": [
        {
          "output_type": "stream",
          "name": "stdout",
          "text": [
            "mae =  14945.9 | mse =  226374270.0\n"
          ]
        },
        {
          "output_type": "execute_result",
          "data": {
            "text/html": [
              "<div>\n",
              "<style scoped>\n",
              "    .dataframe tbody tr th:only-of-type {\n",
              "        vertical-align: middle;\n",
              "    }\n",
              "\n",
              "    .dataframe tbody tr th {\n",
              "        vertical-align: top;\n",
              "    }\n",
              "\n",
              "    .dataframe thead th {\n",
              "        text-align: right;\n",
              "    }\n",
              "</style>\n",
              "<table border=\"1\" class=\"dataframe\">\n",
              "  <thead>\n",
              "    <tr style=\"text-align: right;\">\n",
              "      <th></th>\n",
              "      <th>name</th>\n",
              "      <th>mae</th>\n",
              "      <th>mse</th>\n",
              "      <th>layers</th>\n",
              "      <th>params</th>\n",
              "      <th>epochs</th>\n",
              "      <th>lr</th>\n",
              "      <th>optimizer</th>\n",
              "      <th>decay</th>\n",
              "    </tr>\n",
              "  </thead>\n",
              "  <tbody>\n",
              "    <tr>\n",
              "      <th>0</th>\n",
              "      <td>sequential</td>\n",
              "      <td>377.09</td>\n",
              "      <td>143,231.48</td>\n",
              "      <td>1</td>\n",
              "      <td>2</td>\n",
              "      <td>10</td>\n",
              "      <td>0.00100000</td>\n",
              "      <td>Adam</td>\n",
              "      <td>0.00000000</td>\n",
              "    </tr>\n",
              "    <tr>\n",
              "      <th>1</th>\n",
              "      <td>sequential_1</td>\n",
              "      <td>81.65</td>\n",
              "      <td>7,090.43</td>\n",
              "      <td>1</td>\n",
              "      <td>2</td>\n",
              "      <td>10</td>\n",
              "      <td>0.01000000</td>\n",
              "      <td>Adam</td>\n",
              "      <td>0.00000000</td>\n",
              "    </tr>\n",
              "    <tr>\n",
              "      <th>2</th>\n",
              "      <td>sequential_2</td>\n",
              "      <td>14,945.90</td>\n",
              "      <td>226,374,272.00</td>\n",
              "      <td>1</td>\n",
              "      <td>2</td>\n",
              "      <td>10</td>\n",
              "      <td>100.00000000</td>\n",
              "      <td>Adam</td>\n",
              "      <td>0.00000000</td>\n",
              "    </tr>\n",
              "  </tbody>\n",
              "</table>\n",
              "</div>"
            ],
            "text/plain": [
              "           name        mae             mse  ...            lr optimizer       decay\n",
              "0    sequential     377.09      143,231.48  ...    0.00100000      Adam  0.00000000\n",
              "1  sequential_1      81.65        7,090.43  ...    0.01000000      Adam  0.00000000\n",
              "2  sequential_2  14,945.90  226,374,272.00  ...  100.00000000      Adam  0.00000000\n",
              "\n",
              "[3 rows x 9 columns]"
            ]
          },
          "metadata": {},
          "execution_count": 23
        },
        {
          "output_type": "display_data",
          "data": {
            "image/png": "[encoded data removed]",
            "text/plain": [
              "<Figure size 1080x720 with 1 Axes>"
            ]
          },
          "metadata": {
            "needs_background": "light"
          }
        }
      ]
    },
    {
      "cell_type": "code",
      "metadata": {
        "colab": {
          "base_uri": "https://localhost:8080/",
          "height": 626
        },
        "id": "KnJg2mwLM0Ci",
        "outputId": "4b878072-d85d-4b7c-f5e0-6fd53709ac41"
      },
      "source": [
        "# Fit the fourth model \n",
        "# One layer \n",
        "# With large learning rate it is much better \n",
        "# Create the model\n",
        "model_4 = tf.keras.Sequential()\n",
        "#model_4.add(tf.keras.layers.Dense(100,activation=\"relu\"))\n",
        "model_4.add(tf.keras.layers.Dense(1))\n",
        "\n",
        "# Compile the model\n",
        "model_4.compile(loss=tf.keras.losses.mae, \n",
        "              optimizer=tf.keras.optimizers.Adam(learning_rate=0.01),\n",
        "              metrics = [\"mae\"])\n",
        "\n",
        "#Fit the model\n",
        "r = model_4.fit(X_train, y_train, epochs = 300, verbose=0)\n",
        "\n",
        "# Predict and plot \n",
        "y_pred = model_4.predict(X_test)\n",
        "\n",
        "# Get mae_mse\n",
        "mae, mse = my_mae_mse(y_test, y_pred)\n",
        "\n",
        "mae, mse\n",
        "# Plot \n",
        "plot_predictions(X_train, y_train, X_test, y_test, y_pred)\n",
        "\n",
        "# Update central table \n",
        "my_model_info(model_4,r,mae, mse)\n",
        "all_results\n",
        "\n",
        "\n",
        "# Model Summry\n",
        "model_4.summary\n",
        "\n"
      ],
      "execution_count": 24,
      "outputs": [
        {
          "output_type": "stream",
          "name": "stdout",
          "text": [
            "mae =  9.35 | mse =  95.78\n"
          ]
        },
        {
          "output_type": "execute_result",
          "data": {
            "text/plain": [
              "<bound method Model.summary of <keras.engine.sequential.Sequential object at 0x7f61d71164d0>>"
            ]
          },
          "metadata": {},
          "execution_count": 24
        },
        {
          "output_type": "display_data",
          "data": {
            "image/png": "[encoded data removed]",
            "text/plain": [
              "<Figure size 1080x720 with 1 Axes>"
            ]
          },
          "metadata": {
            "needs_background": "light"
          }
        }
      ]
    },
    {
      "cell_type": "code",
      "metadata": {
        "colab": {
          "base_uri": "https://localhost:8080/",
          "height": 1000
        },
        "id": "AB3bFqy-4hwQ",
        "outputId": "092d50ba-36fe-4974-9f05-0ce41b1bbe80"
      },
      "source": [
        "# Do another model, add input_shape and show model details _before_ fitting \n",
        "\n",
        "# Create the nodel \n",
        "model_5 = tf.keras.Sequential(name=\"model_5\")\n",
        "model_5.add(tf.keras.layers.Dense(1, input_shape=[1], name='Input_Layer'))\n",
        "model_5.add(tf.keras.layers.Dense(100, activation=\"relu\", name=\"Hidden_Layer\"))\n",
        "#model_5.add(tf.keras.layers.Dense(3, input_shape=[1]))\n",
        "model_5.add(tf.keras.layers.Dense(1, name=\"Output_Layer\"))\n",
        "\n",
        "# Compile the model \n",
        "model_5.compile(loss=tf.keras.losses.mae,\n",
        "              optimizer=tf.keras.optimizers.Adam(learning_rate=0.01),\n",
        "              metrics=tf.keras.metrics.mae)\n",
        "\n",
        "# Get the model summary \n",
        "model_5.summary()\n",
        "\n",
        "# Why are there 303 instead of 300 parameters ?\n",
        "# Becuase of the 3 in the output layer \n",
        "pm(model=model_5,show_shapes=True)\n",
        "\n",
        "#Fit the model\n",
        "r = model_5.fit(X_train, y_train, epochs = 300, verbose=0)\n",
        "\n",
        "# Predict and plot \n",
        "y_pred = model_5.predict(X_test)\n",
        "\n",
        "# Get mae_mse\n",
        "mae, mse = my_mae_mse(y_test, y_pred)\n",
        "\n",
        "mae, mse\n",
        "# Plot \n",
        "plot_predictions(X_train, y_train, X_test, y_test, y_pred)\n",
        "\n",
        "# Update central table \n",
        "my_model_info(model_5,r,mae, mse)\n",
        "all_results\n",
        "\n",
        "\n"
      ],
      "execution_count": 25,
      "outputs": [
        {
          "output_type": "stream",
          "name": "stdout",
          "text": [
            "Model: \"model_5\"\n",
            "_________________________________________________________________\n",
            "Layer (type)                 Output Shape              Param #   \n",
            "=================================================================\n",
            "Input_Layer (Dense)          (None, 1)                 2         \n",
            "_________________________________________________________________\n",
            "Hidden_Layer (Dense)         (None, 100)               200       \n",
            "_________________________________________________________________\n",
            "Output_Layer (Dense)         (None, 1)                 101       \n",
            "=================================================================\n",
            "Total params: 303\n",
            "Trainable params: 303\n",
            "Non-trainable params: 0\n",
            "_________________________________________________________________\n",
            "mae =  47.42 | mse =  2275.13\n"
          ]
        },
        {
          "output_type": "execute_result",
          "data": {
            "text/html": [
              "<div>\n",
              "<style scoped>\n",
              "    .dataframe tbody tr th:only-of-type {\n",
              "        vertical-align: middle;\n",
              "    }\n",
              "\n",
              "    .dataframe tbody tr th {\n",
              "        vertical-align: top;\n",
              "    }\n",
              "\n",
              "    .dataframe thead th {\n",
              "        text-align: right;\n",
              "    }\n",
              "</style>\n",
              "<table border=\"1\" class=\"dataframe\">\n",
              "  <thead>\n",
              "    <tr style=\"text-align: right;\">\n",
              "      <th></th>\n",
              "      <th>name</th>\n",
              "      <th>mae</th>\n",
              "      <th>mse</th>\n",
              "      <th>layers</th>\n",
              "      <th>params</th>\n",
              "      <th>epochs</th>\n",
              "      <th>lr</th>\n",
              "      <th>optimizer</th>\n",
              "      <th>decay</th>\n",
              "    </tr>\n",
              "  </thead>\n",
              "  <tbody>\n",
              "    <tr>\n",
              "      <th>0</th>\n",
              "      <td>sequential</td>\n",
              "      <td>377.09</td>\n",
              "      <td>143,231.48</td>\n",
              "      <td>1</td>\n",
              "      <td>2</td>\n",
              "      <td>10</td>\n",
              "      <td>0.00100000</td>\n",
              "      <td>Adam</td>\n",
              "      <td>0.00000000</td>\n",
              "    </tr>\n",
              "    <tr>\n",
              "      <th>1</th>\n",
              "      <td>sequential_1</td>\n",
              "      <td>81.65</td>\n",
              "      <td>7,090.43</td>\n",
              "      <td>1</td>\n",
              "      <td>2</td>\n",
              "      <td>10</td>\n",
              "      <td>0.01000000</td>\n",
              "      <td>Adam</td>\n",
              "      <td>0.00000000</td>\n",
              "    </tr>\n",
              "    <tr>\n",
              "      <th>2</th>\n",
              "      <td>sequential_2</td>\n",
              "      <td>14,945.90</td>\n",
              "      <td>226,374,272.00</td>\n",
              "      <td>1</td>\n",
              "      <td>2</td>\n",
              "      <td>10</td>\n",
              "      <td>100.00000000</td>\n",
              "      <td>Adam</td>\n",
              "      <td>0.00000000</td>\n",
              "    </tr>\n",
              "    <tr>\n",
              "      <th>3</th>\n",
              "      <td>sequential_3</td>\n",
              "      <td>9.35</td>\n",
              "      <td>95.78</td>\n",
              "      <td>1</td>\n",
              "      <td>2</td>\n",
              "      <td>300</td>\n",
              "      <td>0.01000000</td>\n",
              "      <td>Adam</td>\n",
              "      <td>0.00000000</td>\n",
              "    </tr>\n",
              "    <tr>\n",
              "      <th>4</th>\n",
              "      <td>model_5</td>\n",
              "      <td>47.42</td>\n",
              "      <td>2,275.13</td>\n",
              "      <td>3</td>\n",
              "      <td>303</td>\n",
              "      <td>300</td>\n",
              "      <td>0.01000000</td>\n",
              "      <td>Adam</td>\n",
              "      <td>0.00000000</td>\n",
              "    </tr>\n",
              "  </tbody>\n",
              "</table>\n",
              "</div>"
            ],
            "text/plain": [
              "           name        mae             mse  ...            lr optimizer       decay\n",
              "0    sequential     377.09      143,231.48  ...    0.00100000      Adam  0.00000000\n",
              "1  sequential_1      81.65        7,090.43  ...    0.01000000      Adam  0.00000000\n",
              "2  sequential_2  14,945.90  226,374,272.00  ...  100.00000000      Adam  0.00000000\n",
              "3  sequential_3       9.35           95.78  ...    0.01000000      Adam  0.00000000\n",
              "4       model_5      47.42        2,275.13  ...    0.01000000      Adam  0.00000000\n",
              "\n",
              "[5 rows x 9 columns]"
            ]
          },
          "metadata": {},
          "execution_count": 25
        },
        {
          "output_type": "display_data",
          "data": {
            "image/png": "[encoded data removed]",
            "text/plain": [
              "<Figure size 1080x720 with 1 Axes>"
            ]
          },
          "metadata": {
            "needs_background": "light"
          }
        }
      ]
    },
    {
      "cell_type": "code",
      "metadata": {
        "colab": {
          "base_uri": "https://localhost:8080/",
          "height": 827
        },
        "id": "KbUiWEJwkff5",
        "outputId": "ae1ffd1d-e9b7-4cef-d781-be0fa6c86063"
      },
      "source": [
        "# Put this into a function \n",
        "# Name everything - model and the layers as well \n",
        "# Make 2 pandas data frames\n",
        "# One with a model summary \n",
        "# One with the model details for each model \n",
        "# Soooo Cool \n",
        "\n",
        "# Create the model \n",
        "model_6 = tf.keras.Sequential(name=\"model_6\")\n",
        "model_6.add(tf.keras.layers.Dense(1, input_shape=[1]))\n",
        "\n",
        "# Compile the model\n",
        "model_6.compile(loss=tf.keras.losses.mae,\n",
        "                optimizer=tf.keras.optimizers.SGD(),\n",
        "                metrics=['mae'])\n",
        "\n",
        "\n",
        "#Fit the model\n",
        "r = model_6.fit(X_train, y_train, epochs = 300, verbose=0)\n",
        "\n",
        "# Predict and plot \n",
        "y_pred = model_6.predict(X_test)\n",
        "\n",
        "# Get mae_mse\n",
        "mae, mse = my_mae_mse(y_test, y_pred)\n",
        "\n",
        "mae, mse\n",
        "# Plot \n",
        "plot_predictions(X_train, y_train, X_test, y_test, y_pred)\n",
        "\n",
        "# Update central table \n",
        "my_model_info(model_6,r,mae, mse)\n",
        "all_results\n",
        "\n"
      ],
      "execution_count": 26,
      "outputs": [
        {
          "output_type": "stream",
          "name": "stdout",
          "text": [
            "mae =  27853.03 | mse =  786063600.0\n"
          ]
        },
        {
          "output_type": "execute_result",
          "data": {
            "text/html": [
              "<div>\n",
              "<style scoped>\n",
              "    .dataframe tbody tr th:only-of-type {\n",
              "        vertical-align: middle;\n",
              "    }\n",
              "\n",
              "    .dataframe tbody tr th {\n",
              "        vertical-align: top;\n",
              "    }\n",
              "\n",
              "    .dataframe thead th {\n",
              "        text-align: right;\n",
              "    }\n",
              "</style>\n",
              "<table border=\"1\" class=\"dataframe\">\n",
              "  <thead>\n",
              "    <tr style=\"text-align: right;\">\n",
              "      <th></th>\n",
              "      <th>name</th>\n",
              "      <th>mae</th>\n",
              "      <th>mse</th>\n",
              "      <th>layers</th>\n",
              "      <th>params</th>\n",
              "      <th>epochs</th>\n",
              "      <th>lr</th>\n",
              "      <th>optimizer</th>\n",
              "      <th>decay</th>\n",
              "    </tr>\n",
              "  </thead>\n",
              "  <tbody>\n",
              "    <tr>\n",
              "      <th>0</th>\n",
              "      <td>sequential</td>\n",
              "      <td>377.09</td>\n",
              "      <td>143,231.48</td>\n",
              "      <td>1</td>\n",
              "      <td>2</td>\n",
              "      <td>10</td>\n",
              "      <td>0.00100000</td>\n",
              "      <td>Adam</td>\n",
              "      <td>0.00000000</td>\n",
              "    </tr>\n",
              "    <tr>\n",
              "      <th>1</th>\n",
              "      <td>sequential_1</td>\n",
              "      <td>81.65</td>\n",
              "      <td>7,090.43</td>\n",
              "      <td>1</td>\n",
              "      <td>2</td>\n",
              "      <td>10</td>\n",
              "      <td>0.01000000</td>\n",
              "      <td>Adam</td>\n",
              "      <td>0.00000000</td>\n",
              "    </tr>\n",
              "    <tr>\n",
              "      <th>2</th>\n",
              "      <td>sequential_2</td>\n",
              "      <td>14,945.90</td>\n",
              "      <td>226,374,272.00</td>\n",
              "      <td>1</td>\n",
              "      <td>2</td>\n",
              "      <td>10</td>\n",
              "      <td>100.00000000</td>\n",
              "      <td>Adam</td>\n",
              "      <td>0.00000000</td>\n",
              "    </tr>\n",
              "    <tr>\n",
              "      <th>3</th>\n",
              "      <td>sequential_3</td>\n",
              "      <td>9.35</td>\n",
              "      <td>95.78</td>\n",
              "      <td>1</td>\n",
              "      <td>2</td>\n",
              "      <td>300</td>\n",
              "      <td>0.01000000</td>\n",
              "      <td>Adam</td>\n",
              "      <td>0.00000000</td>\n",
              "    </tr>\n",
              "    <tr>\n",
              "      <th>4</th>\n",
              "      <td>model_5</td>\n",
              "      <td>47.42</td>\n",
              "      <td>2,275.13</td>\n",
              "      <td>3</td>\n",
              "      <td>303</td>\n",
              "      <td>300</td>\n",
              "      <td>0.01000000</td>\n",
              "      <td>Adam</td>\n",
              "      <td>0.00000000</td>\n",
              "    </tr>\n",
              "    <tr>\n",
              "      <th>5</th>\n",
              "      <td>model_6</td>\n",
              "      <td>27,853.03</td>\n",
              "      <td>786,063,616.00</td>\n",
              "      <td>1</td>\n",
              "      <td>2</td>\n",
              "      <td>300</td>\n",
              "      <td>0.01000000</td>\n",
              "      <td>SGD</td>\n",
              "      <td>0.00000000</td>\n",
              "    </tr>\n",
              "  </tbody>\n",
              "</table>\n",
              "</div>"
            ],
            "text/plain": [
              "           name        mae             mse  ...            lr optimizer       decay\n",
              "0    sequential     377.09      143,231.48  ...    0.00100000      Adam  0.00000000\n",
              "1  sequential_1      81.65        7,090.43  ...    0.01000000      Adam  0.00000000\n",
              "2  sequential_2  14,945.90  226,374,272.00  ...  100.00000000      Adam  0.00000000\n",
              "3  sequential_3       9.35           95.78  ...    0.01000000      Adam  0.00000000\n",
              "4       model_5      47.42        2,275.13  ...    0.01000000      Adam  0.00000000\n",
              "5       model_6  27,853.03  786,063,616.00  ...    0.01000000       SGD  0.00000000\n",
              "\n",
              "[6 rows x 9 columns]"
            ]
          },
          "metadata": {},
          "execution_count": 26
        },
        {
          "output_type": "display_data",
          "data": {
            "image/png": "[encoded data removed]",
            "text/plain": [
              "<Figure size 1080x720 with 1 Axes>"
            ]
          },
          "metadata": {
            "needs_background": "light"
          }
        }
      ]
    },
    {
      "cell_type": "code",
      "metadata": {
        "colab": {
          "base_uri": "https://localhost:8080/",
          "height": 858
        },
        "id": "nn3bvnrnQcRF",
        "outputId": "ed04c904-2b5c-4ccd-d4b0-b30299960bab"
      },
      "source": [
        "# A broken model !\n",
        "# Create the model \n",
        "model_7 = tf.keras.Sequential(name=\"model_7\")\n",
        "model_7.add(tf.keras.layers.Dense(1, input_shape=[1]))\n",
        "model_7.add(tf.keras.layers.Dense(100, activation=\"relu\"))\n",
        "model_7.add(tf.keras.layers.Dense(1))\n",
        "\n",
        "# Compile the model\n",
        "model_7.compile(loss=tf.keras.losses.mae,\n",
        "                optimizer=tf.keras.optimizers.SGD(learning_rate=0.01),\n",
        "                metrics=['mae'])\n",
        "\n",
        "\n",
        "#Fit the model\n",
        "r = model_7.fit(X_train, y_train, epochs = 100, verbose=0)\n",
        "\n",
        "# Predict and plot \n",
        "y_pred = model_7.predict(X_test)\n",
        "\n",
        "# Get mae_mse\n",
        "mae, mse = my_mae_mse(y_test, y_pred)\n",
        "\n",
        "mae, mse\n",
        "# Plot \n",
        "plot_predictions(X_train, y_train, X_test, y_test, y_pred)\n",
        "\n",
        "# Update central table \n",
        "my_model_info(model_7,r,mae, mse)\n",
        "all_results\n"
      ],
      "execution_count": 27,
      "outputs": [
        {
          "output_type": "stream",
          "name": "stdout",
          "text": [
            "mae =  nan | mse =  nan\n"
          ]
        },
        {
          "output_type": "execute_result",
          "data": {
            "text/html": [
              "<div>\n",
              "<style scoped>\n",
              "    .dataframe tbody tr th:only-of-type {\n",
              "        vertical-align: middle;\n",
              "    }\n",
              "\n",
              "    .dataframe tbody tr th {\n",
              "        vertical-align: top;\n",
              "    }\n",
              "\n",
              "    .dataframe thead th {\n",
              "        text-align: right;\n",
              "    }\n",
              "</style>\n",
              "<table border=\"1\" class=\"dataframe\">\n",
              "  <thead>\n",
              "    <tr style=\"text-align: right;\">\n",
              "      <th></th>\n",
              "      <th>name</th>\n",
              "      <th>mae</th>\n",
              "      <th>mse</th>\n",
              "      <th>layers</th>\n",
              "      <th>params</th>\n",
              "      <th>epochs</th>\n",
              "      <th>lr</th>\n",
              "      <th>optimizer</th>\n",
              "      <th>decay</th>\n",
              "    </tr>\n",
              "  </thead>\n",
              "  <tbody>\n",
              "    <tr>\n",
              "      <th>0</th>\n",
              "      <td>sequential</td>\n",
              "      <td>377.09</td>\n",
              "      <td>143,231.48</td>\n",
              "      <td>1</td>\n",
              "      <td>2</td>\n",
              "      <td>10</td>\n",
              "      <td>0.00100000</td>\n",
              "      <td>Adam</td>\n",
              "      <td>0.00000000</td>\n",
              "    </tr>\n",
              "    <tr>\n",
              "      <th>1</th>\n",
              "      <td>sequential_1</td>\n",
              "      <td>81.65</td>\n",
              "      <td>7,090.43</td>\n",
              "      <td>1</td>\n",
              "      <td>2</td>\n",
              "      <td>10</td>\n",
              "      <td>0.01000000</td>\n",
              "      <td>Adam</td>\n",
              "      <td>0.00000000</td>\n",
              "    </tr>\n",
              "    <tr>\n",
              "      <th>2</th>\n",
              "      <td>sequential_2</td>\n",
              "      <td>14,945.90</td>\n",
              "      <td>226,374,272.00</td>\n",
              "      <td>1</td>\n",
              "      <td>2</td>\n",
              "      <td>10</td>\n",
              "      <td>100.00000000</td>\n",
              "      <td>Adam</td>\n",
              "      <td>0.00000000</td>\n",
              "    </tr>\n",
              "    <tr>\n",
              "      <th>3</th>\n",
              "      <td>sequential_3</td>\n",
              "      <td>9.35</td>\n",
              "      <td>95.78</td>\n",
              "      <td>1</td>\n",
              "      <td>2</td>\n",
              "      <td>300</td>\n",
              "      <td>0.01000000</td>\n",
              "      <td>Adam</td>\n",
              "      <td>0.00000000</td>\n",
              "    </tr>\n",
              "    <tr>\n",
              "      <th>4</th>\n",
              "      <td>model_5</td>\n",
              "      <td>47.42</td>\n",
              "      <td>2,275.13</td>\n",
              "      <td>3</td>\n",
              "      <td>303</td>\n",
              "      <td>300</td>\n",
              "      <td>0.01000000</td>\n",
              "      <td>Adam</td>\n",
              "      <td>0.00000000</td>\n",
              "    </tr>\n",
              "    <tr>\n",
              "      <th>5</th>\n",
              "      <td>model_6</td>\n",
              "      <td>27,853.03</td>\n",
              "      <td>786,063,616.00</td>\n",
              "      <td>1</td>\n",
              "      <td>2</td>\n",
              "      <td>300</td>\n",
              "      <td>0.01000000</td>\n",
              "      <td>SGD</td>\n",
              "      <td>0.00000000</td>\n",
              "    </tr>\n",
              "    <tr>\n",
              "      <th>6</th>\n",
              "      <td>model_7</td>\n",
              "      <td>nan</td>\n",
              "      <td>nan</td>\n",
              "      <td>3</td>\n",
              "      <td>303</td>\n",
              "      <td>100</td>\n",
              "      <td>0.01000000</td>\n",
              "      <td>SGD</td>\n",
              "      <td>0.00000000</td>\n",
              "    </tr>\n",
              "  </tbody>\n",
              "</table>\n",
              "</div>"
            ],
            "text/plain": [
              "           name        mae             mse  ...            lr optimizer       decay\n",
              "0    sequential     377.09      143,231.48  ...    0.00100000      Adam  0.00000000\n",
              "1  sequential_1      81.65        7,090.43  ...    0.01000000      Adam  0.00000000\n",
              "2  sequential_2  14,945.90  226,374,272.00  ...  100.00000000      Adam  0.00000000\n",
              "3  sequential_3       9.35           95.78  ...    0.01000000      Adam  0.00000000\n",
              "4       model_5      47.42        2,275.13  ...    0.01000000      Adam  0.00000000\n",
              "5       model_6  27,853.03  786,063,616.00  ...    0.01000000       SGD  0.00000000\n",
              "6       model_7        nan             nan  ...    0.01000000       SGD  0.00000000\n",
              "\n",
              "[7 rows x 9 columns]"
            ]
          },
          "metadata": {},
          "execution_count": 27
        },
        {
          "output_type": "display_data",
          "data": {
            "image/png": "[encoded data removed]",
            "text/plain": [
              "<Figure size 1080x720 with 1 Axes>"
            ]
          },
          "metadata": {
            "needs_background": "light"
          }
        }
      ]
    },
    {
      "cell_type": "markdown",
      "metadata": {
        "id": "AZhMp-GzeOFI"
      },
      "source": [
        "## Other tools to track modelling experiments\n",
        "### Tensor board \n",
        "### Weights and Biases "
      ]
    },
    {
      "cell_type": "code",
      "metadata": {
        "id": "JTGRdK5ffzzB"
      },
      "source": [
        ""
      ],
      "execution_count": 27,
      "outputs": []
    },
    {
      "cell_type": "markdown",
      "metadata": {
        "id": "67nL2KMhf1hS"
      },
      "source": [
        "## Saving and Restoring Models\n",
        "\n",
        "https://www.tensorflow.org/tutorials/keras/save_and_load\n",
        "\n",
        "Two formats\n",
        "SavedModel format\n",
        "HDF5 format \n",
        "\n",
        "HDF5 - hirerachical data format \n",
        "\n",
        "1st is TF sepecific\n",
        "2nd is general \n",
        "\n",
        "What gets saved ?\n",
        "1. The weights and biases\n",
        "2. The model architecture \n",
        "3. The model's training architecture - anything you pass into the .compile \n",
        "4. The optimizer and its state - so can restart training where we left off  \n",
        "\n",
        "\n"
      ]
    },
    {
      "cell_type": "code",
      "metadata": {
        "colab": {
          "base_uri": "https://localhost:8080/"
        },
        "id": "c8GHVK3PgF4p",
        "outputId": "fea87649-4d60-4359-fccf-778b6d759e10"
      },
      "source": [
        "# Save the best model so far \n",
        "model_4.summary()\n",
        "\n",
        "# Goes in a folder called model_4\n",
        "model_4.save(\"model_4\")\n",
        "\n",
        "#Goes into a single file with extension h5\n",
        "model_4.save(\"model_4.h5\")\n"
      ],
      "execution_count": 28,
      "outputs": [
        {
          "output_type": "stream",
          "name": "stdout",
          "text": [
            "Model: \"sequential_3\"\n",
            "_________________________________________________________________\n",
            "Layer (type)                 Output Shape              Param #   \n",
            "=================================================================\n",
            "dense_3 (Dense)              (None, 1)                 2         \n",
            "=================================================================\n",
            "Total params: 2\n",
            "Trainable params: 2\n",
            "Non-trainable params: 0\n",
            "_________________________________________________________________\n",
            "INFO:tensorflow:Assets written to: model_4/assets\n"
          ]
        }
      ]
    },
    {
      "cell_type": "code",
      "metadata": {
        "colab": {
          "base_uri": "https://localhost:8080/"
        },
        "id": "9L_xsttplKNM",
        "outputId": "7049ff77-36ef-4c4f-981f-9c7d2a2111c8"
      },
      "source": [
        "! ls -ltr model_4/\n"
      ],
      "execution_count": 29,
      "outputs": [
        {
          "output_type": "stream",
          "name": "stdout",
          "text": [
            "total 64\n",
            "drwxr-xr-x 2 root root  4096 Oct 18 09:41 variables\n",
            "drwxr-xr-x 2 root root  4096 Oct 18 09:41 assets\n",
            "-rw-r--r-- 1 root root 48016 Oct 18 09:41 saved_model.pb\n",
            "-rw-r--r-- 1 root root  4270 Oct 18 09:41 keras_metadata.pb\n"
          ]
        }
      ]
    },
    {
      "cell_type": "code",
      "metadata": {
        "colab": {
          "base_uri": "https://localhost:8080/"
        },
        "id": "H8nFxO5MoZqJ",
        "outputId": "5971b01e-fb3a-4827-881a-1628801d1382"
      },
      "source": [
        "# Load back the models and compare \n",
        "saved_model_4 = tf.keras.models.load_model(\"model_4\")\n",
        "\n",
        "model_4_preds = model_4.predict(X_test)\n",
        "saved_model_4_preds = saved_model_4.predict(X_test)\n",
        "\n",
        "x = model_4_preds == saved_model_4_preds\n",
        "\n",
        "# Check if the two model predictions are identical\n",
        "# 1 = True, 0 = False\n",
        "freq = my_models_equal(x)\n",
        "print(freq[0][0], freq[0][1])\n",
        "print(freq)\n"
      ],
      "execution_count": 30,
      "outputs": [
        {
          "output_type": "stream",
          "name": "stdout",
          "text": [
            "1 500\n",
            "[[  1 500]]\n"
          ]
        }
      ]
    },
    {
      "cell_type": "code",
      "metadata": {
        "colab": {
          "base_uri": "https://localhost:8080/"
        },
        "id": "UxHPva_PDbrz",
        "outputId": "570ed9bc-19b6-47c9-f5d6-74efb05a90fc"
      },
      "source": [
        "# Load back the models and compare \n",
        "saved_model_4_h5 = tf.keras.models.load_model(\"model_4.h5\")\n",
        "\n",
        "model_4_preds = model_4.predict(X_test)\n",
        "saved_model_4_h5_preds = saved_model_4_h5.predict(X_test)\n",
        "\n",
        "x = model_4_preds == saved_model_4_h5_preds\n",
        "\n",
        "# Check if the two model predictions are identical\n",
        "# 1 = True, 0 = False\n",
        "freq = my_models_equal(x)\n",
        "print(freq[0][0], freq[0][1])\n",
        "print(freq)"
      ],
      "execution_count": 31,
      "outputs": [
        {
          "output_type": "stream",
          "name": "stdout",
          "text": [
            "1 500\n",
            "[[  1 500]]\n"
          ]
        }
      ]
    },
    {
      "cell_type": "code",
      "metadata": {
        "colab": {
          "base_uri": "https://localhost:8080/",
          "height": 17
        },
        "id": "_wrCeFccwNGW",
        "outputId": "04c8af86-ca46-4c1a-c5e7-2d5c67a7b0bf"
      },
      "source": [
        "#Downloading files from Google Colab \n",
        "# Note all content goes to /content \n",
        "# It gets wiped when disco0nnected \n",
        "# Persist it to Google Dive by copying it ?\n",
        "\n",
        "from google.colab import files\n",
        "files.download(\"/content/model_4.h5\")"
      ],
      "execution_count": 39,
      "outputs": [
        {
          "output_type": "display_data",
          "data": {
            "application/javascript": [
              "\n",
              "    async function download(id, filename, size) {\n",
              "      if (!google.colab.kernel.accessAllowed) {\n",
              "        return;\n",
              "      }\n",
              "      const div = document.createElement('div');\n",
              "      const label = document.createElement('label');\n",
              "      label.textContent = `Downloading \"${filename}\": `;\n",
              "      div.appendChild(label);\n",
              "      const progress = document.createElement('progress');\n",
              "      progress.max = size;\n",
              "      div.appendChild(progress);\n",
              "      document.body.appendChild(div);\n",
              "\n",
              "      const buffers = [];\n",
              "      let downloaded = 0;\n",
              "\n",
              "      const channel = await google.colab.kernel.comms.open(id);\n",
              "      // Send a message to notify the kernel that we're ready.\n",
              "      channel.send({})\n",
              "\n",
              "      for await (const message of channel.messages) {\n",
              "        // Send a message to notify the kernel that we're ready.\n",
              "        channel.send({})\n",
              "        if (message.buffers) {\n",
              "          for (const buffer of message.buffers) {\n",
              "            buffers.push(buffer);\n",
              "            downloaded += buffer.byteLength;\n",
              "            progress.value = downloaded;\n",
              "          }\n",
              "        }\n",
              "      }\n",
              "      const blob = new Blob(buffers, {type: 'application/binary'});\n",
              "      const a = document.createElement('a');\n",
              "      a.href = window.URL.createObjectURL(blob);\n",
              "      a.download = filename;\n",
              "      div.appendChild(a);\n",
              "      a.click();\n",
              "      div.remove();\n",
              "    }\n",
              "  "
            ],
            "text/plain": [
              "<IPython.core.display.Javascript object>"
            ]
          },
          "metadata": {}
        },
        {
          "output_type": "display_data",
          "data": {
            "application/javascript": [
              "download(\"download_15ae311f-2f91-41ae-a13e-b3f0603f75bc\", \"model_4.h5\", 18480)"
            ],
            "text/plain": [
              "<IPython.core.display.Javascript object>"
            ]
          },
          "metadata": {}
        }
      ]
    },
    {
      "cell_type": "code",
      "metadata": {
        "colab": {
          "base_uri": "https://localhost:8080/"
        },
        "id": "CuMyEjAtw8ed",
        "outputId": "d84cb762-7695-405e-92ad-eff61abe3538"
      },
      "source": [
        "# Note all content goes to /content \n",
        "# It gets wiped when disco0nnected \n",
        "# Persist it to Google Dive by copying it ?\n",
        "# Mount Google Drive from File System icons\n",
        "\n",
        "! pwd\n",
        "! cp  \"/content/model_4.h5\" /content/drive/MyDrive/Models/"
      ],
      "execution_count": 42,
      "outputs": [
        {
          "output_type": "stream",
          "name": "stdout",
          "text": [
            "/content\n"
          ]
        }
      ]
    }
  ]
}