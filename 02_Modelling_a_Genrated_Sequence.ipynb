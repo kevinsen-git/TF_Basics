{
  "nbformat": 4,
  "nbformat_minor": 0,
  "metadata": {
    "colab": {
      "name": "02_Modelling_a_Genrated_Sequence.ipynb",
      "provenance": [],
      "collapsed_sections": [],
      "authorship_tag": "ABX9TyNhUvRedRer5ZPhBbIgCNdp",
      "include_colab_link": true
    },
    "kernelspec": {
      "name": "python3",
      "display_name": "Python 3"
    },
    "language_info": {
      "name": "python"
    }
  },
  "cells": [
    {
      "cell_type": "markdown",
      "metadata": {
        "id": "view-in-github",
        "colab_type": "text"
      },
      "source": [
        "<a href=\"https://colab.research.google.com/github/kevinsen-git/TF_Basics/blob/main/02_Modelling_a_Genrated_Sequence.ipynb\" target=\"_parent\"><img src=\"https://colab.research.google.com/assets/colab-badge.svg\" alt=\"Open In Colab\"/></a>"
      ]
    },
    {
      "cell_type": "markdown",
      "metadata": {
        "id": "gH1THBPAFKqv"
      },
      "source": [
        "## Generate a fixed sequence of numbers and try finding the simplest, most accurate model \n",
        "\n",
        "#### 1. Generate the sequence of 1,000 numbers\n",
        "#### 2. Split into 80% training + 20% testing \n",
        "#### 3. Try various models \n",
        "#### 4. Plot the estimates\n",
        "#### 5. Fine tune the models \n",
        "#### 6. Try a bit of over fitting \n",
        "#### 7. Redo with some gaps in the data\n",
        "#### 8. Redo with some added noise in the data \n",
        "\n",
        "**[Possible Tuning Methods for models]**\n",
        "\n",
        "1. ***Change learning rate***\n",
        "2. ***Change number of epochs***\n",
        "3. ***Add dense layers***\n",
        "4. ***Add neurons per layer*** \n",
        "5. ***Change activation function***\n",
        "6. ***Change optimizer***\n",
        "7. ***Change loss function***\n",
        "8. ***Use more training data***\n"
      ]
    },
    {
      "cell_type": "code",
      "metadata": {
        "id": "B77BdN8EJvf3"
      },
      "source": [
        "# Do the imports and initial setup \n",
        "# Need to have the following as global variables \n",
        "def my_setup() :\n",
        "  global tf, np, plt, tfp, pm, pd, re\n",
        "  import tensorflow as tf \n",
        "  import numpy as np \n",
        "  import matplotlib.pyplot as plt \n",
        "  import tensorflow_probability as tfp\n",
        "  import pandas as pd \n",
        "  from tensorflow.keras.utils import plot_model as pm\n",
        "  import re \n",
        "  tf.random.set_seed(42)\n",
        "  \n",
        " "
      ],
      "execution_count": 179,
      "outputs": []
    },
    {
      "cell_type": "code",
      "metadata": {
        "id": "9RJPbvxKadDX"
      },
      "source": [
        "# Function to show names and versions of the stuff I am using\n",
        "def my_modules():\n",
        "  print(\"tf =\",tf.__version__,\"| np =\",np.__version__,\"| tfp =\",tfp.__version__\n",
        "        ,\"| pd = \",pd.__version__)\n",
        "#pip show tensorflow matplotlib numpy\n",
        "#pip list "
      ],
      "execution_count": 180,
      "outputs": []
    },
    {
      "cell_type": "code",
      "metadata": {
        "id": "MB1uIoasDYdd"
      },
      "source": [
        "# Function to do basic stats on a simple tensor \n",
        "def my_stats(data):\n",
        "  print(\"Min = \",tf.math.reduce_min(data))\n",
        "  print(\"Q25 = \",tfp.stats.percentile(data, 25))\n",
        "  print(\"Q50 = \",tfp.stats.percentile(data, 50))\n",
        "  print(\"Q90 = \",tfp.stats.percentile(data, 90))\n",
        "  print(\"Max= \",tf.math.reduce_max(data))\n",
        "  print(\"Mean = \",tf.math.reduce_mean(data))\n",
        "  print(\"Std Dev = \",tfp.stats.stddev(data))\n",
        "  print()\n",
        "  # Do histogram \n",
        "  plt.hist(data)"
      ],
      "execution_count": 181,
      "outputs": []
    },
    {
      "cell_type": "code",
      "metadata": {
        "id": "QK5ttxuwZptU"
      },
      "source": [
        "# Function to do basic stats on a simple tensor \n",
        "def my_stats2(data):\n",
        "  print(\"Min=\",tf.math.reduce_min(data).numpy().round(2),\"Q25=\",tfp.stats.percentile(data, 25).numpy().round(2),\"Q50=\",tfp.stats.percentile(data, 50).numpy().round(2),\n",
        "        \"Q90=\",tfp.stats.percentile(data, 90).numpy().round(2))\n",
        "  print(\"Max=\",tf.math.reduce_max(data).numpy().round(2),\"Mean=\",tf.math.reduce_mean(data).numpy().round(2),\"StdDev=\",tf.squeeze(tfp.stats.stddev(data)).numpy().round(2))\n",
        "  print()\n",
        "  # Do histogram \n",
        "  plt.hist(data)"
      ],
      "execution_count": 182,
      "outputs": []
    },
    {
      "cell_type": "code",
      "metadata": {
        "id": "iUZBScalWmrW"
      },
      "source": [
        "# Function to calculate the mean absolute error and the mean squared error \n",
        "def my_mae_mse(y_test,y_pred):\n",
        "  mae = tf.metrics.mean_absolute_error(y_test, tf.squeeze(y_pred))\n",
        "  mse = tf.metrics.mean_squared_error(y_test, tf.squeeze(y_pred))\n",
        "  print ('mae = ',mae.numpy().round(2),'| mse = ',mse.numpy().round(2))\n",
        "  return mae.numpy().round(2), mse.numpy().round(2)"
      ],
      "execution_count": 183,
      "outputs": []
    },
    {
      "cell_type": "code",
      "metadata": {
        "id": "5cP3wkSBXFnO"
      },
      "source": [
        "# Create plotting function\n",
        "def plot_predictions(train_data,train_labels,test_data,test_labels,predictions):\n",
        "  # The doc string \n",
        "  \"\"\"\n",
        "  Plots the training data and the ground truth vs the prediction\n",
        "  \"\"\"\n",
        "  # Ctrl + Shift + space - will show the docstring in colab jupyter notebooks \n",
        "  plt.figure(figsize=(15,10))\n",
        "  # Plot the training data in blue \n",
        "  plt.scatter(train_data,train_labels,c='b',label='Training Data')\n",
        "  # Plot the test data in green\n",
        "  plt.scatter(test_data,test_labels,c='g',label=\"Test data\")\n",
        "  # Plot the predictions in red \n",
        "  plt.scatter(test_data,predictions,c='r', label=\"Predictions\")\n",
        "  # Show legend\n",
        "  plt.legend()"
      ],
      "execution_count": 184,
      "outputs": []
    },
    {
      "cell_type": "code",
      "metadata": {
        "id": "2Kbq-JRA1xKx"
      },
      "source": [
        "def my_models_init():\n",
        "  global all_results\n",
        "  all_results = pd.DataFrame(columns=['name','mae','mse','layers','params','epochs'])\n",
        "  all_results['mae'] = all_results['mae'].map('{:,.2f}'.format) \n",
        "  all_results['mse'] = all_results['mse'].map('{:,.2f}'.format)\n",
        "  all_results['layers'] = all_results['layers'].map('{:,.0f}'.format) \n",
        "  all_results['params'] = all_results['params'].map('{:,.0f}'.format) \n",
        "  all_results['epochs'] = all_results['epochs'].map('{:,.0f}'.format) \n",
        "   "
      ],
      "execution_count": 185,
      "outputs": []
    },
    {
      "cell_type": "code",
      "metadata": {
        "id": "8-ONOud11hWg"
      },
      "source": [
        "def my_model_add(vals):\n",
        "  global all_results\n",
        "  df = pd.DataFrame(vals,columns=['name','mae','mse','layers','params','epochs'])\n",
        "  df['mae'] = df['mae'].map('{:,.2f}'.format) \n",
        "  df['mse'] = df['mse'].map('{:,.2f}'.format)\n",
        "  df['layers'] = df['layers'].map('{:,.0f}'.format) \n",
        "  df['params'] = df['params'].map('{:,.0f}'.format) \n",
        "  df['epochs'] = df['epochs'].map('{:,.0f}'.format) \n",
        "  all_results = all_results.append(df,ignore_index = True)\n",
        "  #print(df)\n",
        "  #print(all_results)\n"
      ],
      "execution_count": 186,
      "outputs": []
    },
    {
      "cell_type": "code",
      "metadata": {
        "id": "moYgktkd8qdt"
      },
      "source": [
        "def my_model_info(model, fitted, mae, mse):\n",
        "  stringlist = []\n",
        "  model.summary(print_fn=lambda x: stringlist.append(x))\n",
        "  summ_string = \"\\n\".join(stringlist)\n",
        "  #print(summ_string) # entire summary in a variable\n",
        "\n",
        "  table = stringlist[1:-4][1::2] # take every other element and remove appendix\n",
        "\n",
        "  new_table = []\n",
        "  for entry in table:\n",
        "    entry = re.split(r'\\s{2,}', entry)[:-1] # remove whitespace\n",
        "    new_table.append(entry)\n",
        "  df = pd.DataFrame(new_table[1:], columns=new_table[0])\n",
        "  #print(df.head())\n",
        "  layers = len(df.index)\n",
        "  params = sum(df['Param #'].astype(int))\n",
        "  n_epochs = len(fitted.history['loss'])\n",
        "  model_results=[[model.name,mae,mse,layers,params,n_epochs]]\n",
        "  my_model_add(model_results)\n",
        "  \n"
      ],
      "execution_count": 187,
      "outputs": []
    },
    {
      "cell_type": "code",
      "metadata": {
        "id": "-ab2JNyaaIZ-",
        "colab": {
          "base_uri": "https://localhost:8080/"
        },
        "outputId": "55900006-1358-44ff-8b2c-4a934ee5c245"
      },
      "source": [
        "# Init all \n",
        "my_setup()\n",
        "my_modules()\n",
        "my_models_init()"
      ],
      "execution_count": 188,
      "outputs": [
        {
          "output_type": "stream",
          "name": "stdout",
          "text": [
            "tf = 2.6.0 | np = 1.19.5 | tfp = 0.14.1 | pd =  1.1.5\n"
          ]
        }
      ]
    },
    {
      "cell_type": "code",
      "metadata": {
        "colab": {
          "base_uri": "https://localhost:8080/"
        },
        "id": "mWnCostemzRx",
        "outputId": "8292c413-a288-442f-963e-fd886cc75341"
      },
      "source": [
        "# Generate the dataset \n",
        "# X_train, y_train, X_test, y_test \n",
        "# Using tf.range\n",
        "\n",
        "X = tf.range(start=1.0, limit=3000, delta=2)\n",
        "y = tf.range(start=100.0, limit=3100, delta=2)\n",
        "# y= X + 100\n",
        "X.shape, y.shape\n"
      ],
      "execution_count": 189,
      "outputs": [
        {
          "output_type": "execute_result",
          "data": {
            "text/plain": [
              "(TensorShape([1500]), TensorShape([1500]))"
            ]
          },
          "metadata": {},
          "execution_count": 189
        }
      ]
    },
    {
      "cell_type": "code",
      "metadata": {
        "id": "BO8GUNJhoBGs"
      },
      "source": [
        "# Now split into training 1000 and test 500 \n",
        "# Preserve the order initially \n",
        "X_train = X[:1000]\n",
        "y_train = y[:1000]\n",
        "X_test = X[1000:]\n",
        "y_test = y[1000:]\n",
        "\n"
      ],
      "execution_count": 190,
      "outputs": []
    },
    {
      "cell_type": "code",
      "metadata": {
        "colab": {
          "base_uri": "https://localhost:8080/",
          "height": 687
        },
        "id": "c7TbjFODEh1F",
        "outputId": "bb64fb31-809a-4d8f-bdbf-6ecb5750c58f"
      },
      "source": [
        "# Show basic stats\n",
        "my_stats(X_train)\n",
        "my_stats(X_test)\n",
        "my_stats(y_train)\n",
        "\n"
      ],
      "execution_count": 191,
      "outputs": [
        {
          "output_type": "stream",
          "name": "stdout",
          "text": [
            "Min =  tf.Tensor(1.0, shape=(), dtype=float32)\n",
            "Q25 =  tf.Tensor(501.0, shape=(), dtype=float32)\n",
            "Q50 =  tf.Tensor(1001.0, shape=(), dtype=float32)\n",
            "Q90 =  tf.Tensor(1799.0, shape=(), dtype=float32)\n",
            "Max=  tf.Tensor(1999.0, shape=(), dtype=float32)\n",
            "Mean =  tf.Tensor(1000.0, shape=(), dtype=float32)\n",
            "Std Dev =  tf.Tensor(577.35, shape=(), dtype=float32)\n",
            "\n",
            "Min =  tf.Tensor(2001.0, shape=(), dtype=float32)\n",
            "Q25 =  tf.Tensor(2251.0, shape=(), dtype=float32)\n",
            "Q50 =  tf.Tensor(2501.0, shape=(), dtype=float32)\n",
            "Q90 =  tf.Tensor(2899.0, shape=(), dtype=float32)\n",
            "Max=  tf.Tensor(2999.0, shape=(), dtype=float32)\n",
            "Mean =  tf.Tensor(2500.0, shape=(), dtype=float32)\n",
            "Std Dev =  tf.Tensor(288.67456, shape=(), dtype=float32)\n",
            "\n",
            "Min =  tf.Tensor(100.0, shape=(), dtype=float32)\n",
            "Q25 =  tf.Tensor(600.0, shape=(), dtype=float32)\n",
            "Q50 =  tf.Tensor(1100.0, shape=(), dtype=float32)\n",
            "Q90 =  tf.Tensor(1898.0, shape=(), dtype=float32)\n",
            "Max=  tf.Tensor(2098.0, shape=(), dtype=float32)\n",
            "Mean =  tf.Tensor(1099.0, shape=(), dtype=float32)\n",
            "Std Dev =  tf.Tensor(577.35, shape=(), dtype=float32)\n",
            "\n"
          ]
        },
        {
          "output_type": "display_data",
          "data": {
            "image/png": "[encoded data removed]",
            "text/plain": [
              "<Figure size 432x288 with 1 Axes>"
            ]
          },
          "metadata": {
            "needs_background": "light"
          }
        }
      ]
    },
    {
      "cell_type": "code",
      "metadata": {
        "colab": {
          "base_uri": "https://localhost:8080/",
          "height": 672
        },
        "id": "bezhkpiM8YVv",
        "outputId": "7f1580e5-4166-4dd8-b2d0-a27c7782c1ca"
      },
      "source": [
        "# Fit the first model \n",
        "# One layer \n",
        "# With smell/default learning rate it is TERRIBLE !\n",
        "# Create the model\n",
        "model_1 = tf.keras.Sequential()\n",
        "#model.add(tf.keras.layers.Dense(100,activation=\"relu\"))\n",
        "model_1.add(tf.keras.layers.Dense(1))\n",
        "\n",
        "# Compile the model\n",
        "model_1.compile(loss=tf.keras.losses.mae, \n",
        "              optimizer=tf.keras.optimizers.Adam(learning_rate=0.001),\n",
        "              metrics = [\"mae\"])\n",
        "\n",
        "# Fit the model\n",
        "r = model_1.fit(X_train, y_train, epochs = 10, verbose=0)\n",
        "\n",
        "# Predict and plot \n",
        "y_pred = model_1.predict(X_test)\n",
        "\n",
        "# Summary \n",
        "# Show basic stats\n",
        "#my_stats2(X_train)\n",
        "#my_stats2(X_test)\n",
        "#my_stats2(y_train)\n",
        "#my_stats2(y_test)\n",
        "#my_stats2(y_pred)\n",
        "# Get mae_mse\n",
        "mae, mse = my_mae_mse(y_test, y_pred)\n",
        "\n",
        "mae, mse\n",
        "# Plot \n",
        "plot_predictions(X_train, y_train, X_test, y_test, y_pred)\n",
        "\n",
        "# Update central table \n",
        "my_model_info(model_1,r,mae, mse)\n",
        "all_results\n"
      ],
      "execution_count": 192,
      "outputs": [
        {
          "output_type": "stream",
          "name": "stdout",
          "text": [
            "mae =  377.09 | mse =  143231.48\n"
          ]
        },
        {
          "output_type": "execute_result",
          "data": {
            "text/html": [
              "<div>\n",
              "<style scoped>\n",
              "    .dataframe tbody tr th:only-of-type {\n",
              "        vertical-align: middle;\n",
              "    }\n",
              "\n",
              "    .dataframe tbody tr th {\n",
              "        vertical-align: top;\n",
              "    }\n",
              "\n",
              "    .dataframe thead th {\n",
              "        text-align: right;\n",
              "    }\n",
              "</style>\n",
              "<table border=\"1\" class=\"dataframe\">\n",
              "  <thead>\n",
              "    <tr style=\"text-align: right;\">\n",
              "      <th></th>\n",
              "      <th>name</th>\n",
              "      <th>mae</th>\n",
              "      <th>mse</th>\n",
              "      <th>layers</th>\n",
              "      <th>params</th>\n",
              "      <th>epochs</th>\n",
              "    </tr>\n",
              "  </thead>\n",
              "  <tbody>\n",
              "    <tr>\n",
              "      <th>0</th>\n",
              "      <td>sequential_19</td>\n",
              "      <td>377.09</td>\n",
              "      <td>143,231.48</td>\n",
              "      <td>1</td>\n",
              "      <td>2</td>\n",
              "      <td>10</td>\n",
              "    </tr>\n",
              "  </tbody>\n",
              "</table>\n",
              "</div>"
            ],
            "text/plain": [
              "            name     mae         mse layers params epochs\n",
              "0  sequential_19  377.09  143,231.48      1      2     10"
            ]
          },
          "metadata": {},
          "execution_count": 192
        },
        {
          "output_type": "display_data",
          "data": {
            "image/png": "[encoded data removed]",
            "text/plain": [
              "<Figure size 1080x720 with 1 Axes>"
            ]
          },
          "metadata": {
            "needs_background": "light"
          }
        }
      ]
    },
    {
      "cell_type": "code",
      "metadata": {
        "colab": {
          "base_uri": "https://localhost:8080/",
          "height": 703
        },
        "id": "CxpxHZZOLuKy",
        "outputId": "13413618-ea95-40ee-ec68-e2f77af6d2a0"
      },
      "source": [
        "# Fit the second model \n",
        "# One layer \n",
        "# With large learning rate it is much better \n",
        "# Create the model\n",
        "model_2 = tf.keras.Sequential()\n",
        "#model.add(tf.keras.layers.Dense(100,activation=\"relu\"))\n",
        "model_2.add(tf.keras.layers.Dense(1))\n",
        "\n",
        "# Compile the model\n",
        "model_2.compile(loss=tf.keras.losses.mae, \n",
        "              optimizer=tf.keras.optimizers.Adam(learning_rate=0.01),\n",
        "              metrics = [\"mae\"])\n",
        "\n",
        "# Fit the model\n",
        "r = model_2.fit(X_train, y_train, epochs = 10, verbose=0)\n",
        "\n",
        "# Predict and plot \n",
        "y_pred = model_2.predict(X_test)\n",
        "\n",
        "# Get mae_mse\n",
        "mae, mse = my_mae_mse(y_test, y_pred)\n",
        "\n",
        "mae, mse\n",
        "# Plot \n",
        "plot_predictions(X_train, y_train, X_test, y_test, y_pred)\n",
        "\n",
        "# Update central table \n",
        "my_model_info(model_2,r,mae, mse)\n",
        "all_results\n",
        "\n",
        "\n"
      ],
      "execution_count": 193,
      "outputs": [
        {
          "output_type": "stream",
          "name": "stdout",
          "text": [
            "mae =  81.65 | mse =  7090.43\n"
          ]
        },
        {
          "output_type": "execute_result",
          "data": {
            "text/html": [
              "<div>\n",
              "<style scoped>\n",
              "    .dataframe tbody tr th:only-of-type {\n",
              "        vertical-align: middle;\n",
              "    }\n",
              "\n",
              "    .dataframe tbody tr th {\n",
              "        vertical-align: top;\n",
              "    }\n",
              "\n",
              "    .dataframe thead th {\n",
              "        text-align: right;\n",
              "    }\n",
              "</style>\n",
              "<table border=\"1\" class=\"dataframe\">\n",
              "  <thead>\n",
              "    <tr style=\"text-align: right;\">\n",
              "      <th></th>\n",
              "      <th>name</th>\n",
              "      <th>mae</th>\n",
              "      <th>mse</th>\n",
              "      <th>layers</th>\n",
              "      <th>params</th>\n",
              "      <th>epochs</th>\n",
              "    </tr>\n",
              "  </thead>\n",
              "  <tbody>\n",
              "    <tr>\n",
              "      <th>0</th>\n",
              "      <td>sequential_19</td>\n",
              "      <td>377.09</td>\n",
              "      <td>143,231.48</td>\n",
              "      <td>1</td>\n",
              "      <td>2</td>\n",
              "      <td>10</td>\n",
              "    </tr>\n",
              "    <tr>\n",
              "      <th>1</th>\n",
              "      <td>sequential_20</td>\n",
              "      <td>81.65</td>\n",
              "      <td>7,090.43</td>\n",
              "      <td>1</td>\n",
              "      <td>2</td>\n",
              "      <td>10</td>\n",
              "    </tr>\n",
              "  </tbody>\n",
              "</table>\n",
              "</div>"
            ],
            "text/plain": [
              "            name     mae         mse layers params epochs\n",
              "0  sequential_19  377.09  143,231.48      1      2     10\n",
              "1  sequential_20   81.65    7,090.43      1      2     10"
            ]
          },
          "metadata": {},
          "execution_count": 193
        },
        {
          "output_type": "display_data",
          "data": {
            "image/png": "[encoded data removed]",
            "text/plain": [
              "<Figure size 1080x720 with 1 Axes>"
            ]
          },
          "metadata": {
            "needs_background": "light"
          }
        }
      ]
    },
    {
      "cell_type": "code",
      "metadata": {
        "colab": {
          "base_uri": "https://localhost:8080/",
          "height": 734
        },
        "id": "4Xl3S5c2MHvy",
        "outputId": "864eaa74-b4d0-46ca-efb8-fada5587581c"
      },
      "source": [
        "# Fit the third model \n",
        "# One layer \n",
        "# With large learning rate it is much better \n",
        "# Create the model\n",
        "model_3 = tf.keras.Sequential()\n",
        "#model_3.add(tf.keras.layers.Dense(100,activation=\"relu\"))\n",
        "model_3.add(tf.keras.layers.Dense(1))\n",
        "\n",
        "# Compile the model\n",
        "model_3.compile(loss=tf.keras.losses.mae, \n",
        "              optimizer=tf.keras.optimizers.Adam(learning_rate=100.0),\n",
        "              metrics = [\"mae\"])\n",
        "\n",
        "#Fit the model\n",
        "r = model_3.fit(X_train, y_train, epochs = 10, verbose=0)\n",
        "\n",
        "# Predict and plot \n",
        "y_pred = model_3.predict(X_test)\n",
        "\n",
        "# Get mae_mse\n",
        "mae, mse = my_mae_mse(y_test, y_pred)\n",
        "\n",
        "mae, mse\n",
        "# Plot \n",
        "plot_predictions(X_train, y_train, X_test, y_test, y_pred)\n",
        "\n",
        "# Update central table \n",
        "my_model_info(model_3,r,mae, mse)\n",
        "all_results\n",
        "\n"
      ],
      "execution_count": 194,
      "outputs": [
        {
          "output_type": "stream",
          "name": "stdout",
          "text": [
            "mae =  14945.9 | mse =  226374270.0\n"
          ]
        },
        {
          "output_type": "execute_result",
          "data": {
            "text/html": [
              "<div>\n",
              "<style scoped>\n",
              "    .dataframe tbody tr th:only-of-type {\n",
              "        vertical-align: middle;\n",
              "    }\n",
              "\n",
              "    .dataframe tbody tr th {\n",
              "        vertical-align: top;\n",
              "    }\n",
              "\n",
              "    .dataframe thead th {\n",
              "        text-align: right;\n",
              "    }\n",
              "</style>\n",
              "<table border=\"1\" class=\"dataframe\">\n",
              "  <thead>\n",
              "    <tr style=\"text-align: right;\">\n",
              "      <th></th>\n",
              "      <th>name</th>\n",
              "      <th>mae</th>\n",
              "      <th>mse</th>\n",
              "      <th>layers</th>\n",
              "      <th>params</th>\n",
              "      <th>epochs</th>\n",
              "    </tr>\n",
              "  </thead>\n",
              "  <tbody>\n",
              "    <tr>\n",
              "      <th>0</th>\n",
              "      <td>sequential_19</td>\n",
              "      <td>377.09</td>\n",
              "      <td>143,231.48</td>\n",
              "      <td>1</td>\n",
              "      <td>2</td>\n",
              "      <td>10</td>\n",
              "    </tr>\n",
              "    <tr>\n",
              "      <th>1</th>\n",
              "      <td>sequential_20</td>\n",
              "      <td>81.65</td>\n",
              "      <td>7,090.43</td>\n",
              "      <td>1</td>\n",
              "      <td>2</td>\n",
              "      <td>10</td>\n",
              "    </tr>\n",
              "    <tr>\n",
              "      <th>2</th>\n",
              "      <td>sequential_21</td>\n",
              "      <td>14,945.90</td>\n",
              "      <td>226,374,272.00</td>\n",
              "      <td>1</td>\n",
              "      <td>2</td>\n",
              "      <td>10</td>\n",
              "    </tr>\n",
              "  </tbody>\n",
              "</table>\n",
              "</div>"
            ],
            "text/plain": [
              "            name        mae             mse layers params epochs\n",
              "0  sequential_19     377.09      143,231.48      1      2     10\n",
              "1  sequential_20      81.65        7,090.43      1      2     10\n",
              "2  sequential_21  14,945.90  226,374,272.00      1      2     10"
            ]
          },
          "metadata": {},
          "execution_count": 194
        },
        {
          "output_type": "display_data",
          "data": {
            "image/png": "[encoded data removed]",
            "text/plain": [
              "<Figure size 1080x720 with 1 Axes>"
            ]
          },
          "metadata": {
            "needs_background": "light"
          }
        }
      ]
    },
    {
      "cell_type": "code",
      "metadata": {
        "colab": {
          "base_uri": "https://localhost:8080/",
          "height": 627
        },
        "id": "KnJg2mwLM0Ci",
        "outputId": "52bf80cf-8ab2-4bbe-8b7a-2406aa7165e7"
      },
      "source": [
        "# Fit the fourth model \n",
        "# One layer \n",
        "# With large learning rate it is much better \n",
        "# Create the model\n",
        "model_4 = tf.keras.Sequential()\n",
        "#model_4.add(tf.keras.layers.Dense(100,activation=\"relu\"))\n",
        "model_4.add(tf.keras.layers.Dense(1))\n",
        "\n",
        "# Compile the model\n",
        "model_4.compile(loss=tf.keras.losses.mae, \n",
        "              optimizer=tf.keras.optimizers.Adam(learning_rate=0.01),\n",
        "              metrics = [\"mae\"])\n",
        "\n",
        "#Fit the model\n",
        "r = model_4.fit(X_train, y_train, epochs = 300, verbose=0)\n",
        "\n",
        "# Predict and plot \n",
        "y_pred = model_4.predict(X_test)\n",
        "\n",
        "# Get mae_mse\n",
        "mae, mse = my_mae_mse(y_test, y_pred)\n",
        "\n",
        "mae, mse\n",
        "# Plot \n",
        "plot_predictions(X_train, y_train, X_test, y_test, y_pred)\n",
        "\n",
        "# Update central table \n",
        "my_model_info(model_4,r,mae, mse)\n",
        "all_results\n",
        "\n",
        "\n",
        "# Model Summry\n",
        "model_4.summary\n",
        "\n"
      ],
      "execution_count": 195,
      "outputs": [
        {
          "output_type": "stream",
          "name": "stdout",
          "text": [
            "mae =  9.35 | mse =  95.78\n"
          ]
        },
        {
          "output_type": "execute_result",
          "data": {
            "text/plain": [
              "<bound method Model.summary of <keras.engine.sequential.Sequential object at 0x7f6018190b10>>"
            ]
          },
          "metadata": {},
          "execution_count": 195
        },
        {
          "output_type": "display_data",
          "data": {
            "image/png": "[encoded data removed]",
            "text/plain": [
              "<Figure size 1080x720 with 1 Axes>"
            ]
          },
          "metadata": {
            "needs_background": "light"
          }
        }
      ]
    },
    {
      "cell_type": "code",
      "metadata": {
        "colab": {
          "base_uri": "https://localhost:8080/",
          "height": 1000
        },
        "id": "AB3bFqy-4hwQ",
        "outputId": "5d885510-7efc-4e5c-dd25-4ac439f037c0"
      },
      "source": [
        "# Do another model, add input_shape and show model details _before_ fitting \n",
        "\n",
        "# Create the nodel \n",
        "model_5 = tf.keras.Sequential(name=\"model_5\")\n",
        "model_5.add(tf.keras.layers.Dense(1, input_shape=[1], name='Input_Layer'))\n",
        "model_5.add(tf.keras.layers.Dense(100, activation=\"relu\", name=\"Hidden_Layer\"))\n",
        "#model_5.add(tf.keras.layers.Dense(3, input_shape=[1]))\n",
        "model_5.add(tf.keras.layers.Dense(1, name=\"Output_Layer\"))\n",
        "\n",
        "# Compile the model \n",
        "model_5.compile(loss=tf.keras.losses.mae,\n",
        "              optimizer=tf.keras.optimizers.Adam(learning_rate=0.01),\n",
        "              metrics=tf.keras.metrics.mae)\n",
        "\n",
        "# Get the model summary \n",
        "model_5.summary()\n",
        "\n",
        "# Why are there 303 instead of 300 parameters ?\n",
        "# Becuase of the 3 in the output layer \n",
        "pm(model=model_5,show_shapes=True)\n",
        "\n",
        "#Fit the model\n",
        "r = model_5.fit(X_train, y_train, epochs = 300, verbose=0)\n",
        "\n",
        "# Predict and plot \n",
        "y_pred = model_5.predict(X_test)\n",
        "\n",
        "# Get mae_mse\n",
        "mae, mse = my_mae_mse(y_test, y_pred)\n",
        "\n",
        "mae, mse\n",
        "# Plot \n",
        "plot_predictions(X_train, y_train, X_test, y_test, y_pred)\n",
        "\n",
        "# Update central table \n",
        "my_model_info(model_5,r,mae, mse)\n",
        "all_results\n",
        "\n",
        "\n"
      ],
      "execution_count": 196,
      "outputs": [
        {
          "output_type": "stream",
          "name": "stdout",
          "text": [
            "Model: \"model_5\"\n",
            "_________________________________________________________________\n",
            "Layer (type)                 Output Shape              Param #   \n",
            "=================================================================\n",
            "Input_Layer (Dense)          (None, 1)                 2         \n",
            "_________________________________________________________________\n",
            "Hidden_Layer (Dense)         (None, 100)               200       \n",
            "_________________________________________________________________\n",
            "Output_Layer (Dense)         (None, 1)                 101       \n",
            "=================================================================\n",
            "Total params: 303\n",
            "Trainable params: 303\n",
            "Non-trainable params: 0\n",
            "_________________________________________________________________\n",
            "mae =  47.42 | mse =  2275.13\n"
          ]
        },
        {
          "output_type": "execute_result",
          "data": {
            "text/html": [
              "<div>\n",
              "<style scoped>\n",
              "    .dataframe tbody tr th:only-of-type {\n",
              "        vertical-align: middle;\n",
              "    }\n",
              "\n",
              "    .dataframe tbody tr th {\n",
              "        vertical-align: top;\n",
              "    }\n",
              "\n",
              "    .dataframe thead th {\n",
              "        text-align: right;\n",
              "    }\n",
              "</style>\n",
              "<table border=\"1\" class=\"dataframe\">\n",
              "  <thead>\n",
              "    <tr style=\"text-align: right;\">\n",
              "      <th></th>\n",
              "      <th>name</th>\n",
              "      <th>mae</th>\n",
              "      <th>mse</th>\n",
              "      <th>layers</th>\n",
              "      <th>params</th>\n",
              "      <th>epochs</th>\n",
              "    </tr>\n",
              "  </thead>\n",
              "  <tbody>\n",
              "    <tr>\n",
              "      <th>0</th>\n",
              "      <td>sequential_19</td>\n",
              "      <td>377.09</td>\n",
              "      <td>143,231.48</td>\n",
              "      <td>1</td>\n",
              "      <td>2</td>\n",
              "      <td>10</td>\n",
              "    </tr>\n",
              "    <tr>\n",
              "      <th>1</th>\n",
              "      <td>sequential_20</td>\n",
              "      <td>81.65</td>\n",
              "      <td>7,090.43</td>\n",
              "      <td>1</td>\n",
              "      <td>2</td>\n",
              "      <td>10</td>\n",
              "    </tr>\n",
              "    <tr>\n",
              "      <th>2</th>\n",
              "      <td>sequential_21</td>\n",
              "      <td>14,945.90</td>\n",
              "      <td>226,374,272.00</td>\n",
              "      <td>1</td>\n",
              "      <td>2</td>\n",
              "      <td>10</td>\n",
              "    </tr>\n",
              "    <tr>\n",
              "      <th>3</th>\n",
              "      <td>sequential_22</td>\n",
              "      <td>9.35</td>\n",
              "      <td>95.78</td>\n",
              "      <td>1</td>\n",
              "      <td>2</td>\n",
              "      <td>300</td>\n",
              "    </tr>\n",
              "    <tr>\n",
              "      <th>4</th>\n",
              "      <td>model_5</td>\n",
              "      <td>47.42</td>\n",
              "      <td>2,275.13</td>\n",
              "      <td>3</td>\n",
              "      <td>303</td>\n",
              "      <td>300</td>\n",
              "    </tr>\n",
              "  </tbody>\n",
              "</table>\n",
              "</div>"
            ],
            "text/plain": [
              "            name        mae             mse layers params epochs\n",
              "0  sequential_19     377.09      143,231.48      1      2     10\n",
              "1  sequential_20      81.65        7,090.43      1      2     10\n",
              "2  sequential_21  14,945.90  226,374,272.00      1      2     10\n",
              "3  sequential_22       9.35           95.78      1      2    300\n",
              "4        model_5      47.42        2,275.13      3    303    300"
            ]
          },
          "metadata": {},
          "execution_count": 196
        },
        {
          "output_type": "display_data",
          "data": {
            "image/png": "[encoded data removed]",
            "text/plain": [
              "<Figure size 1080x720 with 1 Axes>"
            ]
          },
          "metadata": {
            "needs_background": "light"
          }
        }
      ]
    },
    {
      "cell_type": "code",
      "metadata": {
        "id": "KbUiWEJwkff5"
      },
      "source": [
        "# Put this into a function \n",
        "# Name everything - model and the layers as well \n",
        "# Make 2 pandas data frames\n",
        "# One with a model summary \n",
        "# One with the model details for each model \n",
        "# Soooo Cool \n",
        "\n"
      ],
      "execution_count": 197,
      "outputs": []
    }
  ]
}