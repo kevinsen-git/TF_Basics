{
  "nbformat": 4,
  "nbformat_minor": 0,
  "metadata": {
    "colab": {
      "name": "00_Intro_to_TF.ipynb",
      "provenance": [],
      "authorship_tag": "ABX9TyPpJ1XItUx7QRQvPhpo2CJJ",
      "include_colab_link": true
    },
    "kernelspec": {
      "name": "python3",
      "display_name": "Python 3"
    },
    "language_info": {
      "name": "python"
    }
  },
  "cells": [
    {
      "cell_type": "markdown",
      "metadata": {
        "id": "view-in-github",
        "colab_type": "text"
      },
      "source": [
        "<a href=\"https://colab.research.google.com/github/kevinsen-git/TF_Basics/blob/main/00_Intro_to_TF.ipynb\" target=\"_parent\"><img src=\"https://colab.research.google.com/assets/colab-badge.svg\" alt=\"Open In Colab\"/></a>"
      ]
    },
    {
      "cell_type": "markdown",
      "metadata": {
        "id": "zuiYy9n8LMxo"
      },
      "source": [
        "# Demonstrate some basics in Tensor Flow\n",
        "* Introduction to Tensors\n",
        "* Getting information from Tensors\n",
        "* Manipulating Tensors\n",
        "* Tensors and NumPy\n",
        "* Using @tf.function (a way to speed up regular pyton function)\n",
        "* Using GPUs (or TPUs) with Tensor Flow\n",
        "* A few excercises to try yourself \n",
        "\n"
      ]
    },
    {
      "cell_type": "markdown",
      "metadata": {
        "id": "D1oVybXk60iS"
      },
      "source": [
        "## Introduction to Tensors "
      ]
    },
    {
      "cell_type": "code",
      "metadata": {
        "colab": {
          "base_uri": "https://localhost:8080/"
        },
        "id": "9hmENztq7fuv",
        "outputId": "4ceefd3e-b28a-478f-e7d6-c207bb81702f"
      },
      "source": [
        "# Import Tensorflow\n",
        "import tensorflow as tf\n",
        "print(tf.__version__)"
      ],
      "execution_count": 1,
      "outputs": [
        {
          "output_type": "stream",
          "name": "stdout",
          "text": [
            "2.6.0\n"
          ]
        }
      ]
    },
    {
      "cell_type": "code",
      "metadata": {
        "colab": {
          "base_uri": "https://localhost:8080/"
        },
        "id": "tU27L8ww7e20",
        "outputId": "b1b9b5f8-d1a7-466f-ab14-a96464c78f56"
      },
      "source": [
        "# Create tensor with tf.constant()\n",
        "scalar = tf.constant(7)\n",
        "scalar"
      ],
      "execution_count": null,
      "outputs": [
        {
          "output_type": "execute_result",
          "data": {
            "text/plain": [
              "<tf.Tensor: shape=(), dtype=int32, numpy=70>"
            ]
          },
          "metadata": {},
          "execution_count": 5
        }
      ]
    },
    {
      "cell_type": "code",
      "metadata": {
        "colab": {
          "base_uri": "https://localhost:8080/"
        },
        "id": "SygpmplK_YjH",
        "outputId": "b1ad9c8c-3eb8-4e9d-edd5-7ac6ec3870c2"
      },
      "source": [
        "#Check the number of dimesions of a tensor\n",
        "scalar.ndim\n"
      ],
      "execution_count": null,
      "outputs": [
        {
          "output_type": "execute_result",
          "data": {
            "text/plain": [
              "0"
            ]
          },
          "metadata": {},
          "execution_count": 6
        }
      ]
    },
    {
      "cell_type": "code",
      "metadata": {
        "colab": {
          "base_uri": "https://localhost:8080/"
        },
        "id": "XM7a85Vl_vI2",
        "outputId": "b3f78325-0987-4025-e5ad-bf5aba25f2ef"
      },
      "source": [
        "#Create a vector \n",
        "vector = tf.constant([10,10])\n",
        "vector "
      ],
      "execution_count": null,
      "outputs": [
        {
          "output_type": "execute_result",
          "data": {
            "text/plain": [
              "<tf.Tensor: shape=(2,), dtype=int32, numpy=array([10, 10], dtype=int32)>"
            ]
          },
          "metadata": {},
          "execution_count": 8
        }
      ]
    },
    {
      "cell_type": "code",
      "metadata": {
        "colab": {
          "base_uri": "https://localhost:8080/"
        },
        "id": "d07gZ1E5APEO",
        "outputId": "cca7f953-ca36-4a1e-b90b-ff2badeb3cbb"
      },
      "source": [
        "#Check dimensions of vector\n",
        "vector.ndim"
      ],
      "execution_count": null,
      "outputs": [
        {
          "output_type": "execute_result",
          "data": {
            "text/plain": [
              "1"
            ]
          },
          "metadata": {},
          "execution_count": 9
        }
      ]
    },
    {
      "cell_type": "code",
      "metadata": {
        "colab": {
          "base_uri": "https://localhost:8080/"
        },
        "id": "nteww-PSAw0W",
        "outputId": "0393251a-d1f2-477d-a7f0-802f0fdb5539"
      },
      "source": [
        "#Create a matrix\n",
        "matrix = tf.constant([[10,7],[7,10]])\n",
        "matrix\n"
      ],
      "execution_count": null,
      "outputs": [
        {
          "output_type": "execute_result",
          "data": {
            "text/plain": [
              "<tf.Tensor: shape=(2, 2), dtype=int32, numpy=\n",
              "array([[10,  7],\n",
              "       [ 7, 10]], dtype=int32)>"
            ]
          },
          "metadata": {},
          "execution_count": 12
        }
      ]
    },
    {
      "cell_type": "code",
      "metadata": {
        "colab": {
          "base_uri": "https://localhost:8080/"
        },
        "id": "IRKTUl7hBA2H",
        "outputId": "61679e9e-681c-415c-ef6a-ea260d85efd5"
      },
      "source": [
        "#Check dimensions of matrix\n",
        "matrix.ndim"
      ],
      "execution_count": null,
      "outputs": [
        {
          "output_type": "execute_result",
          "data": {
            "text/plain": [
              "2"
            ]
          },
          "metadata": {},
          "execution_count": 11
        }
      ]
    },
    {
      "cell_type": "code",
      "metadata": {
        "colab": {
          "base_uri": "https://localhost:8080/"
        },
        "id": "jF7qOu-KCdtR",
        "outputId": "b72dd59e-3c0f-419c-8545-d833d73d5e71"
      },
      "source": [
        "#create a 3d tensor \n",
        "tensor_3 = tf.constant([\n",
        "                       [\n",
        "                        [111,112,113],[121,122,123],\n",
        "                        [211,212,213],[221,222,223]\n",
        "                       ],\n",
        "                       [\n",
        "                        [111,112,113],[121,122,123],\n",
        "                        [211,212,213],[221,222,223]\n",
        "                       ]\n",
        "                       ],dtype=tf.float32)\n",
        "tensor_3.ndim"
      ],
      "execution_count": null,
      "outputs": [
        {
          "output_type": "execute_result",
          "data": {
            "text/plain": [
              "3"
            ]
          },
          "metadata": {},
          "execution_count": 15
        }
      ]
    },
    {
      "cell_type": "code",
      "metadata": {
        "colab": {
          "base_uri": "https://localhost:8080/"
        },
        "id": "BIjTGuKpEYwT",
        "outputId": "ca3e2b6a-534e-4fa7-8fb4-8b5f4d7455a9"
      },
      "source": [
        "tensor_3"
      ],
      "execution_count": null,
      "outputs": [
        {
          "output_type": "execute_result",
          "data": {
            "text/plain": [
              "<tf.Tensor: shape=(2, 4, 3), dtype=float32, numpy=\n",
              "array([[[111., 112., 113.],\n",
              "        [121., 122., 123.],\n",
              "        [211., 212., 213.],\n",
              "        [221., 222., 223.]],\n",
              "\n",
              "       [[111., 112., 113.],\n",
              "        [121., 122., 123.],\n",
              "        [211., 212., 213.],\n",
              "        [221., 222., 223.]]], dtype=float32)>"
            ]
          },
          "metadata": {},
          "execution_count": 14
        }
      ]
    },
    {
      "cell_type": "code",
      "metadata": {
        "colab": {
          "base_uri": "https://localhost:8080/"
        },
        "id": "we6rbv68Fv3f",
        "collapsed": true,
        "outputId": "11d32b34-7b4b-4c00-d6b9-b93f44330105"
      },
      "source": [
        "#create a 3d tensor \n",
        "tensor_3 = tf.constant([\n",
        "                       [\n",
        "                        [111,112,113],[121,122,123],\n",
        "                        [211,212,213],[221,222,223]\n",
        "                       ],\n",
        "                       [\n",
        "                        [111,112,113],[121,122,123],\n",
        "                        [211,212,213],[221,222,223]\n",
        "                       ],\n",
        "                       [\n",
        "                        [111,112,113],[121,122,123],\n",
        "                        [211,212,213],[221,222,223]\n",
        "                       ]                        \n",
        "                       ],dtype=tf.float32)\n",
        "tensor_3"
      ],
      "execution_count": null,
      "outputs": [
        {
          "output_type": "execute_result",
          "data": {
            "text/plain": [
              "<tf.Tensor: shape=(3, 4, 3), dtype=float32, numpy=\n",
              "array([[[111., 112., 113.],\n",
              "        [121., 122., 123.],\n",
              "        [211., 212., 213.],\n",
              "        [221., 222., 223.]],\n",
              "\n",
              "       [[111., 112., 113.],\n",
              "        [121., 122., 123.],\n",
              "        [211., 212., 213.],\n",
              "        [221., 222., 223.]],\n",
              "\n",
              "       [[111., 112., 113.],\n",
              "        [121., 122., 123.],\n",
              "        [211., 212., 213.],\n",
              "        [221., 222., 223.]]], dtype=float32)>"
            ]
          },
          "metadata": {},
          "execution_count": 21
        }
      ]
    },
    {
      "cell_type": "code",
      "metadata": {
        "colab": {
          "base_uri": "https://localhost:8080/"
        },
        "id": "wKwlDYq7I6kw",
        "collapsed": true,
        "outputId": "b43be9db-d6f3-4b75-928a-50200601315a"
      },
      "source": [
        "# Create a 4d tensor \n",
        "tensor_4 = tf.constant(\n",
        "                       [ \n",
        "                       [\n",
        "                       [[1,2,3],[4,5,6]],\n",
        "                       [[1,2,3],[4,5,6]]\n",
        "                       ,\n",
        "                       [[1,2,3],[4,5,6]],\n",
        "                       [[1,2,3],[4,5,6]]\n",
        "                       ],\n",
        "                       [\n",
        "                       [[1,2,3],[4,5,6]],\n",
        "                       [[1,2,3],[4,5,6]]\n",
        "                       ,\n",
        "                       [[1,2,3],[4,5,6]],\n",
        "                       [[1,2,3],[4,5,6]]\n",
        "                       ]\n",
        "                       ]     \n",
        "                      )\n",
        "tensor_4\n"
      ],
      "execution_count": 3,
      "outputs": [
        {
          "output_type": "execute_result",
          "data": {
            "text/plain": [
              "<tf.Tensor: shape=(2, 4, 2, 3), dtype=int32, numpy=\n",
              "array([[[[1, 2, 3],\n",
              "         [4, 5, 6]],\n",
              "\n",
              "        [[1, 2, 3],\n",
              "         [4, 5, 6]],\n",
              "\n",
              "        [[1, 2, 3],\n",
              "         [4, 5, 6]],\n",
              "\n",
              "        [[1, 2, 3],\n",
              "         [4, 5, 6]]],\n",
              "\n",
              "\n",
              "       [[[1, 2, 3],\n",
              "         [4, 5, 6]],\n",
              "\n",
              "        [[1, 2, 3],\n",
              "         [4, 5, 6]],\n",
              "\n",
              "        [[1, 2, 3],\n",
              "         [4, 5, 6]],\n",
              "\n",
              "        [[1, 2, 3],\n",
              "         [4, 5, 6]]]], dtype=int32)>"
            ]
          },
          "metadata": {},
          "execution_count": 3
        }
      ]
    },
    {
      "cell_type": "code",
      "metadata": {
        "colab": {
          "base_uri": "https://localhost:8080/"
        },
        "id": "ebmw5eT13zNI",
        "outputId": "fb3d3400-17f0-4486-a225-f27850d042f0"
      },
      "source": [
        "# Create a 0,1,2,3,4,5 dimensioanl tensors\n",
        "tensor_0 = tf.constant(0)\n",
        "tensor_1 = tf.constant([0])\n",
        "tensor_2 = tf.constant([[0]])\n",
        "tensor_3 = tf.constant([[[0]]])\n",
        "tensor_4 = tf.constant([[[[0]]]])\n",
        "tensor_5 = tf.constant([[[[[0]]]]])\n",
        "\n",
        "\n",
        "tensor_0,tensor_1,tensor_2,tensor_3,tensor_4,tensor_5 "
      ],
      "execution_count": 11,
      "outputs": [
        {
          "output_type": "execute_result",
          "data": {
            "text/plain": [
              "(<tf.Tensor: shape=(), dtype=int32, numpy=0>,\n",
              " <tf.Tensor: shape=(1,), dtype=int32, numpy=array([0], dtype=int32)>,\n",
              " <tf.Tensor: shape=(1, 1), dtype=int32, numpy=array([[0]], dtype=int32)>,\n",
              " <tf.Tensor: shape=(1, 1, 1), dtype=int32, numpy=array([[[0]]], dtype=int32)>,\n",
              " <tf.Tensor: shape=(1, 1, 1, 1), dtype=int32, numpy=array([[[[0]]]], dtype=int32)>,\n",
              " <tf.Tensor: shape=(1, 1, 1, 1, 1), dtype=int32, numpy=array([[[[[0]]]]], dtype=int32)>)"
            ]
          },
          "metadata": {},
          "execution_count": 11
        }
      ]
    },
    {
      "cell_type": "markdown",
      "metadata": {
        "id": "sPEwzgnrNg6e"
      },
      "source": [
        "### Creating tensors with tf.variable\n",
        "\n",
        "New notation Variables 1st letter caps, constants first letter lower case \n",
        "tf.constant, tf.Variable \n"
      ]
    },
    {
      "cell_type": "code",
      "metadata": {
        "id": "dMm6-29z3JTy",
        "colab": {
          "base_uri": "https://localhost:8080/"
        },
        "outputId": "cc6d1822-6de4-4ae0-c534-c0fca0fd48cc"
      },
      "source": [
        "tf.Variable\n"
      ],
      "execution_count": 14,
      "outputs": [
        {
          "output_type": "execute_result",
          "data": {
            "text/plain": [
              "tensorflow.python.ops.variables.Variable"
            ]
          },
          "metadata": {},
          "execution_count": 14
        }
      ]
    }
  ]
}