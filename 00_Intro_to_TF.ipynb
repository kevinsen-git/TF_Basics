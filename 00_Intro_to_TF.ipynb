{
  "nbformat": 4,
  "nbformat_minor": 0,
  "metadata": {
    "colab": {
      "name": "00_Intro_to_TF.ipynb",
      "provenance": [],
      "collapsed_sections": [],
      "authorship_tag": "ABX9TyMnWVT+b9AgYjhrxLBFaYw4",
      "include_colab_link": true
    },
    "kernelspec": {
      "name": "python3",
      "display_name": "Python 3"
    },
    "language_info": {
      "name": "python"
    }
  },
  "cells": [
    {
      "cell_type": "markdown",
      "metadata": {
        "id": "view-in-github",
        "colab_type": "text"
      },
      "source": [
        "<a href=\"https://colab.research.google.com/github/kevinsen-git/TF_Basics/blob/main/00_Intro_to_TF.ipynb\" target=\"_parent\"><img src=\"https://colab.research.google.com/assets/colab-badge.svg\" alt=\"Open In Colab\"/></a>"
      ]
    },
    {
      "cell_type": "markdown",
      "metadata": {
        "id": "zuiYy9n8LMxo"
      },
      "source": [
        "# Demonstrate some basics in Tensor Flow\n",
        "* Introduction to Tensors\n",
        "* Getting information from Tensors\n",
        "* Manipulating Tensors\n",
        "* Tensors and NumPy\n",
        "* Using @tf.function (a way to speed up regular pyton function)\n",
        "* Using GPUs (or TPUs) with Tensor Flow\n",
        "* A few excercises to try yourself \n",
        "\n"
      ]
    },
    {
      "cell_type": "markdown",
      "metadata": {
        "id": "D1oVybXk60iS"
      },
      "source": [
        "## Introduction to Tensors "
      ]
    },
    {
      "cell_type": "code",
      "metadata": {
        "colab": {
          "base_uri": "https://localhost:8080/"
        },
        "id": "9hmENztq7fuv",
        "outputId": "3ae61b0c-641f-438c-a756-98bd8d114d41"
      },
      "source": [
        "# Import Tensorflow\n",
        "import tensorflow as tf\n",
        "print(tf.__version__)"
      ],
      "execution_count": 79,
      "outputs": [
        {
          "output_type": "stream",
          "name": "stdout",
          "text": [
            "2.6.0\n"
          ]
        }
      ]
    },
    {
      "cell_type": "code",
      "metadata": {
        "colab": {
          "base_uri": "https://localhost:8080/"
        },
        "id": "tU27L8ww7e20",
        "outputId": "b1b9b5f8-d1a7-466f-ab14-a96464c78f56"
      },
      "source": [
        "# Create tensor with tf.constant()\n",
        "scalar = tf.constant(7)\n",
        "scalar"
      ],
      "execution_count": null,
      "outputs": [
        {
          "output_type": "execute_result",
          "data": {
            "text/plain": [
              "<tf.Tensor: shape=(), dtype=int32, numpy=70>"
            ]
          },
          "metadata": {},
          "execution_count": 5
        }
      ]
    },
    {
      "cell_type": "code",
      "metadata": {
        "colab": {
          "base_uri": "https://localhost:8080/"
        },
        "id": "SygpmplK_YjH",
        "outputId": "b1ad9c8c-3eb8-4e9d-edd5-7ac6ec3870c2"
      },
      "source": [
        "#Check the number of dimesions of a tensor\n",
        "scalar.ndim\n"
      ],
      "execution_count": null,
      "outputs": [
        {
          "output_type": "execute_result",
          "data": {
            "text/plain": [
              "0"
            ]
          },
          "metadata": {},
          "execution_count": 6
        }
      ]
    },
    {
      "cell_type": "code",
      "metadata": {
        "colab": {
          "base_uri": "https://localhost:8080/"
        },
        "id": "XM7a85Vl_vI2",
        "outputId": "b3f78325-0987-4025-e5ad-bf5aba25f2ef"
      },
      "source": [
        "#Create a vector \n",
        "vector = tf.constant([10,10])\n",
        "vector "
      ],
      "execution_count": null,
      "outputs": [
        {
          "output_type": "execute_result",
          "data": {
            "text/plain": [
              "<tf.Tensor: shape=(2,), dtype=int32, numpy=array([10, 10], dtype=int32)>"
            ]
          },
          "metadata": {},
          "execution_count": 8
        }
      ]
    },
    {
      "cell_type": "code",
      "metadata": {
        "colab": {
          "base_uri": "https://localhost:8080/"
        },
        "id": "d07gZ1E5APEO",
        "outputId": "cca7f953-ca36-4a1e-b90b-ff2badeb3cbb"
      },
      "source": [
        "#Check dimensions of vector\n",
        "vector.ndim"
      ],
      "execution_count": null,
      "outputs": [
        {
          "output_type": "execute_result",
          "data": {
            "text/plain": [
              "1"
            ]
          },
          "metadata": {},
          "execution_count": 9
        }
      ]
    },
    {
      "cell_type": "code",
      "metadata": {
        "colab": {
          "base_uri": "https://localhost:8080/"
        },
        "id": "nteww-PSAw0W",
        "outputId": "0393251a-d1f2-477d-a7f0-802f0fdb5539"
      },
      "source": [
        "#Create a matrix\n",
        "matrix = tf.constant([[10,7],[7,10]])\n",
        "matrix\n"
      ],
      "execution_count": null,
      "outputs": [
        {
          "output_type": "execute_result",
          "data": {
            "text/plain": [
              "<tf.Tensor: shape=(2, 2), dtype=int32, numpy=\n",
              "array([[10,  7],\n",
              "       [ 7, 10]], dtype=int32)>"
            ]
          },
          "metadata": {},
          "execution_count": 12
        }
      ]
    },
    {
      "cell_type": "code",
      "metadata": {
        "colab": {
          "base_uri": "https://localhost:8080/"
        },
        "id": "IRKTUl7hBA2H",
        "outputId": "61679e9e-681c-415c-ef6a-ea260d85efd5"
      },
      "source": [
        "#Check dimensions of matrix\n",
        "matrix.ndim"
      ],
      "execution_count": null,
      "outputs": [
        {
          "output_type": "execute_result",
          "data": {
            "text/plain": [
              "2"
            ]
          },
          "metadata": {},
          "execution_count": 11
        }
      ]
    },
    {
      "cell_type": "code",
      "metadata": {
        "colab": {
          "base_uri": "https://localhost:8080/"
        },
        "id": "jF7qOu-KCdtR",
        "outputId": "b72dd59e-3c0f-419c-8545-d833d73d5e71"
      },
      "source": [
        "#create a 3d tensor \n",
        "tensor_3 = tf.constant([\n",
        "                       [\n",
        "                        [111,112,113],[121,122,123],\n",
        "                        [211,212,213],[221,222,223]\n",
        "                       ],\n",
        "                       [\n",
        "                        [111,112,113],[121,122,123],\n",
        "                        [211,212,213],[221,222,223]\n",
        "                       ]\n",
        "                       ],dtype=tf.float32)\n",
        "tensor_3.ndim"
      ],
      "execution_count": null,
      "outputs": [
        {
          "output_type": "execute_result",
          "data": {
            "text/plain": [
              "3"
            ]
          },
          "metadata": {},
          "execution_count": 15
        }
      ]
    },
    {
      "cell_type": "code",
      "metadata": {
        "colab": {
          "base_uri": "https://localhost:8080/"
        },
        "id": "BIjTGuKpEYwT",
        "outputId": "ca3e2b6a-534e-4fa7-8fb4-8b5f4d7455a9"
      },
      "source": [
        "tensor_3"
      ],
      "execution_count": null,
      "outputs": [
        {
          "output_type": "execute_result",
          "data": {
            "text/plain": [
              "<tf.Tensor: shape=(2, 4, 3), dtype=float32, numpy=\n",
              "array([[[111., 112., 113.],\n",
              "        [121., 122., 123.],\n",
              "        [211., 212., 213.],\n",
              "        [221., 222., 223.]],\n",
              "\n",
              "       [[111., 112., 113.],\n",
              "        [121., 122., 123.],\n",
              "        [211., 212., 213.],\n",
              "        [221., 222., 223.]]], dtype=float32)>"
            ]
          },
          "metadata": {},
          "execution_count": 14
        }
      ]
    },
    {
      "cell_type": "code",
      "metadata": {
        "colab": {
          "base_uri": "https://localhost:8080/"
        },
        "id": "we6rbv68Fv3f",
        "collapsed": true,
        "outputId": "11d32b34-7b4b-4c00-d6b9-b93f44330105"
      },
      "source": [
        "#create a 3d tensor \n",
        "tensor_3 = tf.constant([\n",
        "                       [\n",
        "                        [111,112,113],[121,122,123],\n",
        "                        [211,212,213],[221,222,223]\n",
        "                       ],\n",
        "                       [\n",
        "                        [111,112,113],[121,122,123],\n",
        "                        [211,212,213],[221,222,223]\n",
        "                       ],\n",
        "                       [\n",
        "                        [111,112,113],[121,122,123],\n",
        "                        [211,212,213],[221,222,223]\n",
        "                       ]                        \n",
        "                       ],dtype=tf.float32)\n",
        "tensor_3"
      ],
      "execution_count": null,
      "outputs": [
        {
          "output_type": "execute_result",
          "data": {
            "text/plain": [
              "<tf.Tensor: shape=(3, 4, 3), dtype=float32, numpy=\n",
              "array([[[111., 112., 113.],\n",
              "        [121., 122., 123.],\n",
              "        [211., 212., 213.],\n",
              "        [221., 222., 223.]],\n",
              "\n",
              "       [[111., 112., 113.],\n",
              "        [121., 122., 123.],\n",
              "        [211., 212., 213.],\n",
              "        [221., 222., 223.]],\n",
              "\n",
              "       [[111., 112., 113.],\n",
              "        [121., 122., 123.],\n",
              "        [211., 212., 213.],\n",
              "        [221., 222., 223.]]], dtype=float32)>"
            ]
          },
          "metadata": {},
          "execution_count": 21
        }
      ]
    },
    {
      "cell_type": "code",
      "metadata": {
        "colab": {
          "base_uri": "https://localhost:8080/"
        },
        "id": "wKwlDYq7I6kw",
        "collapsed": true,
        "outputId": "b43be9db-d6f3-4b75-928a-50200601315a"
      },
      "source": [
        "# Create a 4d tensor \n",
        "tensor_4 = tf.constant(\n",
        "                       [ \n",
        "                       [\n",
        "                       [[1,2,3],[4,5,6]],\n",
        "                       [[1,2,3],[4,5,6]]\n",
        "                       ,\n",
        "                       [[1,2,3],[4,5,6]],\n",
        "                       [[1,2,3],[4,5,6]]\n",
        "                       ],\n",
        "                       [\n",
        "                       [[1,2,3],[4,5,6]],\n",
        "                       [[1,2,3],[4,5,6]]\n",
        "                       ,\n",
        "                       [[1,2,3],[4,5,6]],\n",
        "                       [[1,2,3],[4,5,6]]\n",
        "                       ]\n",
        "                       ]     \n",
        "                      )\n",
        "tensor_4\n"
      ],
      "execution_count": null,
      "outputs": [
        {
          "output_type": "execute_result",
          "data": {
            "text/plain": [
              "<tf.Tensor: shape=(2, 4, 2, 3), dtype=int32, numpy=\n",
              "array([[[[1, 2, 3],\n",
              "         [4, 5, 6]],\n",
              "\n",
              "        [[1, 2, 3],\n",
              "         [4, 5, 6]],\n",
              "\n",
              "        [[1, 2, 3],\n",
              "         [4, 5, 6]],\n",
              "\n",
              "        [[1, 2, 3],\n",
              "         [4, 5, 6]]],\n",
              "\n",
              "\n",
              "       [[[1, 2, 3],\n",
              "         [4, 5, 6]],\n",
              "\n",
              "        [[1, 2, 3],\n",
              "         [4, 5, 6]],\n",
              "\n",
              "        [[1, 2, 3],\n",
              "         [4, 5, 6]],\n",
              "\n",
              "        [[1, 2, 3],\n",
              "         [4, 5, 6]]]], dtype=int32)>"
            ]
          },
          "metadata": {},
          "execution_count": 3
        }
      ]
    },
    {
      "cell_type": "code",
      "metadata": {
        "colab": {
          "base_uri": "https://localhost:8080/"
        },
        "id": "ebmw5eT13zNI",
        "outputId": "fb3d3400-17f0-4486-a225-f27850d042f0"
      },
      "source": [
        "# Create a 0,1,2,3,4,5 dimensioanl tensors\n",
        "tensor_0 = tf.constant(0)\n",
        "tensor_1 = tf.constant([0])\n",
        "tensor_2 = tf.constant([[0]])\n",
        "tensor_3 = tf.constant([[[0]]])\n",
        "tensor_4 = tf.constant([[[[0]]]])\n",
        "tensor_5 = tf.constant([[[[[0]]]]])\n",
        "\n",
        "\n",
        "tensor_0,tensor_1,tensor_2,tensor_3,tensor_4,tensor_5 "
      ],
      "execution_count": null,
      "outputs": [
        {
          "output_type": "execute_result",
          "data": {
            "text/plain": [
              "(<tf.Tensor: shape=(), dtype=int32, numpy=0>,\n",
              " <tf.Tensor: shape=(1,), dtype=int32, numpy=array([0], dtype=int32)>,\n",
              " <tf.Tensor: shape=(1, 1), dtype=int32, numpy=array([[0]], dtype=int32)>,\n",
              " <tf.Tensor: shape=(1, 1, 1), dtype=int32, numpy=array([[[0]]], dtype=int32)>,\n",
              " <tf.Tensor: shape=(1, 1, 1, 1), dtype=int32, numpy=array([[[[0]]]], dtype=int32)>,\n",
              " <tf.Tensor: shape=(1, 1, 1, 1, 1), dtype=int32, numpy=array([[[[[0]]]]], dtype=int32)>)"
            ]
          },
          "metadata": {},
          "execution_count": 11
        }
      ]
    },
    {
      "cell_type": "markdown",
      "metadata": {
        "id": "sPEwzgnrNg6e"
      },
      "source": [
        "### Creating tensors with tf.variable\n",
        "\n",
        "New notation Variables 1st letter caps, constants first letter lower case \n",
        "tf.constant, tf.Variable \n"
      ]
    },
    {
      "cell_type": "code",
      "metadata": {
        "id": "dMm6-29z3JTy",
        "colab": {
          "base_uri": "https://localhost:8080/"
        },
        "outputId": "cc6d1822-6de4-4ae0-c534-c0fca0fd48cc"
      },
      "source": [
        "tf.Variable\n"
      ],
      "execution_count": null,
      "outputs": [
        {
          "output_type": "execute_result",
          "data": {
            "text/plain": [
              "tensorflow.python.ops.variables.Variable"
            ]
          },
          "metadata": {},
          "execution_count": 14
        }
      ]
    },
    {
      "cell_type": "code",
      "metadata": {
        "colab": {
          "base_uri": "https://localhost:8080/"
        },
        "id": "4quVIylp_CtQ",
        "outputId": "97a5b930-bb41-4892-ecd4-9f8a798f214c"
      },
      "source": [
        "changeable_tensor = tf.Variable([10,7])\n",
        "unchangeable_tensor = tf.constant([10,7])\n",
        "changeable_tensor, unchangeable_tensor \n"
      ],
      "execution_count": null,
      "outputs": [
        {
          "output_type": "execute_result",
          "data": {
            "text/plain": [
              "(<tf.Variable 'Variable:0' shape=(2,) dtype=int32, numpy=array([10,  7], dtype=int32)>,\n",
              " <tf.Tensor: shape=(2,), dtype=int32, numpy=array([10,  7], dtype=int32)>)"
            ]
          },
          "metadata": {},
          "execution_count": 37
        }
      ]
    },
    {
      "cell_type": "code",
      "metadata": {
        "colab": {
          "base_uri": "https://localhost:8080/"
        },
        "id": "RcfWkNSh_tsP",
        "outputId": "032a3370-047f-4a00-ede5-fdf1dd7e852d"
      },
      "source": [
        "changeable_tensor[1]"
      ],
      "execution_count": null,
      "outputs": [
        {
          "output_type": "execute_result",
          "data": {
            "text/plain": [
              "<tf.Tensor: shape=(), dtype=int32, numpy=7>"
            ]
          },
          "metadata": {},
          "execution_count": 32
        }
      ]
    },
    {
      "cell_type": "code",
      "metadata": {
        "colab": {
          "base_uri": "https://localhost:8080/"
        },
        "id": "PKso0pASAxWX",
        "outputId": "f57eba64-e894-4a42-b1df-616394bbcd7a"
      },
      "source": [
        "changeable_tensor[1].assign(100)"
      ],
      "execution_count": null,
      "outputs": [
        {
          "output_type": "execute_result",
          "data": {
            "text/plain": [
              "<tf.Variable 'UnreadVariable' shape=(2,) dtype=int32, numpy=array([ 10, 100], dtype=int32)>"
            ]
          },
          "metadata": {},
          "execution_count": 38
        }
      ]
    },
    {
      "cell_type": "code",
      "metadata": {
        "colab": {
          "base_uri": "https://localhost:8080/",
          "height": 283
        },
        "id": "0jKU_-TUB8hH",
        "outputId": "d616e320-26ce-4f28-de8e-03d80b7b539d"
      },
      "source": [
        "unchangeable_tensor[1].assign(-1)"
      ],
      "execution_count": null,
      "outputs": [
        {
          "output_type": "error",
          "ename": "AttributeError",
          "evalue": "ignored",
          "traceback": [
            "\u001b[0;31m---------------------------------------------------------------------------\u001b[0m",
            "\u001b[0;31mAttributeError\u001b[0m                            Traceback (most recent call last)",
            "\u001b[0;32m<ipython-input-43-a7ef5c328bb0>\u001b[0m in \u001b[0;36m<module>\u001b[0;34m()\u001b[0m\n\u001b[0;32m----> 1\u001b[0;31m \u001b[0munchangeable_tensor\u001b[0m\u001b[0;34m[\u001b[0m\u001b[0;36m1\u001b[0m\u001b[0;34m]\u001b[0m\u001b[0;34m.\u001b[0m\u001b[0massign\u001b[0m\u001b[0;34m(\u001b[0m\u001b[0;34m-\u001b[0m\u001b[0;36m1\u001b[0m\u001b[0;34m)\u001b[0m\u001b[0;34m\u001b[0m\u001b[0;34m\u001b[0m\u001b[0m\n\u001b[0m",
            "\u001b[0;32m/usr/local/lib/python3.7/dist-packages/tensorflow/python/framework/ops.py\u001b[0m in \u001b[0;36m__getattr__\u001b[0;34m(self, name)\u001b[0m\n\u001b[1;32m    399\u001b[0m         \u001b[0;32mfrom\u001b[0m \u001b[0mtensorflow\u001b[0m\u001b[0;34m.\u001b[0m\u001b[0mpython\u001b[0m\u001b[0;34m.\u001b[0m\u001b[0mops\u001b[0m\u001b[0;34m.\u001b[0m\u001b[0mnumpy_ops\u001b[0m \u001b[0;32mimport\u001b[0m \u001b[0mnp_config\u001b[0m\u001b[0;34m\u001b[0m\u001b[0;34m\u001b[0m\u001b[0m\n\u001b[1;32m    400\u001b[0m         np_config.enable_numpy_behavior()\"\"\".format(type(self).__name__, name))\n\u001b[0;32m--> 401\u001b[0;31m     \u001b[0mself\u001b[0m\u001b[0;34m.\u001b[0m\u001b[0m__getattribute__\u001b[0m\u001b[0;34m(\u001b[0m\u001b[0mname\u001b[0m\u001b[0;34m)\u001b[0m\u001b[0;34m\u001b[0m\u001b[0;34m\u001b[0m\u001b[0m\n\u001b[0m\u001b[1;32m    402\u001b[0m \u001b[0;34m\u001b[0m\u001b[0m\n\u001b[1;32m    403\u001b[0m   \u001b[0;34m@\u001b[0m\u001b[0mstaticmethod\u001b[0m\u001b[0;34m\u001b[0m\u001b[0;34m\u001b[0m\u001b[0m\n",
            "\u001b[0;31mAttributeError\u001b[0m: 'tensorflow.python.framework.ops.EagerTensor' object has no attribute 'assign'"
          ]
        }
      ]
    },
    {
      "cell_type": "code",
      "metadata": {
        "colab": {
          "base_uri": "https://localhost:8080/"
        },
        "id": "k9X83sMRCIdc",
        "outputId": "1e69a871-6e14-4e13-bdd2-cb9b6c6cf6bb"
      },
      "source": [
        "chngble_tensor=tf.Variable([[10],[5]])\n",
        "chngble_tensor"
      ],
      "execution_count": null,
      "outputs": [
        {
          "output_type": "execute_result",
          "data": {
            "text/plain": [
              "<tf.Variable 'Variable:0' shape=(2, 1) dtype=int32, numpy=\n",
              "array([[10],\n",
              "       [ 5]], dtype=int32)>"
            ]
          },
          "metadata": {},
          "execution_count": 44
        }
      ]
    },
    {
      "cell_type": "code",
      "metadata": {
        "colab": {
          "base_uri": "https://localhost:8080/"
        },
        "id": "18Fw2bRzEucj",
        "outputId": "e4e2dcc4-a94d-42a4-9370-adfd13fc1ac8"
      },
      "source": [
        "chngble_tensor[1].assign([6])\n",
        "chngble_tensor"
      ],
      "execution_count": null,
      "outputs": [
        {
          "output_type": "execute_result",
          "data": {
            "text/plain": [
              "<tf.Variable 'Variable:0' shape=(2, 1) dtype=int32, numpy=\n",
              "array([[6],\n",
              "       [6]], dtype=int32)>"
            ]
          },
          "metadata": {},
          "execution_count": 48
        }
      ]
    },
    {
      "cell_type": "code",
      "metadata": {
        "colab": {
          "base_uri": "https://localhost:8080/"
        },
        "id": "OerMhf55FG0F",
        "outputId": "808bd7f2-a0b3-4be1-8ef8-9b0163ce4c2f"
      },
      "source": [
        "# How to change elements in a multi dimensional tensor ?\n",
        "chngble_tensor=tf.Variable([[1,2],[3,4]])\n",
        "chngble_tensor[0,2:2]\n"
      ],
      "execution_count": 2,
      "outputs": [
        {
          "output_type": "execute_result",
          "data": {
            "text/plain": [
              "<tf.Tensor: shape=(0,), dtype=int32, numpy=array([], dtype=int32)>"
            ]
          },
          "metadata": {},
          "execution_count": 2
        }
      ]
    },
    {
      "cell_type": "code",
      "metadata": {
        "colab": {
          "base_uri": "https://localhost:8080/"
        },
        "id": "4KhbZoVP2TEE",
        "outputId": "3b3fa60d-3639-4aae-90d1-1905579dfe0b"
      },
      "source": [
        "# Can pick elements using .numpy \n",
        "# Works fine but cannot use assign to change its value \n",
        "chngble_tensor=tf.Variable([[[1,2],[3,4]],[[5,6],[7,8]]])\n",
        "x1=chngble_tensor.numpy()[0][1][1]\n",
        "x1\n",
        "\n"
      ],
      "execution_count": 19,
      "outputs": [
        {
          "output_type": "execute_result",
          "data": {
            "text/plain": [
              "4"
            ]
          },
          "metadata": {},
          "execution_count": 19
        }
      ]
    },
    {
      "cell_type": "code",
      "metadata": {
        "colab": {
          "base_uri": "https://localhost:8080/"
        },
        "id": "ir13vYWZ4CK7",
        "outputId": "3a6e1dc3-d118-428e-c573-1ad78130b373"
      },
      "source": [
        "# Extracting parts of a tensor \n",
        "# Negative indexing to extract from end\n",
        "# Going forward start at 0 \n",
        "# Going backwards starts at -1 ! \n",
        "# And a direct assign works !!\n",
        "x = tf.Variable([[[1., 2.], [3., 4. ], [5. , 6. ]],\n",
        "                 [[7., 8.], [9., 10.], [11., 12.]]])\n",
        "x[0, 2, 1].assign(100)\n",
        "x[1, 1, -2].assign(200)\n",
        "\n",
        "x,x[0, 2, 1], x[1,1,-2]"
      ],
      "execution_count": 41,
      "outputs": [
        {
          "output_type": "execute_result",
          "data": {
            "text/plain": [
              "(<tf.Variable 'Variable:0' shape=(2, 3, 2) dtype=float32, numpy=\n",
              " array([[[  1.,   2.],\n",
              "         [  3.,   4.],\n",
              "         [  5., 100.]],\n",
              " \n",
              "        [[  7.,   8.],\n",
              "         [200.,  10.],\n",
              "         [ 11.,  12.]]], dtype=float32)>,\n",
              " <tf.Tensor: shape=(), dtype=float32, numpy=100.0>,\n",
              " <tf.Tensor: shape=(), dtype=float32, numpy=200.0>)"
            ]
          },
          "metadata": {},
          "execution_count": 41
        }
      ]
    },
    {
      "cell_type": "code",
      "metadata": {
        "colab": {
          "base_uri": "https://localhost:8080/"
        },
        "id": "mHRDtw1j7Wq6",
        "outputId": "9ae02680-269a-4843-b790-0cfc0bf4a00f"
      },
      "source": [
        "# Can assign a whole chunk of stuff !!!! not just an individual element \n",
        "x = tf.Variable([[[1., 2.], [3., 4. ], [5. , 6. ]],\n",
        "                 [[7., 8.], [9., 10.], [11., 12.]]])\n",
        "\n",
        "x[0,1].assign([300,400])\n",
        "x,x[0,0]"
      ],
      "execution_count": 53,
      "outputs": [
        {
          "output_type": "execute_result",
          "data": {
            "text/plain": [
              "(<tf.Variable 'Variable:0' shape=(2, 3, 2) dtype=float32, numpy=\n",
              " array([[[  1.,   2.],\n",
              "         [300., 400.],\n",
              "         [  5.,   6.]],\n",
              " \n",
              "        [[  7.,   8.],\n",
              "         [  9.,  10.],\n",
              "         [ 11.,  12.]]], dtype=float32)>,\n",
              " <tf.Tensor: shape=(2,), dtype=float32, numpy=array([1., 2.], dtype=float32)>)"
            ]
          },
          "metadata": {},
          "execution_count": 53
        }
      ]
    },
    {
      "cell_type": "code",
      "metadata": {
        "colab": {
          "base_uri": "https://localhost:8080/"
        },
        "id": "1jKIwjXD6HxK",
        "outputId": "bf8d2940-a091-4ac3-bab5-0bb6446cbdd8"
      },
      "source": [
        "# Extracting parts of a tensor \n",
        "# https://sodocumentation.net/tensorflow/topic/2511/tensor-indexing\n",
        "# Use the indexing operator (based on tf. slice() ) to extract a contiguous slice from the tensor. ...\n",
        "# Use the tf. gather() op to select a non-contiguous slice from the tensor.\n",
        "# x has shape [2, 3, 2]\n",
        "# Negative indexing to extract from end \n",
        "# The 2nd part of the slice gives you the final shape !!\n",
        "x = tf.constant([[[1., 2.], [3., 4. ], [5. , 6. ]],\n",
        "                 [[7., 8.], [9., 10.], [11., 12.]]])\n",
        "\n",
        "# Extracts x[0, 1:2, :] == [[[ 3.,  4.]]]\n",
        "res1 = tf.slice(x, [0, 1, 0], [1, 1, -1])\n",
        "res2 = tf.slice(x, [0, 1, 0], [1, 1, 2])\n",
        "res3 = tf.slice(x, [0, 1, 0], [2, 1, 2])\n",
        "res4 = tf.slice(x, [0, 1, 1], [1, -1, -1])\n",
        "\n",
        "x,res1, res2, res3, res4\n",
        "\n",
        "# The shape from slice is not the same as using an index \n",
        "# So what does slice do exactly ??\n",
        "# Its a from , and the step sieze notation \n",
        "# NOT a from, to notation !\n",
        "# [0,1,0],[1,1,-1] - means \n",
        "# Start at 0 ags get 1 slice  [[1., 2.], [3., 4. ], [5. , 6. ]]\n",
        "# then start at 1 and get one slice of that = [3., 4. ]\n",
        "# then get start at 0 and get all the slices of that = [3.,4.]\n",
        "# Note the shapes ...they are still 3 dimensional !!! like the original one "
      ],
      "execution_count": 77,
      "outputs": [
        {
          "output_type": "execute_result",
          "data": {
            "text/plain": [
              "(<tf.Tensor: shape=(2, 3, 2), dtype=float32, numpy=\n",
              " array([[[ 1.,  2.],\n",
              "         [ 3.,  4.],\n",
              "         [ 5.,  6.]],\n",
              " \n",
              "        [[ 7.,  8.],\n",
              "         [ 9., 10.],\n",
              "         [11., 12.]]], dtype=float32)>,\n",
              " <tf.Tensor: shape=(1, 1, 2), dtype=float32, numpy=array([[[3., 4.]]], dtype=float32)>,\n",
              " <tf.Tensor: shape=(1, 1, 2), dtype=float32, numpy=array([[[3., 4.]]], dtype=float32)>,\n",
              " <tf.Tensor: shape=(2, 1, 2), dtype=float32, numpy=\n",
              " array([[[ 3.,  4.]],\n",
              " \n",
              "        [[ 9., 10.]]], dtype=float32)>,\n",
              " <tf.Tensor: shape=(1, 2, 1), dtype=float32, numpy=\n",
              " array([[[4.],\n",
              "         [6.]]], dtype=float32)>)"
            ]
          },
          "metadata": {},
          "execution_count": 77
        }
      ]
    },
    {
      "cell_type": "code",
      "metadata": {
        "colab": {
          "base_uri": "https://localhost:8080/"
        },
        "id": "EDHkGtziCobj",
        "outputId": "5f6a8cea-5c45-4a8f-b452-bf00f907f2c8"
      },
      "source": [
        "# Using tf.gather \n",
        "import numpy as np\n",
        "data = np.reshape(np.arange(30), [5, 6])\n",
        "params = tf.constant(data)\n",
        "indices = tf.constant([0, 3])\n",
        "selected = tf.gather(params, indices)\n",
        "params, indices, selected\n"
      ],
      "execution_count": 81,
      "outputs": [
        {
          "output_type": "execute_result",
          "data": {
            "text/plain": [
              "(<tf.Tensor: shape=(5, 6), dtype=int64, numpy=\n",
              " array([[ 0,  1,  2,  3,  4,  5],\n",
              "        [ 6,  7,  8,  9, 10, 11],\n",
              "        [12, 13, 14, 15, 16, 17],\n",
              "        [18, 19, 20, 21, 22, 23],\n",
              "        [24, 25, 26, 27, 28, 29]])>,\n",
              " <tf.Tensor: shape=(2,), dtype=int32, numpy=array([0, 3], dtype=int32)>,\n",
              " <tf.Tensor: shape=(2, 6), dtype=int64, numpy=\n",
              " array([[ 0,  1,  2,  3,  4,  5],\n",
              "        [18, 19, 20, 21, 22, 23]])>)"
            ]
          },
          "metadata": {},
          "execution_count": 81
        }
      ]
    },
    {
      "cell_type": "code",
      "metadata": {
        "colab": {
          "base_uri": "https://localhost:8080/"
        },
        "id": "coNQdvHkDoLO",
        "outputId": "8bf78409-8c9e-4dc3-de0a-640f3ed738ed"
      },
      "source": [
        "# Note that indices can have any shape, but the elements stored in indices always only refer to the first dimension of params. \n",
        "# E.g. if you want to retrieve both the 1st and 3rd row and the 2nd and 4th row at the same time, you can do this:\n",
        "\n",
        "indices1 = tf.constant([[0, 2], [1, 3]])\n",
        "indices2 = tf.constant([0,2,1,3])\n",
        "\n",
        "selected1 = tf.gather(params, indices1)\n",
        "selected2 = tf.gather(params, indices2)\n",
        "\n",
        "selected1, selected2 "
      ],
      "execution_count": 85,
      "outputs": [
        {
          "output_type": "execute_result",
          "data": {
            "text/plain": [
              "(<tf.Tensor: shape=(2, 2, 6), dtype=int64, numpy=\n",
              " array([[[ 0,  1,  2,  3,  4,  5],\n",
              "         [12, 13, 14, 15, 16, 17]],\n",
              " \n",
              "        [[ 6,  7,  8,  9, 10, 11],\n",
              "         [18, 19, 20, 21, 22, 23]]])>,\n",
              " <tf.Tensor: shape=(4, 6), dtype=int64, numpy=\n",
              " array([[ 0,  1,  2,  3,  4,  5],\n",
              "        [12, 13, 14, 15, 16, 17],\n",
              "        [ 6,  7,  8,  9, 10, 11],\n",
              "        [18, 19, 20, 21, 22, 23]])>)"
            ]
          },
          "metadata": {},
          "execution_count": 85
        }
      ]
    },
    {
      "cell_type": "code",
      "metadata": {
        "colab": {
          "base_uri": "https://localhost:8080/"
        },
        "id": "tMTT6MIsG3KR",
        "outputId": "a48efd99-2c0b-4afe-bf4e-4346ff858a7d"
      },
      "source": [
        "# Generating a list \n",
        "y1=list(range(4, -3,-1))\n",
        "y2=list(range(4,-1,-2))\n",
        "y3=list(range(4,-1,-1))\n",
        "y1,y2,y3\n"
      ],
      "execution_count": 116,
      "outputs": [
        {
          "output_type": "execute_result",
          "data": {
            "text/plain": [
              "([4, 3, 2, 1, 0, -1, -2], [4, 2, 0], [4, 3, 2, 1, 0])"
            ]
          },
          "metadata": {},
          "execution_count": 116
        }
      ]
    },
    {
      "cell_type": "code",
      "metadata": {
        "colab": {
          "base_uri": "https://localhost:8080/"
        },
        "id": "GUiLtw00Fpee",
        "outputId": "da83608c-3da0-45f5-9479-0bc72de132c6"
      },
      "source": [
        "# How to reverse all rows\n",
        "import numpy as np\n",
        "x=np.reshape(np.arange(30),[5,6])\n",
        "indices = tf.constant(list(range(4, -1, -1)))\n",
        "selected = tf.gather(params, indices)\n",
        "x,indices, selected"
      ],
      "execution_count": 117,
      "outputs": [
        {
          "output_type": "execute_result",
          "data": {
            "text/plain": [
              "(array([[ 0,  1,  2,  3,  4,  5],\n",
              "        [ 6,  7,  8,  9, 10, 11],\n",
              "        [12, 13, 14, 15, 16, 17],\n",
              "        [18, 19, 20, 21, 22, 23],\n",
              "        [24, 25, 26, 27, 28, 29]]),\n",
              " <tf.Tensor: shape=(5,), dtype=int32, numpy=array([4, 3, 2, 1, 0], dtype=int32)>,\n",
              " <tf.Tensor: shape=(5, 6), dtype=int64, numpy=\n",
              " array([[24, 25, 26, 27, 28, 29],\n",
              "        [18, 19, 20, 21, 22, 23],\n",
              "        [12, 13, 14, 15, 16, 17],\n",
              "        [ 6,  7,  8,  9, 10, 11],\n",
              "        [ 0,  1,  2,  3,  4,  5]])>)"
            ]
          },
          "metadata": {},
          "execution_count": 117
        }
      ]
    },
    {
      "cell_type": "code",
      "metadata": {
        "id": "0K4--dnSJbtU"
      },
      "source": [
        "#If you need access to any other than the first dimension, you could work around that using tf.transpose: E.g. to gather columns instead of rows in our example, you could do this:\n",
        "\n",
        "indices = tf.constant([0, 2])\n",
        "selected = tf.gather(tf.transpose(params, [1, 0]), indices)\n",
        "selected_t = tf.transpose(selected, [1, 0]) \n",
        "#However, tf.transpose is rather expensive, so it might be better to use tf.gather_nd for this use case.\n",
        "\n",
        "# ??????????????????"
      ],
      "execution_count": null,
      "outputs": []
    }
  ]
}